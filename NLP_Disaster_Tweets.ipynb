{
  "cells": [
    {
      "cell_type": "markdown",
      "metadata": {
        "id": "view-in-github",
        "colab_type": "text"
      },
      "source": [
        "<a href=\"https://colab.research.google.com/github/juliuswiscmsba/NLP-Disaster-Tweets/blob/main/NLP_Disaster_Tweets.ipynb\" target=\"_parent\"><img src=\"https://colab.research.google.com/assets/colab-badge.svg\" alt=\"Open In Colab\"/></a>"
      ]
    },
    {
      "cell_type": "markdown",
      "source": [
        "NLP Disaster Tweets from Kaggle\n",
        "\n",
        "BERT to deal with text, and Random Forest work on other columns (combining the result from BERT).\n",
        "\n",
        "REFERENCE:\n",
        "1. https://www.kaggle.com/code/tmishinev/nlp-d-tweets-keras-bert-0-83/notebook\n",
        "2. https://www.kaggle.com/code/datafan07/disaster-tweets-nlp-eda-bert-with-transformers#Building-the-Bert-Model\n",
        "3. https://towardsdatascience.com/multi-class-text-classification-with-lstm-1590bee1bd17\n",
        "4. https://towardsdatascience.com/bert-in-keras-with-tensorflow-hub-76bcbc9417b\n",
        "5. https://swatimeena989.medium.com/bert-text-classification-using-keras-903671e0207d"
      ],
      "metadata": {
        "id": "3T3rOeIZ8bR2"
      },
      "id": "3T3rOeIZ8bR2"
    },
    {
      "cell_type": "code",
      "execution_count": 1,
      "id": "0d922465",
      "metadata": {
        "id": "0d922465"
      },
      "outputs": [],
      "source": [
        "import pandas as pd\n",
        "import numpy as np\n",
        "import matplotlib.pyplot as plt\n",
        "import seaborn as sns\n",
        "import re\n",
        "import string\n",
        "\n",
        "import nltk\n",
        "from nltk.corpus import stopwords\n",
        "from nltk.stem import WordNetLemmatizer\n",
        "\n",
        "import tensorflow as tf\n",
        "import keras\n",
        "\n",
        "from keras.preprocessing.text import Tokenizer\n",
        "from keras.preprocessing.sequence import pad_sequences\n",
        "from keras.models import Model, Sequential\n",
        "from keras.layers import GRU, Input, Dense, Activation, RepeatVector, Bidirectional, LSTM, Dropout, Embedding\n",
        "from tensorflow.python.keras.layers.embeddings import Embedding \n",
        "from keras.losses import sparse_categorical_crossentropy\n",
        "from keras.preprocessing import sequence\n",
        "from keras.callbacks import EarlyStopping\n",
        "from tensorflow.python.client import device_lib\n",
        "\n",
        "from sklearn.model_selection import train_test_split, StratifiedKFold\n",
        "from sklearn.metrics import confusion_matrix, classification_report, f1_score, accuracy_score\n",
        "from sklearn.preprocessing import LabelEncoder\n",
        "from sklearn.ensemble import RandomForestClassifier\n"
      ]
    },
    {
      "cell_type": "code",
      "source": [
        "nltk.download(['stopwords',\n",
        "               'wordnet',\n",
        "               'omw-1.4'])"
      ],
      "metadata": {
        "colab": {
          "base_uri": "https://localhost:8080/"
        },
        "id": "hKtuKJC8MaAm",
        "outputId": "fdb11bb7-049f-4466-dd65-2bc123192472"
      },
      "id": "hKtuKJC8MaAm",
      "execution_count": 2,
      "outputs": [
        {
          "output_type": "stream",
          "name": "stderr",
          "text": [
            "[nltk_data] Downloading package stopwords to /root/nltk_data...\n",
            "[nltk_data]   Unzipping corpora/stopwords.zip.\n",
            "[nltk_data] Downloading package wordnet to /root/nltk_data...\n",
            "[nltk_data] Downloading package omw-1.4 to /root/nltk_data...\n"
          ]
        },
        {
          "output_type": "execute_result",
          "data": {
            "text/plain": [
              "True"
            ]
          },
          "metadata": {},
          "execution_count": 2
        }
      ]
    },
    {
      "cell_type": "code",
      "source": [
        "from google.colab import files\n",
        "train = files.upload()\n",
        "test = files.upload()"
      ],
      "metadata": {
        "colab": {
          "resources": {
            "http://localhost:8080/nbextensions/google.colab/files.js": {
              "data": "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",
              "ok": true,
              "headers": [
                [
                  "content-type",
                  "application/javascript"
                ]
              ],
              "status": 200,
              "status_text": ""
            }
          },
          "base_uri": "https://localhost:8080/",
          "height": 128
        },
        "id": "Q8lpzn4hKOMy",
        "outputId": "d3855326-81fa-4f30-c7b2-3fba57c17307"
      },
      "id": "Q8lpzn4hKOMy",
      "execution_count": 3,
      "outputs": [
        {
          "output_type": "display_data",
          "data": {
            "text/plain": [
              "<IPython.core.display.HTML object>"
            ],
            "text/html": [
              "\n",
              "     <input type=\"file\" id=\"files-9a01b960-552a-47b3-aaa1-c9cb0af188b3\" name=\"files[]\" multiple disabled\n",
              "        style=\"border:none\" />\n",
              "     <output id=\"result-9a01b960-552a-47b3-aaa1-c9cb0af188b3\">\n",
              "      Upload widget is only available when the cell has been executed in the\n",
              "      current browser session. Please rerun this cell to enable.\n",
              "      </output>\n",
              "      <script src=\"/nbextensions/google.colab/files.js\"></script> "
            ]
          },
          "metadata": {}
        },
        {
          "output_type": "stream",
          "name": "stdout",
          "text": [
            "Saving train.csv to train.csv\n"
          ]
        },
        {
          "output_type": "display_data",
          "data": {
            "text/plain": [
              "<IPython.core.display.HTML object>"
            ],
            "text/html": [
              "\n",
              "     <input type=\"file\" id=\"files-00fe93d9-e856-4f0e-89db-6a471540f6f9\" name=\"files[]\" multiple disabled\n",
              "        style=\"border:none\" />\n",
              "     <output id=\"result-00fe93d9-e856-4f0e-89db-6a471540f6f9\">\n",
              "      Upload widget is only available when the cell has been executed in the\n",
              "      current browser session. Please rerun this cell to enable.\n",
              "      </output>\n",
              "      <script src=\"/nbextensions/google.colab/files.js\"></script> "
            ]
          },
          "metadata": {}
        },
        {
          "output_type": "stream",
          "name": "stdout",
          "text": [
            "Saving test.csv to test.csv\n"
          ]
        }
      ]
    },
    {
      "cell_type": "code",
      "execution_count": 30,
      "id": "53211426",
      "metadata": {
        "id": "53211426"
      },
      "outputs": [],
      "source": [
        "train = pd.read_csv(\"train.csv\")\n",
        "test = pd.read_csv(\"test.csv\")"
      ]
    },
    {
      "cell_type": "code",
      "execution_count": 31,
      "id": "69be5224",
      "metadata": {
        "colab": {
          "base_uri": "https://localhost:8080/",
          "height": 206
        },
        "id": "69be5224",
        "outputId": "1eaa6365-af03-4dc0-e524-c44f052eb8c8"
      },
      "outputs": [
        {
          "output_type": "execute_result",
          "data": {
            "text/plain": [
              "   id keyword location                                               text  \\\n",
              "0   1     NaN      NaN  Our Deeds are the Reason of this #earthquake M...   \n",
              "1   4     NaN      NaN             Forest fire near La Ronge Sask. Canada   \n",
              "2   5     NaN      NaN  All residents asked to 'shelter in place' are ...   \n",
              "3   6     NaN      NaN  13,000 people receive #wildfires evacuation or...   \n",
              "4   7     NaN      NaN  Just got sent this photo from Ruby #Alaska as ...   \n",
              "\n",
              "   target  \n",
              "0       1  \n",
              "1       1  \n",
              "2       1  \n",
              "3       1  \n",
              "4       1  "
            ],
            "text/html": [
              "\n",
              "  <div id=\"df-3b725fe3-2f8f-485c-a310-824aaef1e7fd\">\n",
              "    <div class=\"colab-df-container\">\n",
              "      <div>\n",
              "<style scoped>\n",
              "    .dataframe tbody tr th:only-of-type {\n",
              "        vertical-align: middle;\n",
              "    }\n",
              "\n",
              "    .dataframe tbody tr th {\n",
              "        vertical-align: top;\n",
              "    }\n",
              "\n",
              "    .dataframe thead th {\n",
              "        text-align: right;\n",
              "    }\n",
              "</style>\n",
              "<table border=\"1\" class=\"dataframe\">\n",
              "  <thead>\n",
              "    <tr style=\"text-align: right;\">\n",
              "      <th></th>\n",
              "      <th>id</th>\n",
              "      <th>keyword</th>\n",
              "      <th>location</th>\n",
              "      <th>text</th>\n",
              "      <th>target</th>\n",
              "    </tr>\n",
              "  </thead>\n",
              "  <tbody>\n",
              "    <tr>\n",
              "      <th>0</th>\n",
              "      <td>1</td>\n",
              "      <td>NaN</td>\n",
              "      <td>NaN</td>\n",
              "      <td>Our Deeds are the Reason of this #earthquake M...</td>\n",
              "      <td>1</td>\n",
              "    </tr>\n",
              "    <tr>\n",
              "      <th>1</th>\n",
              "      <td>4</td>\n",
              "      <td>NaN</td>\n",
              "      <td>NaN</td>\n",
              "      <td>Forest fire near La Ronge Sask. Canada</td>\n",
              "      <td>1</td>\n",
              "    </tr>\n",
              "    <tr>\n",
              "      <th>2</th>\n",
              "      <td>5</td>\n",
              "      <td>NaN</td>\n",
              "      <td>NaN</td>\n",
              "      <td>All residents asked to 'shelter in place' are ...</td>\n",
              "      <td>1</td>\n",
              "    </tr>\n",
              "    <tr>\n",
              "      <th>3</th>\n",
              "      <td>6</td>\n",
              "      <td>NaN</td>\n",
              "      <td>NaN</td>\n",
              "      <td>13,000 people receive #wildfires evacuation or...</td>\n",
              "      <td>1</td>\n",
              "    </tr>\n",
              "    <tr>\n",
              "      <th>4</th>\n",
              "      <td>7</td>\n",
              "      <td>NaN</td>\n",
              "      <td>NaN</td>\n",
              "      <td>Just got sent this photo from Ruby #Alaska as ...</td>\n",
              "      <td>1</td>\n",
              "    </tr>\n",
              "  </tbody>\n",
              "</table>\n",
              "</div>\n",
              "      <button class=\"colab-df-convert\" onclick=\"convertToInteractive('df-3b725fe3-2f8f-485c-a310-824aaef1e7fd')\"\n",
              "              title=\"Convert this dataframe to an interactive table.\"\n",
              "              style=\"display:none;\">\n",
              "        \n",
              "  <svg xmlns=\"http://www.w3.org/2000/svg\" height=\"24px\"viewBox=\"0 0 24 24\"\n",
              "       width=\"24px\">\n",
              "    <path d=\"M0 0h24v24H0V0z\" fill=\"none\"/>\n",
              "    <path d=\"M18.56 5.44l.94 2.06.94-2.06 2.06-.94-2.06-.94-.94-2.06-.94 2.06-2.06.94zm-11 1L8.5 8.5l.94-2.06 2.06-.94-2.06-.94L8.5 2.5l-.94 2.06-2.06.94zm10 10l.94 2.06.94-2.06 2.06-.94-2.06-.94-.94-2.06-.94 2.06-2.06.94z\"/><path d=\"M17.41 7.96l-1.37-1.37c-.4-.4-.92-.59-1.43-.59-.52 0-1.04.2-1.43.59L10.3 9.45l-7.72 7.72c-.78.78-.78 2.05 0 2.83L4 21.41c.39.39.9.59 1.41.59.51 0 1.02-.2 1.41-.59l7.78-7.78 2.81-2.81c.8-.78.8-2.07 0-2.86zM5.41 20L4 18.59l7.72-7.72 1.47 1.35L5.41 20z\"/>\n",
              "  </svg>\n",
              "      </button>\n",
              "      \n",
              "  <style>\n",
              "    .colab-df-container {\n",
              "      display:flex;\n",
              "      flex-wrap:wrap;\n",
              "      gap: 12px;\n",
              "    }\n",
              "\n",
              "    .colab-df-convert {\n",
              "      background-color: #E8F0FE;\n",
              "      border: none;\n",
              "      border-radius: 50%;\n",
              "      cursor: pointer;\n",
              "      display: none;\n",
              "      fill: #1967D2;\n",
              "      height: 32px;\n",
              "      padding: 0 0 0 0;\n",
              "      width: 32px;\n",
              "    }\n",
              "\n",
              "    .colab-df-convert:hover {\n",
              "      background-color: #E2EBFA;\n",
              "      box-shadow: 0px 1px 2px rgba(60, 64, 67, 0.3), 0px 1px 3px 1px rgba(60, 64, 67, 0.15);\n",
              "      fill: #174EA6;\n",
              "    }\n",
              "\n",
              "    [theme=dark] .colab-df-convert {\n",
              "      background-color: #3B4455;\n",
              "      fill: #D2E3FC;\n",
              "    }\n",
              "\n",
              "    [theme=dark] .colab-df-convert:hover {\n",
              "      background-color: #434B5C;\n",
              "      box-shadow: 0px 1px 3px 1px rgba(0, 0, 0, 0.15);\n",
              "      filter: drop-shadow(0px 1px 2px rgba(0, 0, 0, 0.3));\n",
              "      fill: #FFFFFF;\n",
              "    }\n",
              "  </style>\n",
              "\n",
              "      <script>\n",
              "        const buttonEl =\n",
              "          document.querySelector('#df-3b725fe3-2f8f-485c-a310-824aaef1e7fd button.colab-df-convert');\n",
              "        buttonEl.style.display =\n",
              "          google.colab.kernel.accessAllowed ? 'block' : 'none';\n",
              "\n",
              "        async function convertToInteractive(key) {\n",
              "          const element = document.querySelector('#df-3b725fe3-2f8f-485c-a310-824aaef1e7fd');\n",
              "          const dataTable =\n",
              "            await google.colab.kernel.invokeFunction('convertToInteractive',\n",
              "                                                     [key], {});\n",
              "          if (!dataTable) return;\n",
              "\n",
              "          const docLinkHtml = 'Like what you see? Visit the ' +\n",
              "            '<a target=\"_blank\" href=https://colab.research.google.com/notebooks/data_table.ipynb>data table notebook</a>'\n",
              "            + ' to learn more about interactive tables.';\n",
              "          element.innerHTML = '';\n",
              "          dataTable['output_type'] = 'display_data';\n",
              "          await google.colab.output.renderOutput(dataTable, element);\n",
              "          const docLink = document.createElement('div');\n",
              "          docLink.innerHTML = docLinkHtml;\n",
              "          element.appendChild(docLink);\n",
              "        }\n",
              "      </script>\n",
              "    </div>\n",
              "  </div>\n",
              "  "
            ]
          },
          "metadata": {},
          "execution_count": 31
        }
      ],
      "source": [
        "train.head()"
      ]
    },
    {
      "cell_type": "code",
      "source": [
        "#Deal with NA\n",
        "train.keyword.fillna('Unknown', inplace=True)\n",
        "train.location.fillna('Unknown', inplace=True)\n",
        "test.keyword.fillna('Unknown', inplace=True)\n",
        "test.location.fillna('Unknown', inplace=True)"
      ],
      "metadata": {
        "id": "StSC7ZBWDTOS"
      },
      "id": "StSC7ZBWDTOS",
      "execution_count": 32,
      "outputs": []
    },
    {
      "cell_type": "code",
      "source": [
        "#Observe 'Keywords' column\n",
        "train.keyword.value_counts().head(20)\n",
        "#Some unknown value \n",
        "#Lemmatize seems to be a good method to deal with it. (weapon and weapons)"
      ],
      "metadata": {
        "colab": {
          "base_uri": "https://localhost:8080/"
        },
        "id": "Qbh2b5-hmHcJ",
        "outputId": "c13b6c23-2964-4d33-b2e6-2bc83739ab40"
      },
      "id": "Qbh2b5-hmHcJ",
      "execution_count": 33,
      "outputs": [
        {
          "output_type": "execute_result",
          "data": {
            "text/plain": [
              "Unknown        61\n",
              "fatalities     45\n",
              "deluge         42\n",
              "armageddon     42\n",
              "sinking        41\n",
              "damage         41\n",
              "harm           41\n",
              "body%20bags    41\n",
              "evacuate       40\n",
              "fear           40\n",
              "outbreak       40\n",
              "siren          40\n",
              "twister        40\n",
              "windstorm      40\n",
              "collided       40\n",
              "sinkhole       39\n",
              "sunk           39\n",
              "hellfire       39\n",
              "weapon         39\n",
              "weapons        39\n",
              "Name: keyword, dtype: int64"
            ]
          },
          "metadata": {},
          "execution_count": 33
        }
      ]
    },
    {
      "cell_type": "code",
      "source": [
        "#Observe 'location' column\n",
        "train.location.value_counts().head(20)\n",
        "#Too many unknown value, we should drop this column when running a ML or DL model, otherwise it may create noise that impact our predict."
      ],
      "metadata": {
        "colab": {
          "base_uri": "https://localhost:8080/"
        },
        "id": "x8l9DMIRCHg_",
        "outputId": "faca8bfb-4e95-4ce6-a52b-cbecc979e19c"
      },
      "id": "x8l9DMIRCHg_",
      "execution_count": 34,
      "outputs": [
        {
          "output_type": "execute_result",
          "data": {
            "text/plain": [
              "Unknown            2535\n",
              "USA                 104\n",
              "New York             71\n",
              "United States        50\n",
              "London               45\n",
              "Canada               29\n",
              "Nigeria              28\n",
              "UK                   27\n",
              "Los Angeles, CA      26\n",
              "India                24\n",
              "Mumbai               22\n",
              "Washington, DC       21\n",
              "Kenya                20\n",
              "Worldwide            19\n",
              "Chicago, IL          18\n",
              "Australia            18\n",
              "California           17\n",
              "Everywhere           15\n",
              "California, USA      15\n",
              "New York, NY         15\n",
              "Name: location, dtype: int64"
            ]
          },
          "metadata": {},
          "execution_count": 34
        }
      ]
    },
    {
      "cell_type": "code",
      "execution_count": 35,
      "id": "d1c1fe25",
      "metadata": {
        "colab": {
          "base_uri": "https://localhost:8080/",
          "height": 420
        },
        "id": "d1c1fe25",
        "outputId": "097950a6-45ff-4c92-e87e-2536fcd2d2cc"
      },
      "outputs": [
        {
          "output_type": "execute_result",
          "data": {
            "text/plain": [
              "Text(0.5, 1.0, 'Distribution of words in each text')"
            ]
          },
          "metadata": {},
          "execution_count": 35
        },
        {
          "output_type": "display_data",
          "data": {
            "text/plain": [
              "<Figure size 576x360 with 0 Axes>"
            ]
          },
          "metadata": {}
        },
        {
          "output_type": "display_data",
          "data": {
            "text/plain": [
              "<Figure size 360x360 with 1 Axes>"
            ],
            "image/png": "[encoded data removed]"
          },
          "metadata": {
            "needs_background": "light"
          }
        }
      ],
      "source": [
        "#Observe 'text' column \n",
        "train['word_count'] = train['text'].apply(lambda x : len(x.split()))\n",
        "plt.figure(figsize = (8,5))\n",
        "sns.displot(data=train, x='word_count')\n",
        "plt.title(\"Distribution of words in each text\")\n",
        "#Most tweets contain less than 30 words, and the distribution looks good."
      ]
    },
    {
      "cell_type": "code",
      "execution_count": 36,
      "id": "b5896273",
      "metadata": {
        "colab": {
          "base_uri": "https://localhost:8080/",
          "height": 367
        },
        "id": "b5896273",
        "outputId": "bd09b50e-7f0a-4e1d-fa87-d823449aaa89"
      },
      "outputs": [
        {
          "output_type": "execute_result",
          "data": {
            "text/plain": [
              "Text(0.5, 1.0, 'Distribution of the Target Label')"
            ]
          },
          "metadata": {},
          "execution_count": 36
        },
        {
          "output_type": "display_data",
          "data": {
            "text/plain": [
              "<Figure size 576x360 with 1 Axes>"
            ],
            "image/png": "[encoded data removed]"
          },
          "metadata": {
            "needs_background": "light"
          }
        }
      ],
      "source": [
        "#Oberseve 'target' column\n",
        "plt.figure(figsize = (8,5))\n",
        "sns.countplot(data = train, x = 'target')\n",
        "plt.title('Distribution of the Target Label')\n",
        "#0 is slightly more than 1 -> if unbalance, we should deal with it."
      ]
    },
    {
      "cell_type": "code",
      "execution_count": 37,
      "id": "238c30b4",
      "metadata": {
        "id": "238c30b4"
      },
      "outputs": [],
      "source": [
        "#Text cleaning and lemmatize\n",
        "def clean_text(text):\n",
        "    text = text.lower()\n",
        "    space = re.compile('[/(){}\\[\\]\\|@,;#]')\n",
        "    text = re.sub(space,' ', text) \n",
        "    ignore = re.compile('[^0-9a-z #+_]')\n",
        "    text = re.sub(ignore,'', text)\n",
        "    return text\n",
        "\n",
        "def remove_stopwords(text):\n",
        "    StopWords = nltk.corpus.stopwords.words('english')\n",
        "    text = ' '.join(word for word in text.split() if word not in StopWords) # remove stopwors from text\n",
        "    return text\n",
        "\n",
        "def remove_html(text):\n",
        "    html = re.compile(r'<.*?>|&([a-z0-9]+|#[0-9]{1,6}|#x[0-9a-f]{1,6});')\n",
        "    return re.sub(html, '', text)\n",
        "\n",
        "def remove_emoji(text):\n",
        "    emoji_pattern = re.compile(\n",
        "        '['\n",
        "        u'\\U0001F600-\\U0001F64F'\n",
        "        u'\\U0001F300-\\U0001F5FF'  \n",
        "        u'\\U0001F680-\\U0001F6FF'  \n",
        "        u'\\U0001F1E0-\\U0001F1FF'  \n",
        "        u'\\U00002702-\\U000027B0'\n",
        "        u'\\U000024C2-\\U0001F251'\n",
        "        ']+',\n",
        "        flags=re.UNICODE)\n",
        "    return emoji_pattern.sub(r'', text)\n",
        "\n",
        "def lemmatizer(text):\n",
        "    text = text.split(\" \")\n",
        "    word_lem = WordNetLemmatizer()\n",
        "    l_text = \"\"\n",
        "    for t in text:\n",
        "        l = word_lem.lemmatize(t)\n",
        "        l_text += l\n",
        "        l_text += \" \"\n",
        "    \n",
        "    return l_text\n",
        "\n",
        "train['text'] = train['text'].apply(remove_html)\n",
        "train['text'] = train['text'].apply(remove_emoji)\n",
        "train['text'] = train['text'].apply(clean_text)\n",
        "train['text'] = train['text'].apply(remove_stopwords)\n",
        "train['text'] = train['text'].apply(lemmatizer)\n",
        "train['keyword'] = train['keyword'].apply(lemmatizer)\n",
        "\n",
        "test['text'] = test['text'].apply(remove_html)\n",
        "test['text'] = test['text'].apply(remove_emoji)\n",
        "test['text'] = test['text'].apply(clean_text)\n",
        "test['text'] = test['text'].apply(remove_stopwords)\n",
        "test['text'] = test['text'].apply(lemmatizer)\n",
        "test['keyword'] = test['keyword'].apply(lemmatizer)"
      ]
    },
    {
      "cell_type": "markdown",
      "source": [
        "First we build a BiLSTM model using only the text data"
      ],
      "metadata": {
        "id": "Sw-t-rrGLBEL"
      },
      "id": "Sw-t-rrGLBEL"
    },
    {
      "cell_type": "code",
      "execution_count": 38,
      "id": "f1517603",
      "metadata": {
        "id": "f1517603"
      },
      "outputs": [],
      "source": [
        "X = train.text\n",
        "y = train.target"
      ]
    },
    {
      "cell_type": "code",
      "execution_count": 39,
      "id": "fd2b29a1",
      "metadata": {
        "id": "fd2b29a1"
      },
      "outputs": [],
      "source": [
        "#define the LSTM model\n",
        "def LSTM_model():\n",
        "    model = tf.keras.Sequential([\n",
        "        Input(name='inputs',shape=[50]),\n",
        "        Embedding(len(tok.word_index), 128),\n",
        "        Bidirectional(tf.keras.layers.LSTM(128,  return_sequences=True, dropout=0.2)),\n",
        "        Bidirectional(tf.keras.layers.LSTM(64)),\n",
        "        Dense(64, activation='relu'),\n",
        "        Dense(1, activation='sigmoid')\n",
        "    ])\n",
        "\n",
        "    \n",
        "    model.compile(loss=tf.keras.losses.BinaryCrossentropy(),\n",
        "                  optimizer=tf.keras.optimizers.Adam(1e-4),\n",
        "                  metrics=['accuracy'])\n",
        "    \n",
        "    return model"
      ]
    },
    {
      "cell_type": "code",
      "execution_count": 40,
      "id": "a818cc4b",
      "metadata": {
        "id": "a818cc4b"
      },
      "outputs": [],
      "source": [
        "#Split the train, validation, and test data\n",
        "X_train, X_test, y_train, y_test = train_test_split(X, y, stratify = y, test_size = 0.2, random_state = 42)\n",
        "X_train, X_val, y_train, y_val = train_test_split(X_train, y_train, stratify = y_train, test_size = 0.1, random_state = 42)"
      ]
    },
    {
      "cell_type": "code",
      "execution_count": 41,
      "id": "bd767d58",
      "metadata": {
        "colab": {
          "base_uri": "https://localhost:8080/"
        },
        "id": "bd767d58",
        "outputId": "05ef287a-c3fa-4dd1-ff06-902e178c13fa"
      },
      "outputs": [
        {
          "output_type": "stream",
          "name": "stdout",
          "text": [
            "Epoch 1/15\n",
            "172/172 [==============================] - 12s 24ms/step - loss: 0.6681 - accuracy: 0.5802 - val_loss: 0.6285 - val_accuracy: 0.6453\n",
            "Epoch 2/15\n",
            "172/172 [==============================] - 3s 15ms/step - loss: 0.5302 - accuracy: 0.7395 - val_loss: 0.4880 - val_accuracy: 0.7734\n",
            "Epoch 3/15\n",
            "172/172 [==============================] - 3s 18ms/step - loss: 0.3047 - accuracy: 0.8816 - val_loss: 0.5287 - val_accuracy: 0.7816\n",
            "Epoch 4/15\n",
            "172/172 [==============================] - 3s 18ms/step - loss: 0.1987 - accuracy: 0.9301 - val_loss: 0.5520 - val_accuracy: 0.7685\n",
            "Epoch 5/15\n",
            "172/172 [==============================] - 3s 16ms/step - loss: 0.1299 - accuracy: 0.9564 - val_loss: 0.6523 - val_accuracy: 0.7701\n",
            "Epoch 6/15\n",
            "172/172 [==============================] - 3s 15ms/step - loss: 0.0914 - accuracy: 0.9706 - val_loss: 0.6885 - val_accuracy: 0.7570\n"
          ]
        }
      ],
      "source": [
        "#Tokenizer\n",
        "tok = Tokenizer()\n",
        "tok.fit_on_texts(X_train)\n",
        "\n",
        "#text to sequences\n",
        "train_sequences = tok.texts_to_sequences(X_train)\n",
        "val_sequences = tok.texts_to_sequences(X_val)\n",
        "test_sequences = tok.texts_to_sequences(X_test)\n",
        "\n",
        "#pad sequences\n",
        "X_train_seq = pad_sequences(train_sequences,maxlen=50)\n",
        "X_val_seq = pad_sequences(val_sequences,maxlen=50)\n",
        "X_test_seq = pad_sequences(test_sequences,maxlen=50)\n",
        "\n",
        "\n",
        "lstm_model = LSTM_model()\n",
        "#train the model\n",
        "history = lstm_model.fit(X_train_seq, y_train, epochs=15,\n",
        "                    validation_data =(X_val_seq, y_val), batch_size = 32, \n",
        "                    callbacks=[EarlyStopping(monitor='val_accuracy',mode='max', patience=3, verbose=False, restore_best_weights=True)])"
      ]
    },
    {
      "cell_type": "code",
      "execution_count": 42,
      "id": "057a373e",
      "metadata": {
        "id": "057a373e"
      },
      "outputs": [],
      "source": [
        "yhat = np.where(lstm_model.predict(X_test_seq) >=0.5,1,0)"
      ]
    },
    {
      "cell_type": "code",
      "execution_count": 43,
      "id": "b399c7fd",
      "metadata": {
        "colab": {
          "base_uri": "https://localhost:8080/"
        },
        "id": "b399c7fd",
        "outputId": "f80c65a7-31ab-4e73-9179-2a8f3ce27283"
      },
      "outputs": [
        {
          "output_type": "stream",
          "name": "stdout",
          "text": [
            "              precision    recall  f1-score   support\n",
            "\n",
            "           0       0.77      0.92      0.84       869\n",
            "           1       0.86      0.64      0.73       654\n",
            "\n",
            "    accuracy                           0.80      1523\n",
            "   macro avg       0.82      0.78      0.79      1523\n",
            "weighted avg       0.81      0.80      0.80      1523\n",
            "\n"
          ]
        }
      ],
      "source": [
        "print(classification_report(y_test, yhat))"
      ]
    },
    {
      "cell_type": "code",
      "execution_count": 44,
      "id": "65a7b0f7",
      "metadata": {
        "colab": {
          "base_uri": "https://localhost:8080/",
          "height": 427
        },
        "id": "65a7b0f7",
        "outputId": "02c36ee2-ca5a-419d-f8ed-2a3f792148b2"
      },
      "outputs": [
        {
          "output_type": "stream",
          "name": "stdout",
          "text": [
            "Accuracy Score:  0.8010505581089954\n"
          ]
        },
        {
          "output_type": "execute_result",
          "data": {
            "text/plain": [
              "Text(51.0, 0.5, 'Real')"
            ]
          },
          "metadata": {},
          "execution_count": 44
        },
        {
          "output_type": "display_data",
          "data": {
            "text/plain": [
              "<Figure size 576x432 with 2 Axes>"
            ],
            "image/png": "[encoded data removed]"
          },
          "metadata": {
            "needs_background": "light"
          }
        }
      ],
      "source": [
        "print('Accuracy Score: ', accuracy_score(y_test, yhat))\n",
        "plt.figure(figsize = (8,6))\n",
        "\n",
        "sns.heatmap(confusion_matrix(y_test, yhat), annot=True, fmt='', cmap='Blues')\n",
        "\n",
        "plt.xlabel('Predicted')\n",
        "plt.ylabel('Real')"
      ]
    },
    {
      "cell_type": "code",
      "execution_count": 45,
      "id": "1509f9f2",
      "metadata": {
        "colab": {
          "base_uri": "https://localhost:8080/"
        },
        "id": "1509f9f2",
        "outputId": "48b722c5-a4de-45ca-b037-0e4225538e3e"
      },
      "outputs": [
        {
          "output_type": "stream",
          "name": "stdout",
          "text": [
            "Fold: 1, Epoch 1/15\n",
            "191/191 [==============================] - 12s 23ms/step - loss: 0.6635 - accuracy: 0.5920 - val_loss: 0.6146 - val_accuracy: 0.6802\n",
            "Epoch 2/15\n",
            "191/191 [==============================] - 3s 16ms/step - loss: 0.4828 - accuracy: 0.7814 - val_loss: 0.4334 - val_accuracy: 0.8102\n",
            "Epoch 3/15\n",
            "191/191 [==============================] - 3s 16ms/step - loss: 0.2806 - accuracy: 0.8910 - val_loss: 0.4583 - val_accuracy: 0.8070\n",
            "Epoch 4/15\n",
            "191/191 [==============================] - 3s 16ms/step - loss: 0.1825 - accuracy: 0.9351 - val_loss: 0.5261 - val_accuracy: 0.8043\n",
            "Epoch 5/15\n",
            "191/191 [==============================] - 3s 16ms/step - loss: 0.1190 - accuracy: 0.9578 - val_loss: 0.5904 - val_accuracy: 0.7938\n",
            "F1 Score:  0.76253081347576\n",
            "Accuracy Score:  0.8102429415627052\n",
            "              precision    recall  f1-score   support\n",
            "\n",
            "           0       0.80      0.89      0.84       868\n",
            "           1       0.83      0.71      0.76       655\n",
            "\n",
            "    accuracy                           0.81      1523\n",
            "   macro avg       0.81      0.80      0.80      1523\n",
            "weighted avg       0.81      0.81      0.81      1523\n",
            "\n",
            "Fold: 2, Epoch 1/15\n",
            "191/191 [==============================] - 11s 23ms/step - loss: 0.6620 - accuracy: 0.5905 - val_loss: 0.6316 - val_accuracy: 0.6487\n",
            "Epoch 2/15\n",
            "191/191 [==============================] - 3s 15ms/step - loss: 0.4983 - accuracy: 0.7690 - val_loss: 0.4526 - val_accuracy: 0.7997\n",
            "Epoch 3/15\n",
            "191/191 [==============================] - 3s 16ms/step - loss: 0.2895 - accuracy: 0.8872 - val_loss: 0.4563 - val_accuracy: 0.8070\n",
            "Epoch 4/15\n",
            "191/191 [==============================] - 3s 16ms/step - loss: 0.1853 - accuracy: 0.9310 - val_loss: 0.5234 - val_accuracy: 0.8030\n",
            "Epoch 5/15\n",
            "191/191 [==============================] - 3s 16ms/step - loss: 0.1242 - accuracy: 0.9565 - val_loss: 0.6212 - val_accuracy: 0.7945\n",
            "Epoch 6/15\n",
            "191/191 [==============================] - 3s 16ms/step - loss: 0.0795 - accuracy: 0.9732 - val_loss: 0.6627 - val_accuracy: 0.7873\n",
            "F1 Score:  0.7537688442211056\n",
            "Accuracy Score:  0.8069599474720945\n",
            "              precision    recall  f1-score   support\n",
            "\n",
            "           0       0.79      0.90      0.84       869\n",
            "           1       0.83      0.69      0.75       654\n",
            "\n",
            "    accuracy                           0.81      1523\n",
            "   macro avg       0.81      0.79      0.80      1523\n",
            "weighted avg       0.81      0.81      0.80      1523\n",
            "\n",
            "Fold: 3, Epoch 1/15\n",
            "191/191 [==============================] - 10s 23ms/step - loss: 0.6535 - accuracy: 0.6038 - val_loss: 0.6086 - val_accuracy: 0.6697\n",
            "Epoch 2/15\n",
            "191/191 [==============================] - 3s 16ms/step - loss: 0.4747 - accuracy: 0.7859 - val_loss: 0.5179 - val_accuracy: 0.7774\n",
            "Epoch 3/15\n",
            "191/191 [==============================] - 3s 16ms/step - loss: 0.2764 - accuracy: 0.8952 - val_loss: 0.5168 - val_accuracy: 0.7846\n",
            "Epoch 4/15\n",
            "191/191 [==============================] - 3s 16ms/step - loss: 0.1816 - accuracy: 0.9355 - val_loss: 0.5943 - val_accuracy: 0.7735\n",
            "Epoch 5/15\n",
            "191/191 [==============================] - 3s 16ms/step - loss: 0.1210 - accuracy: 0.9585 - val_loss: 0.6766 - val_accuracy: 0.7682\n",
            "Epoch 6/15\n",
            "191/191 [==============================] - 3s 16ms/step - loss: 0.0827 - accuracy: 0.9734 - val_loss: 0.7489 - val_accuracy: 0.7643\n",
            "F1 Score:  0.7186963979416809\n",
            "Accuracy Score:  0.7846355876559422\n",
            "              precision    recall  f1-score   support\n",
            "\n",
            "           0       0.77      0.89      0.83       869\n",
            "           1       0.82      0.64      0.72       654\n",
            "\n",
            "    accuracy                           0.78      1523\n",
            "   macro avg       0.79      0.77      0.77      1523\n",
            "weighted avg       0.79      0.78      0.78      1523\n",
            "\n",
            "Fold: 4, Epoch 1/15\n",
            "191/191 [==============================] - 10s 23ms/step - loss: 0.6587 - accuracy: 0.6002 - val_loss: 0.6624 - val_accuracy: 0.6301\n",
            "Epoch 2/15\n",
            "191/191 [==============================] - 3s 16ms/step - loss: 0.4973 - accuracy: 0.7690 - val_loss: 0.4521 - val_accuracy: 0.7970\n",
            "Epoch 3/15\n",
            "191/191 [==============================] - 3s 16ms/step - loss: 0.2877 - accuracy: 0.8907 - val_loss: 0.4847 - val_accuracy: 0.8009\n",
            "Epoch 4/15\n",
            "191/191 [==============================] - 3s 16ms/step - loss: 0.1899 - accuracy: 0.9324 - val_loss: 0.5697 - val_accuracy: 0.7858\n",
            "Epoch 5/15\n",
            "191/191 [==============================] - 3s 16ms/step - loss: 0.1168 - accuracy: 0.9616 - val_loss: 0.6719 - val_accuracy: 0.7891\n",
            "Epoch 6/15\n",
            "191/191 [==============================] - 3s 15ms/step - loss: 0.0843 - accuracy: 0.9746 - val_loss: 0.7059 - val_accuracy: 0.7878\n",
            "F1 Score:  0.7403598971722365\n",
            "Accuracy Score:  0.8009198423127464\n",
            "              precision    recall  f1-score   support\n",
            "\n",
            "           0       0.78      0.91      0.84       868\n",
            "           1       0.84      0.66      0.74       654\n",
            "\n",
            "    accuracy                           0.80      1522\n",
            "   macro avg       0.81      0.78      0.79      1522\n",
            "weighted avg       0.81      0.80      0.80      1522\n",
            "\n",
            "Fold: 5, Epoch 1/15\n",
            "191/191 [==============================] - 11s 23ms/step - loss: 0.6631 - accuracy: 0.6007 - val_loss: 0.6100 - val_accuracy: 0.6767\n",
            "Epoch 2/15\n",
            "191/191 [==============================] - 3s 16ms/step - loss: 0.4918 - accuracy: 0.7743 - val_loss: 0.4281 - val_accuracy: 0.8114\n",
            "Epoch 3/15\n",
            "191/191 [==============================] - 3s 16ms/step - loss: 0.2901 - accuracy: 0.8843 - val_loss: 0.4449 - val_accuracy: 0.8141\n",
            "Epoch 4/15\n",
            "191/191 [==============================] - 3s 16ms/step - loss: 0.1801 - accuracy: 0.9330 - val_loss: 0.5553 - val_accuracy: 0.7648\n",
            "Epoch 5/15\n",
            "191/191 [==============================] - 3s 16ms/step - loss: 0.1150 - accuracy: 0.9621 - val_loss: 0.6560 - val_accuracy: 0.7943\n",
            "Epoch 6/15\n",
            "191/191 [==============================] - 3s 16ms/step - loss: 0.0840 - accuracy: 0.9737 - val_loss: 0.6923 - val_accuracy: 0.7799\n",
            "F1 Score:  0.770105605199025\n",
            "Accuracy Score:  0.8140604467805519\n",
            "              precision    recall  f1-score   support\n",
            "\n",
            "           0       0.81      0.88      0.84       868\n",
            "           1       0.82      0.72      0.77       654\n",
            "\n",
            "    accuracy                           0.81      1522\n",
            "   macro avg       0.82      0.80      0.81      1522\n",
            "weighted avg       0.81      0.81      0.81      1522\n",
            "\n",
            "Done...\n"
          ]
        }
      ],
      "source": [
        "#StratifiedKFold\n",
        "skf = StratifiedKFold(n_splits=5, random_state=42, shuffle=True)\n",
        "\n",
        "X_train_all = train['text']\n",
        "X_test = test['text']\n",
        "\n",
        "y_train_list = []\n",
        "y_test_list = []\n",
        "\n",
        "for fold, (train_idx, test_idx) in enumerate(skf.split(X, y)):\n",
        "    print(f\"Fold: {fold+1},\", end=' ')\n",
        "    X_train, X_val = X[train_idx], X[test_idx]\n",
        "    y_train, y_val = y[train_idx], y[test_idx]\n",
        "    \n",
        "    \n",
        "    #Tokenizer\n",
        "    tok = Tokenizer()\n",
        "    tok.fit_on_texts(X_train)\n",
        "\n",
        "    #Text to sequences\n",
        "    train_sequences = tok.texts_to_sequences(X_train)\n",
        "    val_sequences = tok.texts_to_sequences(X_val)\n",
        "    test_sequences = tok.texts_to_sequences(X_test)\n",
        "    train_sequences_all = tok.texts_to_sequences(X_train_all)\n",
        "\n",
        "    #Padded sequences\n",
        "    X_train_seq = pad_sequences(train_sequences, maxlen=50)\n",
        "    X_val_seq = pad_sequences(val_sequences, maxlen=50)\n",
        "    X_test_seq = pad_sequences(test_sequences, maxlen=50)\n",
        "    X_train_seq_all = pad_sequences(train_sequences_all, maxlen=50)\n",
        "\n",
        "    #Modeling\n",
        "    lstm_model = LSTM_model()\n",
        "    \n",
        "    history = lstm_model.fit(X_train_seq, y_train, epochs=15,\n",
        "                    validation_data =(X_val_seq, y_val), batch_size = 32, \n",
        "                    callbacks=[EarlyStopping(monitor='val_accuracy',mode='max', \n",
        "                    patience=3, verbose=False, restore_best_weights=True)])\n",
        "\n",
        "\n",
        "    yhat_val =  np.where(lstm_model.predict(X_val_seq) >=0.5,1,0)\n",
        "    \n",
        "    f_score = f1_score(y_val, yhat_val)\n",
        "    a_score = accuracy_score(y_val, yhat_val)\n",
        "    print('F1 Score: ', f_score)\n",
        "    print('Accuracy Score: ', a_score)\n",
        "    print(classification_report(y_val, yhat_val))\n",
        "    \n",
        "    y_train_list.append(lstm_model.predict(X_train_seq_all))\n",
        "    y_test_list.append(lstm_model.predict(X_test_seq))\n",
        "\n",
        "print('Done...')"
      ]
    },
    {
      "cell_type": "code",
      "execution_count": 46,
      "id": "6d98ac46",
      "metadata": {
        "colab": {
          "base_uri": "https://localhost:8080/",
          "height": 17
        },
        "id": "6d98ac46",
        "outputId": "a89fbfb5-43dd-4e4a-f826-3c67d45014a5"
      },
      "outputs": [
        {
          "output_type": "display_data",
          "data": {
            "text/plain": [
              "<IPython.core.display.Javascript object>"
            ],
            "application/javascript": [
              "\n",
              "    async function download(id, filename, size) {\n",
              "      if (!google.colab.kernel.accessAllowed) {\n",
              "        return;\n",
              "      }\n",
              "      const div = document.createElement('div');\n",
              "      const label = document.createElement('label');\n",
              "      label.textContent = `Downloading \"${filename}\": `;\n",
              "      div.appendChild(label);\n",
              "      const progress = document.createElement('progress');\n",
              "      progress.max = size;\n",
              "      div.appendChild(progress);\n",
              "      document.body.appendChild(div);\n",
              "\n",
              "      const buffers = [];\n",
              "      let downloaded = 0;\n",
              "\n",
              "      const channel = await google.colab.kernel.comms.open(id);\n",
              "      // Send a message to notify the kernel that we're ready.\n",
              "      channel.send({})\n",
              "\n",
              "      for await (const message of channel.messages) {\n",
              "        // Send a message to notify the kernel that we're ready.\n",
              "        channel.send({})\n",
              "        if (message.buffers) {\n",
              "          for (const buffer of message.buffers) {\n",
              "            buffers.push(buffer);\n",
              "            downloaded += buffer.byteLength;\n",
              "            progress.value = downloaded;\n",
              "          }\n",
              "        }\n",
              "      }\n",
              "      const blob = new Blob(buffers, {type: 'application/binary'});\n",
              "      const a = document.createElement('a');\n",
              "      a.href = window.URL.createObjectURL(blob);\n",
              "      a.download = filename;\n",
              "      div.appendChild(a);\n",
              "      a.click();\n",
              "      div.remove();\n",
              "    }\n",
              "  "
            ]
          },
          "metadata": {}
        },
        {
          "output_type": "display_data",
          "data": {
            "text/plain": [
              "<IPython.core.display.Javascript object>"
            ],
            "application/javascript": [
              "download(\"download_95d5d542-47d3-4a87-b203-a842bdd7d0aa\", \"submission_lstm.csv\", 22746)"
            ]
          },
          "metadata": {}
        }
      ],
      "source": [
        "#Store prediction to the submission file\n",
        "test['target'] = np.where(np.mean(y_test_list, axis = 0) >=0.5, 1,0)\n",
        "sub_lstm = test[['id','target']].copy()\n",
        "sub_lstm.to_csv('submission_lstm.csv', index = False)\n",
        "files.download('submission_lstm.csv')\n",
        "#Result: 0.79865"
      ]
    },
    {
      "cell_type": "code",
      "source": [
        "#Prepare for the random forest model -> we need to probability of the prediction (both train and test)\n",
        "train['lstm_pred'] = np.mean(y_train_list, axis = 0) \n",
        "test['lstm_pred'] = np.mean(y_test_list, axis = 0)"
      ],
      "metadata": {
        "id": "-quVDp8r3S14"
      },
      "id": "-quVDp8r3S14",
      "execution_count": 47,
      "outputs": []
    },
    {
      "cell_type": "code",
      "source": [
        "train.head()"
      ],
      "metadata": {
        "colab": {
          "base_uri": "https://localhost:8080/",
          "height": 206
        },
        "id": "A3Tznr7VzqSH",
        "outputId": "60f9f373-097d-4d17-ec45-6d90f15884bc"
      },
      "id": "A3Tznr7VzqSH",
      "execution_count": 48,
      "outputs": [
        {
          "output_type": "execute_result",
          "data": {
            "text/plain": [
              "   id   keyword location                                               text  \\\n",
              "0   1  Unknown   Unknown        deed reason earthquake may allah forgive u    \n",
              "1   4  Unknown   Unknown             forest fire near la ronge sask canada    \n",
              "2   5  Unknown   Unknown  resident asked shelter place notified officer ...   \n",
              "3   6  Unknown   Unknown  13 000 people receive wildfire evacuation orde...   \n",
              "4   7  Unknown   Unknown  got sent photo ruby alaska smoke wildfire pour...   \n",
              "\n",
              "   target  word_count  lstm_pred  \n",
              "0       1          13   0.792568  \n",
              "1       1           7   0.968094  \n",
              "2       1          22   0.967999  \n",
              "3       1           8   0.975754  \n",
              "4       1          16   0.762282  "
            ],
            "text/html": [
              "\n",
              "  <div id=\"df-442ada7b-5873-4b29-b2e2-1adb8491837c\">\n",
              "    <div class=\"colab-df-container\">\n",
              "      <div>\n",
              "<style scoped>\n",
              "    .dataframe tbody tr th:only-of-type {\n",
              "        vertical-align: middle;\n",
              "    }\n",
              "\n",
              "    .dataframe tbody tr th {\n",
              "        vertical-align: top;\n",
              "    }\n",
              "\n",
              "    .dataframe thead th {\n",
              "        text-align: right;\n",
              "    }\n",
              "</style>\n",
              "<table border=\"1\" class=\"dataframe\">\n",
              "  <thead>\n",
              "    <tr style=\"text-align: right;\">\n",
              "      <th></th>\n",
              "      <th>id</th>\n",
              "      <th>keyword</th>\n",
              "      <th>location</th>\n",
              "      <th>text</th>\n",
              "      <th>target</th>\n",
              "      <th>word_count</th>\n",
              "      <th>lstm_pred</th>\n",
              "    </tr>\n",
              "  </thead>\n",
              "  <tbody>\n",
              "    <tr>\n",
              "      <th>0</th>\n",
              "      <td>1</td>\n",
              "      <td>Unknown</td>\n",
              "      <td>Unknown</td>\n",
              "      <td>deed reason earthquake may allah forgive u</td>\n",
              "      <td>1</td>\n",
              "      <td>13</td>\n",
              "      <td>0.792568</td>\n",
              "    </tr>\n",
              "    <tr>\n",
              "      <th>1</th>\n",
              "      <td>4</td>\n",
              "      <td>Unknown</td>\n",
              "      <td>Unknown</td>\n",
              "      <td>forest fire near la ronge sask canada</td>\n",
              "      <td>1</td>\n",
              "      <td>7</td>\n",
              "      <td>0.968094</td>\n",
              "    </tr>\n",
              "    <tr>\n",
              "      <th>2</th>\n",
              "      <td>5</td>\n",
              "      <td>Unknown</td>\n",
              "      <td>Unknown</td>\n",
              "      <td>resident asked shelter place notified officer ...</td>\n",
              "      <td>1</td>\n",
              "      <td>22</td>\n",
              "      <td>0.967999</td>\n",
              "    </tr>\n",
              "    <tr>\n",
              "      <th>3</th>\n",
              "      <td>6</td>\n",
              "      <td>Unknown</td>\n",
              "      <td>Unknown</td>\n",
              "      <td>13 000 people receive wildfire evacuation orde...</td>\n",
              "      <td>1</td>\n",
              "      <td>8</td>\n",
              "      <td>0.975754</td>\n",
              "    </tr>\n",
              "    <tr>\n",
              "      <th>4</th>\n",
              "      <td>7</td>\n",
              "      <td>Unknown</td>\n",
              "      <td>Unknown</td>\n",
              "      <td>got sent photo ruby alaska smoke wildfire pour...</td>\n",
              "      <td>1</td>\n",
              "      <td>16</td>\n",
              "      <td>0.762282</td>\n",
              "    </tr>\n",
              "  </tbody>\n",
              "</table>\n",
              "</div>\n",
              "      <button class=\"colab-df-convert\" onclick=\"convertToInteractive('df-442ada7b-5873-4b29-b2e2-1adb8491837c')\"\n",
              "              title=\"Convert this dataframe to an interactive table.\"\n",
              "              style=\"display:none;\">\n",
              "        \n",
              "  <svg xmlns=\"http://www.w3.org/2000/svg\" height=\"24px\"viewBox=\"0 0 24 24\"\n",
              "       width=\"24px\">\n",
              "    <path d=\"M0 0h24v24H0V0z\" fill=\"none\"/>\n",
              "    <path d=\"M18.56 5.44l.94 2.06.94-2.06 2.06-.94-2.06-.94-.94-2.06-.94 2.06-2.06.94zm-11 1L8.5 8.5l.94-2.06 2.06-.94-2.06-.94L8.5 2.5l-.94 2.06-2.06.94zm10 10l.94 2.06.94-2.06 2.06-.94-2.06-.94-.94-2.06-.94 2.06-2.06.94z\"/><path d=\"M17.41 7.96l-1.37-1.37c-.4-.4-.92-.59-1.43-.59-.52 0-1.04.2-1.43.59L10.3 9.45l-7.72 7.72c-.78.78-.78 2.05 0 2.83L4 21.41c.39.39.9.59 1.41.59.51 0 1.02-.2 1.41-.59l7.78-7.78 2.81-2.81c.8-.78.8-2.07 0-2.86zM5.41 20L4 18.59l7.72-7.72 1.47 1.35L5.41 20z\"/>\n",
              "  </svg>\n",
              "      </button>\n",
              "      \n",
              "  <style>\n",
              "    .colab-df-container {\n",
              "      display:flex;\n",
              "      flex-wrap:wrap;\n",
              "      gap: 12px;\n",
              "    }\n",
              "\n",
              "    .colab-df-convert {\n",
              "      background-color: #E8F0FE;\n",
              "      border: none;\n",
              "      border-radius: 50%;\n",
              "      cursor: pointer;\n",
              "      display: none;\n",
              "      fill: #1967D2;\n",
              "      height: 32px;\n",
              "      padding: 0 0 0 0;\n",
              "      width: 32px;\n",
              "    }\n",
              "\n",
              "    .colab-df-convert:hover {\n",
              "      background-color: #E2EBFA;\n",
              "      box-shadow: 0px 1px 2px rgba(60, 64, 67, 0.3), 0px 1px 3px 1px rgba(60, 64, 67, 0.15);\n",
              "      fill: #174EA6;\n",
              "    }\n",
              "\n",
              "    [theme=dark] .colab-df-convert {\n",
              "      background-color: #3B4455;\n",
              "      fill: #D2E3FC;\n",
              "    }\n",
              "\n",
              "    [theme=dark] .colab-df-convert:hover {\n",
              "      background-color: #434B5C;\n",
              "      box-shadow: 0px 1px 3px 1px rgba(0, 0, 0, 0.15);\n",
              "      filter: drop-shadow(0px 1px 2px rgba(0, 0, 0, 0.3));\n",
              "      fill: #FFFFFF;\n",
              "    }\n",
              "  </style>\n",
              "\n",
              "      <script>\n",
              "        const buttonEl =\n",
              "          document.querySelector('#df-442ada7b-5873-4b29-b2e2-1adb8491837c button.colab-df-convert');\n",
              "        buttonEl.style.display =\n",
              "          google.colab.kernel.accessAllowed ? 'block' : 'none';\n",
              "\n",
              "        async function convertToInteractive(key) {\n",
              "          const element = document.querySelector('#df-442ada7b-5873-4b29-b2e2-1adb8491837c');\n",
              "          const dataTable =\n",
              "            await google.colab.kernel.invokeFunction('convertToInteractive',\n",
              "                                                     [key], {});\n",
              "          if (!dataTable) return;\n",
              "\n",
              "          const docLinkHtml = 'Like what you see? Visit the ' +\n",
              "            '<a target=\"_blank\" href=https://colab.research.google.com/notebooks/data_table.ipynb>data table notebook</a>'\n",
              "            + ' to learn more about interactive tables.';\n",
              "          element.innerHTML = '';\n",
              "          dataTable['output_type'] = 'display_data';\n",
              "          await google.colab.output.renderOutput(dataTable, element);\n",
              "          const docLink = document.createElement('div');\n",
              "          docLink.innerHTML = docLinkHtml;\n",
              "          element.appendChild(docLink);\n",
              "        }\n",
              "      </script>\n",
              "    </div>\n",
              "  </div>\n",
              "  "
            ]
          },
          "metadata": {},
          "execution_count": 48
        }
      ]
    },
    {
      "cell_type": "markdown",
      "id": "d0626184",
      "metadata": {
        "id": "d0626184"
      },
      "source": [
        "BERT"
      ]
    },
    {
      "cell_type": "code",
      "execution_count": 13,
      "id": "83a56fdd",
      "metadata": {
        "colab": {
          "base_uri": "https://localhost:8080/"
        },
        "id": "83a56fdd",
        "outputId": "07067ffd-4710-4532-8b6c-0fba86203410"
      },
      "outputs": [
        {
          "output_type": "stream",
          "name": "stdout",
          "text": [
            "Looking in indexes: https://pypi.org/simple, https://us-python.pkg.dev/colab-wheels/public/simple/\n",
            "Collecting transformers\n",
            "  Downloading transformers-4.21.3-py3-none-any.whl (4.7 MB)\n",
            "\u001b[K     |████████████████████████████████| 4.7 MB 4.9 MB/s \n",
            "\u001b[?25hRequirement already satisfied: requests in /usr/local/lib/python3.7/dist-packages (from transformers) (2.23.0)\n",
            "Requirement already satisfied: importlib-metadata in /usr/local/lib/python3.7/dist-packages (from transformers) (4.12.0)\n",
            "Requirement already satisfied: filelock in /usr/local/lib/python3.7/dist-packages (from transformers) (3.8.0)\n",
            "Requirement already satisfied: numpy>=1.17 in /usr/local/lib/python3.7/dist-packages (from transformers) (1.21.6)\n",
            "Requirement already satisfied: packaging>=20.0 in /usr/local/lib/python3.7/dist-packages (from transformers) (21.3)\n",
            "Requirement already satisfied: regex!=2019.12.17 in /usr/local/lib/python3.7/dist-packages (from transformers) (2022.6.2)\n",
            "Collecting tokenizers!=0.11.3,<0.13,>=0.11.1\n",
            "  Downloading tokenizers-0.12.1-cp37-cp37m-manylinux_2_12_x86_64.manylinux2010_x86_64.whl (6.6 MB)\n",
            "\u001b[K     |████████████████████████████████| 6.6 MB 57.9 MB/s \n",
            "\u001b[?25hCollecting huggingface-hub<1.0,>=0.1.0\n",
            "  Downloading huggingface_hub-0.9.1-py3-none-any.whl (120 kB)\n",
            "\u001b[K     |████████████████████████████████| 120 kB 73.8 MB/s \n",
            "\u001b[?25hRequirement already satisfied: pyyaml>=5.1 in /usr/local/lib/python3.7/dist-packages (from transformers) (6.0)\n",
            "Requirement already satisfied: tqdm>=4.27 in /usr/local/lib/python3.7/dist-packages (from transformers) (4.64.0)\n",
            "Requirement already satisfied: typing-extensions>=3.7.4.3 in /usr/local/lib/python3.7/dist-packages (from huggingface-hub<1.0,>=0.1.0->transformers) (4.1.1)\n",
            "Requirement already satisfied: pyparsing!=3.0.5,>=2.0.2 in /usr/local/lib/python3.7/dist-packages (from packaging>=20.0->transformers) (3.0.9)\n",
            "Requirement already satisfied: zipp>=0.5 in /usr/local/lib/python3.7/dist-packages (from importlib-metadata->transformers) (3.8.1)\n",
            "Requirement already satisfied: certifi>=2017.4.17 in /usr/local/lib/python3.7/dist-packages (from requests->transformers) (2022.6.15)\n",
            "Requirement already satisfied: urllib3!=1.25.0,!=1.25.1,<1.26,>=1.21.1 in /usr/local/lib/python3.7/dist-packages (from requests->transformers) (1.24.3)\n",
            "Requirement already satisfied: idna<3,>=2.5 in /usr/local/lib/python3.7/dist-packages (from requests->transformers) (2.10)\n",
            "Requirement already satisfied: chardet<4,>=3.0.2 in /usr/local/lib/python3.7/dist-packages (from requests->transformers) (3.0.4)\n",
            "Installing collected packages: tokenizers, huggingface-hub, transformers\n",
            "Successfully installed huggingface-hub-0.9.1 tokenizers-0.12.1 transformers-4.21.3\n"
          ]
        }
      ],
      "source": [
        "!pip install transformers"
      ]
    },
    {
      "cell_type": "code",
      "execution_count": 49,
      "id": "f2019bf2",
      "metadata": {
        "colab": {
          "base_uri": "https://localhost:8080/"
        },
        "id": "f2019bf2",
        "outputId": "2a9cfb5e-91d2-4ab6-edc5-feade9a5a91b"
      },
      "outputs": [
        {
          "output_type": "stream",
          "name": "stderr",
          "text": [
            "All model checkpoint layers were used when initializing TFBertForSequenceClassification.\n",
            "\n",
            "Some layers of TFBertForSequenceClassification were not initialized from the model checkpoint at bert-base-uncased and are newly initialized: ['classifier']\n",
            "You should probably TRAIN this model on a down-stream task to be able to use it for predictions and inference.\n"
          ]
        }
      ],
      "source": [
        "#Load BERT model\n",
        "from transformers import BertTokenizer, TFBertModel, BertConfig, TFBertForSequenceClassification\n",
        "bert_tokenizer = BertTokenizer.from_pretrained(\"bert-base-uncased\")\n",
        "bert_model = TFBertForSequenceClassification.from_pretrained(\n",
        "    'bert-base-uncased', \n",
        "    hidden_dropout_prob = 0.15,\n",
        "    attention_probs_dropout_prob = 0.15,\n",
        "    hidden_act = \"relu\",\n",
        "    num_labels = 2\n",
        ")"
      ]
    },
    {
      "cell_type": "code",
      "execution_count": 50,
      "id": "609dd48c",
      "metadata": {
        "id": "609dd48c"
      },
      "outputs": [],
      "source": [
        "#BERT tolenizer\n",
        "input_ids=[]\n",
        "attention_masks=[]\n",
        "\n",
        "sentences=train['text']\n",
        "labels=train['target']\n",
        "for sent in sentences:\n",
        "    bert_inp=bert_tokenizer.encode_plus(sent, add_special_tokens = True, max_length =64, padding='max_length', return_attention_mask = True)\n",
        "    input_ids.append(bert_inp['input_ids'])\n",
        "    attention_masks.append(bert_inp['attention_mask'])\n",
        "\n",
        "input_ids=np.asarray(input_ids)\n",
        "attention_masks=np.array(attention_masks)\n",
        "labels=np.array(labels)"
      ]
    },
    {
      "cell_type": "code",
      "execution_count": 51,
      "id": "cfc25665",
      "metadata": {
        "id": "cfc25665"
      },
      "outputs": [],
      "source": [
        "#Split the train and test data\n",
        "train_inp,val_inp,train_label,val_label,train_mask,val_mask=train_test_split(input_ids, labels, attention_masks, test_size=0.2)"
      ]
    },
    {
      "cell_type": "code",
      "execution_count": 52,
      "id": "ef6ef89e",
      "metadata": {
        "colab": {
          "base_uri": "https://localhost:8080/"
        },
        "id": "ef6ef89e",
        "outputId": "90d71ca7-6404-4e95-d026-5c8be1410869"
      },
      "outputs": [
        {
          "output_type": "stream",
          "name": "stdout",
          "text": [
            "Model: \"tf_bert_for_sequence_classification_1\"\n",
            "_________________________________________________________________\n",
            " Layer (type)                Output Shape              Param #   \n",
            "=================================================================\n",
            " bert (TFBertMainLayer)      multiple                  109482240 \n",
            "                                                                 \n",
            " dropout_75 (Dropout)        multiple                  0         \n",
            "                                                                 \n",
            " classifier (Dense)          multiple                  1538      \n",
            "                                                                 \n",
            "=================================================================\n",
            "Total params: 109,483,778\n",
            "Trainable params: 109,483,778\n",
            "Non-trainable params: 0\n",
            "_________________________________________________________________\n"
          ]
        }
      ],
      "source": [
        "#BERT model\n",
        "model_save_path='bert_model.h5'\n",
        "\n",
        "callbacks = [tf.keras.callbacks.ModelCheckpoint(filepath=model_save_path, save_weights_only=True, monitor='val_sparse_categorical_accuracy', mode='max', patience=3, save_best_only=True)]\n",
        "\n",
        "optimizer = tf.keras.optimizers.Adam(\n",
        "    learning_rate = 1e-5, \n",
        "    epsilon = 1e-07,\n",
        "    clipvalue = 10\n",
        ")\n",
        "loss = tf.losses.SparseCategoricalCrossentropy(from_logits=True)\n",
        "\n",
        "bert_model.compile(loss=loss,optimizer=optimizer,metrics=tf.keras.metrics.SparseCategoricalAccuracy())\n",
        "bert_model.trainable = True\n",
        "bert_model.summary()"
      ]
    },
    {
      "cell_type": "code",
      "execution_count": 53,
      "id": "3112251e",
      "metadata": {
        "colab": {
          "base_uri": "https://localhost:8080/"
        },
        "id": "3112251e",
        "outputId": "19d269f4-a425-4252-bf6d-801b1158e9be"
      },
      "outputs": [
        {
          "output_type": "stream",
          "name": "stdout",
          "text": [
            "Epoch 1/7\n",
            "191/191 [==============================] - 93s 408ms/step - loss: 0.5649 - sparse_categorical_accuracy: 0.7103 - val_loss: 0.4378 - val_sparse_categorical_accuracy: 0.8043\n",
            "Epoch 2/7\n",
            "191/191 [==============================] - 78s 407ms/step - loss: 0.4175 - sparse_categorical_accuracy: 0.8184 - val_loss: 0.4139 - val_sparse_categorical_accuracy: 0.8168\n",
            "Epoch 3/7\n",
            "191/191 [==============================] - 76s 397ms/step - loss: 0.3775 - sparse_categorical_accuracy: 0.8452 - val_loss: 0.4094 - val_sparse_categorical_accuracy: 0.8148\n",
            "Epoch 4/7\n",
            "191/191 [==============================] - 77s 406ms/step - loss: 0.3350 - sparse_categorical_accuracy: 0.8655 - val_loss: 0.4068 - val_sparse_categorical_accuracy: 0.8221\n",
            "Epoch 5/7\n",
            "191/191 [==============================] - 78s 407ms/step - loss: 0.3093 - sparse_categorical_accuracy: 0.8744 - val_loss: 0.4383 - val_sparse_categorical_accuracy: 0.8247\n",
            "Epoch 6/7\n",
            "191/191 [==============================] - 76s 398ms/step - loss: 0.2739 - sparse_categorical_accuracy: 0.8974 - val_loss: 0.4736 - val_sparse_categorical_accuracy: 0.8122\n",
            "Epoch 7/7\n",
            "191/191 [==============================] - 76s 399ms/step - loss: 0.2416 - sparse_categorical_accuracy: 0.9085 - val_loss: 0.4726 - val_sparse_categorical_accuracy: 0.8227\n"
          ]
        }
      ],
      "source": [
        "history=bert_model.fit([train_inp,train_mask],train_label,batch_size=32,epochs=7,validation_data=([val_inp,val_mask],val_label), callbacks=callbacks)"
      ]
    },
    {
      "cell_type": "code",
      "execution_count": 54,
      "id": "6041799b",
      "metadata": {
        "colab": {
          "base_uri": "https://localhost:8080/"
        },
        "id": "6041799b",
        "outputId": "55629e9b-4338-421b-f35f-eb1f3f2ebba4"
      },
      "outputs": [
        {
          "output_type": "stream",
          "name": "stdout",
          "text": [
            "F1 Score:  0.7919876733436054\n",
            "Accuracy Score:  0.8227183191070256\n",
            "Classification Report:\n",
            "              precision    recall  f1-score   support\n",
            "\n",
            "           0       0.82      0.88      0.85       844\n",
            "           1       0.83      0.76      0.79       679\n",
            "\n",
            "    accuracy                           0.82      1523\n",
            "   macro avg       0.82      0.82      0.82      1523\n",
            "weighted avg       0.82      0.82      0.82      1523\n",
            "\n",
            "Training and saving built model.....\n"
          ]
        }
      ],
      "source": [
        "#Validation prediction\n",
        "preds = bert_model.predict([val_inp,val_mask],batch_size=32)\n",
        "pred_labels = np.argmax(preds.logits, axis=1)\n",
        "f_score = f1_score(val_label,pred_labels)\n",
        "a_score = accuracy_score(val_label,pred_labels)\n",
        "print('F1 Score: ', f_score)\n",
        "print('Accuracy Score: ', a_score)\n",
        "print('Classification Report:')\n",
        "print(classification_report(val_label,pred_labels))\n",
        "\n",
        "print('Training and saving built model.....')   "
      ]
    },
    {
      "cell_type": "code",
      "execution_count": 55,
      "id": "63eefa28",
      "metadata": {
        "id": "63eefa28"
      },
      "outputs": [],
      "source": [
        "#Tokenize test data\n",
        "input_ids_test=[]\n",
        "attention_masks_test=[]\n",
        "\n",
        "sentences=test['text']\n",
        "for sent in sentences:\n",
        "    bert_inp_test=bert_tokenizer.encode_plus(sent, add_special_tokens = True,max_length =64, padding='max_length', return_attention_mask = True)\n",
        "    input_ids_test.append(bert_inp_test['input_ids'])\n",
        "    attention_masks_test.append(bert_inp_test['attention_mask'])\n",
        "\n",
        "input_ids_test=np.asarray(input_ids_test)\n",
        "attention_masks_test=np.array(attention_masks_test)"
      ]
    },
    {
      "cell_type": "code",
      "source": [
        "preds_test = bert_model.predict([input_ids_test,attention_masks_test],batch_size=32)\n",
        "test['target']  = np.argmax(preds_test.logits, axis=1)\n",
        "sub_bert = test[['id','target']].copy()\n",
        "sub_bert.to_csv('submission_bert.csv', index = False)\n",
        "files.download('submission_bert.csv')\n",
        "#Result: 0.81612"
      ],
      "metadata": {
        "colab": {
          "base_uri": "https://localhost:8080/",
          "height": 17
        },
        "id": "B6H9Cp40Xeis",
        "outputId": "6622c35a-5029-4ae5-bb2e-da501ef231dd"
      },
      "id": "B6H9Cp40Xeis",
      "execution_count": 56,
      "outputs": [
        {
          "output_type": "display_data",
          "data": {
            "text/plain": [
              "<IPython.core.display.Javascript object>"
            ],
            "application/javascript": [
              "\n",
              "    async function download(id, filename, size) {\n",
              "      if (!google.colab.kernel.accessAllowed) {\n",
              "        return;\n",
              "      }\n",
              "      const div = document.createElement('div');\n",
              "      const label = document.createElement('label');\n",
              "      label.textContent = `Downloading \"${filename}\": `;\n",
              "      div.appendChild(label);\n",
              "      const progress = document.createElement('progress');\n",
              "      progress.max = size;\n",
              "      div.appendChild(progress);\n",
              "      document.body.appendChild(div);\n",
              "\n",
              "      const buffers = [];\n",
              "      let downloaded = 0;\n",
              "\n",
              "      const channel = await google.colab.kernel.comms.open(id);\n",
              "      // Send a message to notify the kernel that we're ready.\n",
              "      channel.send({})\n",
              "\n",
              "      for await (const message of channel.messages) {\n",
              "        // Send a message to notify the kernel that we're ready.\n",
              "        channel.send({})\n",
              "        if (message.buffers) {\n",
              "          for (const buffer of message.buffers) {\n",
              "            buffers.push(buffer);\n",
              "            downloaded += buffer.byteLength;\n",
              "            progress.value = downloaded;\n",
              "          }\n",
              "        }\n",
              "      }\n",
              "      const blob = new Blob(buffers, {type: 'application/binary'});\n",
              "      const a = document.createElement('a');\n",
              "      a.href = window.URL.createObjectURL(blob);\n",
              "      a.download = filename;\n",
              "      div.appendChild(a);\n",
              "      a.click();\n",
              "      div.remove();\n",
              "    }\n",
              "  "
            ]
          },
          "metadata": {}
        },
        {
          "output_type": "display_data",
          "data": {
            "text/plain": [
              "<IPython.core.display.Javascript object>"
            ],
            "application/javascript": [
              "download(\"download_ac55a8f8-3047-41ea-9321-42b1ed8c6f63\", \"submission_bert.csv\", 22746)"
            ]
          },
          "metadata": {}
        }
      ]
    },
    {
      "cell_type": "code",
      "source": [
        "#Prepare for the random forest model -> we need to probability of the prediction (using softmax function)\n",
        "preds_train = bert_model.predict([input_ids, attention_masks],batch_size=32)\n",
        "train['bert_pred'] = tf.nn.softmax(preds_train.logits, axis=1)[:,1]\n",
        "test['bert_pred'] = tf.nn.softmax(preds_test.logits, axis=1)[:,1]"
      ],
      "metadata": {
        "id": "rtUrev4LBZWu"
      },
      "id": "rtUrev4LBZWu",
      "execution_count": 57,
      "outputs": []
    },
    {
      "cell_type": "markdown",
      "source": [
        "Random Forest"
      ],
      "metadata": {
        "id": "vMt15IW0Vr51"
      },
      "id": "vMt15IW0Vr51"
    },
    {
      "cell_type": "code",
      "source": [
        "X_rf = train[['keyword', 'lstm_pred', 'bert_pred']]\n",
        "y_rf = train['target']\n",
        "test_rf = test[['keyword', 'lstm_pred', 'bert_pred']]"
      ],
      "metadata": {
        "id": "UuPJtt8k1J7d"
      },
      "execution_count": 58,
      "outputs": [],
      "id": "UuPJtt8k1J7d"
    },
    {
      "cell_type": "code",
      "source": [
        "#LabelEncoder for keywords\n",
        "le = LabelEncoder()\n",
        "X_rf['keyword'] = le.fit_transform(X_rf['keyword'])\n",
        "test_rf['keyword'] = le.transform(test_rf['keyword'])"
      ],
      "metadata": {
        "colab": {
          "base_uri": "https://localhost:8080/"
        },
        "id": "_NQFbkjd1J_q",
        "outputId": "2afd9978-f6d4-4278-fbad-7287609306f9"
      },
      "execution_count": 59,
      "outputs": [
        {
          "output_type": "stream",
          "name": "stderr",
          "text": [
            "/usr/local/lib/python3.7/dist-packages/ipykernel_launcher.py:3: SettingWithCopyWarning: \n",
            "A value is trying to be set on a copy of a slice from a DataFrame.\n",
            "Try using .loc[row_indexer,col_indexer] = value instead\n",
            "\n",
            "See the caveats in the documentation: https://pandas.pydata.org/pandas-docs/stable/user_guide/indexing.html#returning-a-view-versus-a-copy\n",
            "  This is separate from the ipykernel package so we can avoid doing imports until\n",
            "/usr/local/lib/python3.7/dist-packages/ipykernel_launcher.py:4: SettingWithCopyWarning: \n",
            "A value is trying to be set on a copy of a slice from a DataFrame.\n",
            "Try using .loc[row_indexer,col_indexer] = value instead\n",
            "\n",
            "See the caveats in the documentation: https://pandas.pydata.org/pandas-docs/stable/user_guide/indexing.html#returning-a-view-versus-a-copy\n",
            "  after removing the cwd from sys.path.\n"
          ]
        }
      ],
      "id": "_NQFbkjd1J_q"
    },
    {
      "cell_type": "code",
      "source": [
        "#Split to train and validation data\n",
        "X_train_rf, X_val_rf, y_train_rf, y_val_rf = train_test_split(X_rf, y_rf, test_size=0.2, random_state = 42)"
      ],
      "metadata": {
        "id": "nVDZ06hb2kXI"
      },
      "execution_count": 60,
      "outputs": [],
      "id": "nVDZ06hb2kXI"
    },
    {
      "cell_type": "code",
      "source": [
        "#Random Forest model\n",
        "rf = RandomForestClassifier(random_state=42)\n",
        "\n",
        "rf.fit(X_train_rf, y_train_rf)\n",
        "\n",
        "y_pred_rf = rf.predict(X_val_rf)\n",
        "\n",
        "print(\"Accuracy Score: \", accuracy_score(y_val_rf, y_pred_rf))\n",
        "plt.figure(figsize = (8,6))\n",
        "\n",
        "sns.heatmap(confusion_matrix(y_val_rf, y_pred_rf), annot=True, fmt='', cmap='Blues')\n",
        "\n",
        "plt.xlabel('Predicted')\n",
        "plt.ylabel('Real')"
      ],
      "metadata": {
        "colab": {
          "base_uri": "https://localhost:8080/",
          "height": 423
        },
        "id": "Okb7zasT2N64",
        "outputId": "90a624a5-d635-4405-9e91-348a2bcba776"
      },
      "execution_count": 61,
      "outputs": [
        {
          "output_type": "stream",
          "name": "stdout",
          "text": [
            "Accuracy Score:  0.9258043335521996\n"
          ]
        },
        {
          "output_type": "execute_result",
          "data": {
            "text/plain": [
              "Text(51.0, 0.5, 'Real')"
            ]
          },
          "metadata": {},
          "execution_count": 61
        },
        {
          "output_type": "display_data",
          "data": {
            "text/plain": [
              "<Figure size 576x432 with 2 Axes>"
            ],
            "image/png": "[encoded data removed]"
          },
          "metadata": {
            "needs_background": "light"
          }
        }
      ],
      "id": "Okb7zasT2N64"
    },
    {
      "cell_type": "code",
      "source": [
        "#Store result and submission\n",
        "target = rf.predict(test_rf)\n",
        "test['target'] = target\n",
        "sub_rf = test[['id','target']].copy()\n",
        "sub_rf.to_csv('submission_rf.csv', index = False)\n",
        "files.download('submission_rf.csv')\n",
        "#Result: 0.81642"
      ],
      "metadata": {
        "colab": {
          "base_uri": "https://localhost:8080/",
          "height": 17
        },
        "id": "EQfZKfwV5Qao",
        "outputId": "8ca26074-a0d8-44fe-ac85-c0161cf420c4"
      },
      "execution_count": 62,
      "outputs": [
        {
          "output_type": "display_data",
          "data": {
            "text/plain": [
              "<IPython.core.display.Javascript object>"
            ],
            "application/javascript": [
              "\n",
              "    async function download(id, filename, size) {\n",
              "      if (!google.colab.kernel.accessAllowed) {\n",
              "        return;\n",
              "      }\n",
              "      const div = document.createElement('div');\n",
              "      const label = document.createElement('label');\n",
              "      label.textContent = `Downloading \"${filename}\": `;\n",
              "      div.appendChild(label);\n",
              "      const progress = document.createElement('progress');\n",
              "      progress.max = size;\n",
              "      div.appendChild(progress);\n",
              "      document.body.appendChild(div);\n",
              "\n",
              "      const buffers = [];\n",
              "      let downloaded = 0;\n",
              "\n",
              "      const channel = await google.colab.kernel.comms.open(id);\n",
              "      // Send a message to notify the kernel that we're ready.\n",
              "      channel.send({})\n",
              "\n",
              "      for await (const message of channel.messages) {\n",
              "        // Send a message to notify the kernel that we're ready.\n",
              "        channel.send({})\n",
              "        if (message.buffers) {\n",
              "          for (const buffer of message.buffers) {\n",
              "            buffers.push(buffer);\n",
              "            downloaded += buffer.byteLength;\n",
              "            progress.value = downloaded;\n",
              "          }\n",
              "        }\n",
              "      }\n",
              "      const blob = new Blob(buffers, {type: 'application/binary'});\n",
              "      const a = document.createElement('a');\n",
              "      a.href = window.URL.createObjectURL(blob);\n",
              "      a.download = filename;\n",
              "      div.appendChild(a);\n",
              "      a.click();\n",
              "      div.remove();\n",
              "    }\n",
              "  "
            ]
          },
          "metadata": {}
        },
        {
          "output_type": "display_data",
          "data": {
            "text/plain": [
              "<IPython.core.display.Javascript object>"
            ],
            "application/javascript": [
              "download(\"download_f65fd180-7052-40aa-b2e1-5ef2b4eda905\", \"submission_rf.csv\", 22746)"
            ]
          },
          "metadata": {}
        }
      ],
      "id": "EQfZKfwV5Qao"
    },
    {
      "cell_type": "markdown",
      "source": [
        "When we combine BERT with Random Forest, it only improve a little (No improvement). \n",
        "\n",
        "The reason may be the keywords are already contained in the text, which BERT already deal with it.\n",
        "\n",
        "Future Improvement:\n",
        "\n",
        "1. Apply the Large BERT Model\n",
        "2. Better data cleanning process\n",
        "3. Fine tuning \n",
        "4. Other model (Glove, ALBERT...)"
      ],
      "metadata": {
        "id": "s8U77EdD6OQq"
      },
      "id": "s8U77EdD6OQq"
    }
  ],
  "metadata": {
    "kernelspec": {
      "display_name": "Python 3.9 (tensorflow)",
      "language": "python",
      "name": "tensorflow"
    },
    "language_info": {
      "codemirror_mode": {
        "name": "ipython",
        "version": 3
      },
      "file_extension": ".py",
      "mimetype": "text/x-python",
      "name": "python",
      "nbconvert_exporter": "python",
      "pygments_lexer": "ipython3",
      "version": "3.9.13"
    },
    "colab": {
      "provenance": [],
      "include_colab_link": true
    },
    "gpuClass": "standard",
    "accelerator": "GPU"
  },
  "nbformat": 4,
  "nbformat_minor": 5
}