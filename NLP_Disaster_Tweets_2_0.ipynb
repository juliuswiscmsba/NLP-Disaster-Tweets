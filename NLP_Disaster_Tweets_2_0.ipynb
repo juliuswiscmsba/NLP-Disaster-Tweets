{
  "cells": [
    {
      "cell_type": "markdown",
      "metadata": {
        "id": "view-in-github",
        "colab_type": "text"
      },
      "source": [
        "<a href=\"https://colab.research.google.com/github/juliuswiscmsba/NLP-Disaster-Tweets/blob/main/NLP_Disaster_Tweets_2_0.ipynb\" target=\"_parent\"><img src=\"https://colab.research.google.com/assets/colab-badge.svg\" alt=\"Open In Colab\"/></a>"
      ]
    },
    {
      "cell_type": "markdown",
      "source": [
        "NLP Disaster Tweets from Kaggle\n",
        "\n",
        "Apply LSTM and BERT to deal with text, and Random Forest to work on other columns (combining the result from BERT and LSTM).\n",
        "\n",
        "Version 2.0: Repalce keyword by the result of applying Naive Bayes in text. \n",
        "\n",
        "REFERENCE:\n",
        "1. https://www.kaggle.com/code/tmishinev/nlp-d-tweets-keras-bert-0-83/notebook\n",
        "2. https://www.kaggle.com/code/datafan07/disaster-tweets-nlp-eda-bert-with-transformers#Building-the-Bert-Model\n",
        "3. https://towardsdatascience.com/multi-class-text-classification-with-lstm-1590bee1bd17\n",
        "4. https://towardsdatascience.com/bert-in-keras-with-tensorflow-hub-76bcbc9417b\n",
        "5. https://swatimeena989.medium.com/bert-text-classification-using-keras-903671e0207d\n",
        "6. https://www.kaggle.com/code/ryanluoli2/a-complete-guide-to-naive-bayes-classifiers/notebook"
      ],
      "metadata": {
        "id": "3T3rOeIZ8bR2"
      },
      "id": "3T3rOeIZ8bR2"
    },
    {
      "cell_type": "code",
      "execution_count": 1,
      "id": "0d922465",
      "metadata": {
        "id": "0d922465"
      },
      "outputs": [],
      "source": [
        "import pandas as pd\n",
        "import numpy as np\n",
        "import matplotlib.pyplot as plt\n",
        "import seaborn as sns\n",
        "import re\n",
        "import string\n",
        "\n",
        "import nltk\n",
        "from nltk.corpus import stopwords\n",
        "from nltk.stem import WordNetLemmatizer\n",
        "\n",
        "import tensorflow as tf\n",
        "import keras\n",
        "\n",
        "from keras.preprocessing.text import Tokenizer\n",
        "from keras.preprocessing.sequence import pad_sequences\n",
        "from keras.models import Model, Sequential\n",
        "from keras.layers import GRU, Input, Dense, Activation, RepeatVector, Bidirectional, LSTM, Dropout, Embedding\n",
        "from tensorflow.python.keras.layers.embeddings import Embedding \n",
        "from keras.losses import sparse_categorical_crossentropy\n",
        "from keras.preprocessing import sequence\n",
        "from keras.callbacks import EarlyStopping\n",
        "from tensorflow.python.client import device_lib\n",
        "\n",
        "from sklearn.model_selection import train_test_split, StratifiedKFold\n",
        "from sklearn.metrics import confusion_matrix, classification_report, f1_score, accuracy_score\n",
        "from sklearn.preprocessing import LabelEncoder\n",
        "from sklearn.ensemble import RandomForestClassifier\n"
      ]
    },
    {
      "cell_type": "code",
      "source": [
        "nltk.download(['stopwords',\n",
        "               'wordnet',\n",
        "               'omw-1.4'])"
      ],
      "metadata": {
        "colab": {
          "base_uri": "https://localhost:8080/"
        },
        "id": "hKtuKJC8MaAm",
        "outputId": "a605fbd6-75d1-4335-d96c-726b9af0f92e"
      },
      "id": "hKtuKJC8MaAm",
      "execution_count": 2,
      "outputs": [
        {
          "output_type": "stream",
          "name": "stderr",
          "text": [
            "[nltk_data] Downloading package stopwords to /root/nltk_data...\n",
            "[nltk_data]   Unzipping corpora/stopwords.zip.\n",
            "[nltk_data] Downloading package wordnet to /root/nltk_data...\n",
            "[nltk_data] Downloading package omw-1.4 to /root/nltk_data...\n"
          ]
        },
        {
          "output_type": "execute_result",
          "data": {
            "text/plain": [
              "True"
            ]
          },
          "metadata": {},
          "execution_count": 2
        }
      ]
    },
    {
      "cell_type": "code",
      "source": [
        "from google.colab import files\n",
        "train = files.upload()\n",
        "test = files.upload()"
      ],
      "metadata": {
        "colab": {
          "base_uri": "https://localhost:8080/",
          "height": 128
        },
        "id": "Q8lpzn4hKOMy",
        "outputId": "405d79dc-070a-4737-badd-386ea990e319"
      },
      "id": "Q8lpzn4hKOMy",
      "execution_count": 3,
      "outputs": [
        {
          "output_type": "display_data",
          "data": {
            "text/plain": [
              "<IPython.core.display.HTML object>"
            ],
            "text/html": [
              "\n",
              "     <input type=\"file\" id=\"files-112b275e-2c1f-43e5-ba93-72cb99bd0754\" name=\"files[]\" multiple disabled\n",
              "        style=\"border:none\" />\n",
              "     <output id=\"result-112b275e-2c1f-43e5-ba93-72cb99bd0754\">\n",
              "      Upload widget is only available when the cell has been executed in the\n",
              "      current browser session. Please rerun this cell to enable.\n",
              "      </output>\n",
              "      <script>// Copyright 2017 Google LLC\n",
              "//\n",
              "// Licensed under the Apache License, Version 2.0 (the \"License\");\n",
              "// you may not use this file except in compliance with the License.\n",
              "// You may obtain a copy of the License at\n",
              "//\n",
              "//      http://www.apache.org/licenses/LICENSE-2.0\n",
              "//\n",
              "// Unless required by applicable law or agreed to in writing, software\n",
              "// distributed under the License is distributed on an \"AS IS\" BASIS,\n",
              "// WITHOUT WARRANTIES OR CONDITIONS OF ANY KIND, either express or implied.\n",
              "// See the License for the specific language governing permissions and\n",
              "// limitations under the License.\n",
              "\n",
              "/**\n",
              " * @fileoverview Helpers for google.colab Python module.\n",
              " */\n",
              "(function(scope) {\n",
              "function span(text, styleAttributes = {}) {\n",
              "  const element = document.createElement('span');\n",
              "  element.textContent = text;\n",
              "  for (const key of Object.keys(styleAttributes)) {\n",
              "    element.style[key] = styleAttributes[key];\n",
              "  }\n",
              "  return element;\n",
              "}\n",
              "\n",
              "// Max number of bytes which will be uploaded at a time.\n",
              "const MAX_PAYLOAD_SIZE = 100 * 1024;\n",
              "\n",
              "function _uploadFiles(inputId, outputId) {\n",
              "  const steps = uploadFilesStep(inputId, outputId);\n",
              "  const outputElement = document.getElementById(outputId);\n",
              "  // Cache steps on the outputElement to make it available for the next call\n",
              "  // to uploadFilesContinue from Python.\n",
              "  outputElement.steps = steps;\n",
              "\n",
              "  return _uploadFilesContinue(outputId);\n",
              "}\n",
              "\n",
              "// This is roughly an async generator (not supported in the browser yet),\n",
              "// where there are multiple asynchronous steps and the Python side is going\n",
              "// to poll for completion of each step.\n",
              "// This uses a Promise to block the python side on completion of each step,\n",
              "// then passes the result of the previous step as the input to the next step.\n",
              "function _uploadFilesContinue(outputId) {\n",
              "  const outputElement = document.getElementById(outputId);\n",
              "  const steps = outputElement.steps;\n",
              "\n",
              "  const next = steps.next(outputElement.lastPromiseValue);\n",
              "  return Promise.resolve(next.value.promise).then((value) => {\n",
              "    // Cache the last promise value to make it available to the next\n",
              "    // step of the generator.\n",
              "    outputElement.lastPromiseValue = value;\n",
              "    return next.value.response;\n",
              "  });\n",
              "}\n",
              "\n",
              "/**\n",
              " * Generator function which is called between each async step of the upload\n",
              " * process.\n",
              " * @param {string} inputId Element ID of the input file picker element.\n",
              " * @param {string} outputId Element ID of the output display.\n",
              " * @return {!Iterable<!Object>} Iterable of next steps.\n",
              " */\n",
              "function* uploadFilesStep(inputId, outputId) {\n",
              "  const inputElement = document.getElementById(inputId);\n",
              "  inputElement.disabled = false;\n",
              "\n",
              "  const outputElement = document.getElementById(outputId);\n",
              "  outputElement.innerHTML = '';\n",
              "\n",
              "  const pickedPromise = new Promise((resolve) => {\n",
              "    inputElement.addEventListener('change', (e) => {\n",
              "      resolve(e.target.files);\n",
              "    });\n",
              "  });\n",
              "\n",
              "  const cancel = document.createElement('button');\n",
              "  inputElement.parentElement.appendChild(cancel);\n",
              "  cancel.textContent = 'Cancel upload';\n",
              "  const cancelPromise = new Promise((resolve) => {\n",
              "    cancel.onclick = () => {\n",
              "      resolve(null);\n",
              "    };\n",
              "  });\n",
              "\n",
              "  // Wait for the user to pick the files.\n",
              "  const files = yield {\n",
              "    promise: Promise.race([pickedPromise, cancelPromise]),\n",
              "    response: {\n",
              "      action: 'starting',\n",
              "    }\n",
              "  };\n",
              "\n",
              "  cancel.remove();\n",
              "\n",
              "  // Disable the input element since further picks are not allowed.\n",
              "  inputElement.disabled = true;\n",
              "\n",
              "  if (!files) {\n",
              "    return {\n",
              "      response: {\n",
              "        action: 'complete',\n",
              "      }\n",
              "    };\n",
              "  }\n",
              "\n",
              "  for (const file of files) {\n",
              "    const li = document.createElement('li');\n",
              "    li.append(span(file.name, {fontWeight: 'bold'}));\n",
              "    li.append(span(\n",
              "        `(${file.type || 'n/a'}) - ${file.size} bytes, ` +\n",
              "        `last modified: ${\n",
              "            file.lastModifiedDate ? file.lastModifiedDate.toLocaleDateString() :\n",
              "                                    'n/a'} - `));\n",
              "    const percent = span('0% done');\n",
              "    li.appendChild(percent);\n",
              "\n",
              "    outputElement.appendChild(li);\n",
              "\n",
              "    const fileDataPromise = new Promise((resolve) => {\n",
              "      const reader = new FileReader();\n",
              "      reader.onload = (e) => {\n",
              "        resolve(e.target.result);\n",
              "      };\n",
              "      reader.readAsArrayBuffer(file);\n",
              "    });\n",
              "    // Wait for the data to be ready.\n",
              "    let fileData = yield {\n",
              "      promise: fileDataPromise,\n",
              "      response: {\n",
              "        action: 'continue',\n",
              "      }\n",
              "    };\n",
              "\n",
              "    // Use a chunked sending to avoid message size limits. See b/62115660.\n",
              "    let position = 0;\n",
              "    do {\n",
              "      const length = Math.min(fileData.byteLength - position, MAX_PAYLOAD_SIZE);\n",
              "      const chunk = new Uint8Array(fileData, position, length);\n",
              "      position += length;\n",
              "\n",
              "      const base64 = btoa(String.fromCharCode.apply(null, chunk));\n",
              "      yield {\n",
              "        response: {\n",
              "          action: 'append',\n",
              "          file: file.name,\n",
              "          data: base64,\n",
              "        },\n",
              "      };\n",
              "\n",
              "      let percentDone = fileData.byteLength === 0 ?\n",
              "          100 :\n",
              "          Math.round((position / fileData.byteLength) * 100);\n",
              "      percent.textContent = `${percentDone}% done`;\n",
              "\n",
              "    } while (position < fileData.byteLength);\n",
              "  }\n",
              "\n",
              "  // All done.\n",
              "  yield {\n",
              "    response: {\n",
              "      action: 'complete',\n",
              "    }\n",
              "  };\n",
              "}\n",
              "\n",
              "scope.google = scope.google || {};\n",
              "scope.google.colab = scope.google.colab || {};\n",
              "scope.google.colab._files = {\n",
              "  _uploadFiles,\n",
              "  _uploadFilesContinue,\n",
              "};\n",
              "})(self);\n",
              "</script> "
            ]
          },
          "metadata": {}
        },
        {
          "output_type": "stream",
          "name": "stdout",
          "text": [
            "Saving train.csv to train.csv\n"
          ]
        },
        {
          "output_type": "display_data",
          "data": {
            "text/plain": [
              "<IPython.core.display.HTML object>"
            ],
            "text/html": [
              "\n",
              "     <input type=\"file\" id=\"files-b91dd7bf-03c7-4651-9d86-5a2c172cd11e\" name=\"files[]\" multiple disabled\n",
              "        style=\"border:none\" />\n",
              "     <output id=\"result-b91dd7bf-03c7-4651-9d86-5a2c172cd11e\">\n",
              "      Upload widget is only available when the cell has been executed in the\n",
              "      current browser session. Please rerun this cell to enable.\n",
              "      </output>\n",
              "      <script>// Copyright 2017 Google LLC\n",
              "//\n",
              "// Licensed under the Apache License, Version 2.0 (the \"License\");\n",
              "// you may not use this file except in compliance with the License.\n",
              "// You may obtain a copy of the License at\n",
              "//\n",
              "//      http://www.apache.org/licenses/LICENSE-2.0\n",
              "//\n",
              "// Unless required by applicable law or agreed to in writing, software\n",
              "// distributed under the License is distributed on an \"AS IS\" BASIS,\n",
              "// WITHOUT WARRANTIES OR CONDITIONS OF ANY KIND, either express or implied.\n",
              "// See the License for the specific language governing permissions and\n",
              "// limitations under the License.\n",
              "\n",
              "/**\n",
              " * @fileoverview Helpers for google.colab Python module.\n",
              " */\n",
              "(function(scope) {\n",
              "function span(text, styleAttributes = {}) {\n",
              "  const element = document.createElement('span');\n",
              "  element.textContent = text;\n",
              "  for (const key of Object.keys(styleAttributes)) {\n",
              "    element.style[key] = styleAttributes[key];\n",
              "  }\n",
              "  return element;\n",
              "}\n",
              "\n",
              "// Max number of bytes which will be uploaded at a time.\n",
              "const MAX_PAYLOAD_SIZE = 100 * 1024;\n",
              "\n",
              "function _uploadFiles(inputId, outputId) {\n",
              "  const steps = uploadFilesStep(inputId, outputId);\n",
              "  const outputElement = document.getElementById(outputId);\n",
              "  // Cache steps on the outputElement to make it available for the next call\n",
              "  // to uploadFilesContinue from Python.\n",
              "  outputElement.steps = steps;\n",
              "\n",
              "  return _uploadFilesContinue(outputId);\n",
              "}\n",
              "\n",
              "// This is roughly an async generator (not supported in the browser yet),\n",
              "// where there are multiple asynchronous steps and the Python side is going\n",
              "// to poll for completion of each step.\n",
              "// This uses a Promise to block the python side on completion of each step,\n",
              "// then passes the result of the previous step as the input to the next step.\n",
              "function _uploadFilesContinue(outputId) {\n",
              "  const outputElement = document.getElementById(outputId);\n",
              "  const steps = outputElement.steps;\n",
              "\n",
              "  const next = steps.next(outputElement.lastPromiseValue);\n",
              "  return Promise.resolve(next.value.promise).then((value) => {\n",
              "    // Cache the last promise value to make it available to the next\n",
              "    // step of the generator.\n",
              "    outputElement.lastPromiseValue = value;\n",
              "    return next.value.response;\n",
              "  });\n",
              "}\n",
              "\n",
              "/**\n",
              " * Generator function which is called between each async step of the upload\n",
              " * process.\n",
              " * @param {string} inputId Element ID of the input file picker element.\n",
              " * @param {string} outputId Element ID of the output display.\n",
              " * @return {!Iterable<!Object>} Iterable of next steps.\n",
              " */\n",
              "function* uploadFilesStep(inputId, outputId) {\n",
              "  const inputElement = document.getElementById(inputId);\n",
              "  inputElement.disabled = false;\n",
              "\n",
              "  const outputElement = document.getElementById(outputId);\n",
              "  outputElement.innerHTML = '';\n",
              "\n",
              "  const pickedPromise = new Promise((resolve) => {\n",
              "    inputElement.addEventListener('change', (e) => {\n",
              "      resolve(e.target.files);\n",
              "    });\n",
              "  });\n",
              "\n",
              "  const cancel = document.createElement('button');\n",
              "  inputElement.parentElement.appendChild(cancel);\n",
              "  cancel.textContent = 'Cancel upload';\n",
              "  const cancelPromise = new Promise((resolve) => {\n",
              "    cancel.onclick = () => {\n",
              "      resolve(null);\n",
              "    };\n",
              "  });\n",
              "\n",
              "  // Wait for the user to pick the files.\n",
              "  const files = yield {\n",
              "    promise: Promise.race([pickedPromise, cancelPromise]),\n",
              "    response: {\n",
              "      action: 'starting',\n",
              "    }\n",
              "  };\n",
              "\n",
              "  cancel.remove();\n",
              "\n",
              "  // Disable the input element since further picks are not allowed.\n",
              "  inputElement.disabled = true;\n",
              "\n",
              "  if (!files) {\n",
              "    return {\n",
              "      response: {\n",
              "        action: 'complete',\n",
              "      }\n",
              "    };\n",
              "  }\n",
              "\n",
              "  for (const file of files) {\n",
              "    const li = document.createElement('li');\n",
              "    li.append(span(file.name, {fontWeight: 'bold'}));\n",
              "    li.append(span(\n",
              "        `(${file.type || 'n/a'}) - ${file.size} bytes, ` +\n",
              "        `last modified: ${\n",
              "            file.lastModifiedDate ? file.lastModifiedDate.toLocaleDateString() :\n",
              "                                    'n/a'} - `));\n",
              "    const percent = span('0% done');\n",
              "    li.appendChild(percent);\n",
              "\n",
              "    outputElement.appendChild(li);\n",
              "\n",
              "    const fileDataPromise = new Promise((resolve) => {\n",
              "      const reader = new FileReader();\n",
              "      reader.onload = (e) => {\n",
              "        resolve(e.target.result);\n",
              "      };\n",
              "      reader.readAsArrayBuffer(file);\n",
              "    });\n",
              "    // Wait for the data to be ready.\n",
              "    let fileData = yield {\n",
              "      promise: fileDataPromise,\n",
              "      response: {\n",
              "        action: 'continue',\n",
              "      }\n",
              "    };\n",
              "\n",
              "    // Use a chunked sending to avoid message size limits. See b/62115660.\n",
              "    let position = 0;\n",
              "    do {\n",
              "      const length = Math.min(fileData.byteLength - position, MAX_PAYLOAD_SIZE);\n",
              "      const chunk = new Uint8Array(fileData, position, length);\n",
              "      position += length;\n",
              "\n",
              "      const base64 = btoa(String.fromCharCode.apply(null, chunk));\n",
              "      yield {\n",
              "        response: {\n",
              "          action: 'append',\n",
              "          file: file.name,\n",
              "          data: base64,\n",
              "        },\n",
              "      };\n",
              "\n",
              "      let percentDone = fileData.byteLength === 0 ?\n",
              "          100 :\n",
              "          Math.round((position / fileData.byteLength) * 100);\n",
              "      percent.textContent = `${percentDone}% done`;\n",
              "\n",
              "    } while (position < fileData.byteLength);\n",
              "  }\n",
              "\n",
              "  // All done.\n",
              "  yield {\n",
              "    response: {\n",
              "      action: 'complete',\n",
              "    }\n",
              "  };\n",
              "}\n",
              "\n",
              "scope.google = scope.google || {};\n",
              "scope.google.colab = scope.google.colab || {};\n",
              "scope.google.colab._files = {\n",
              "  _uploadFiles,\n",
              "  _uploadFilesContinue,\n",
              "};\n",
              "})(self);\n",
              "</script> "
            ]
          },
          "metadata": {}
        },
        {
          "output_type": "stream",
          "name": "stdout",
          "text": [
            "Saving test.csv to test.csv\n"
          ]
        }
      ]
    },
    {
      "cell_type": "code",
      "execution_count": 4,
      "id": "53211426",
      "metadata": {
        "id": "53211426"
      },
      "outputs": [],
      "source": [
        "train = pd.read_csv(\"train.csv\")\n",
        "test = pd.read_csv(\"test.csv\")"
      ]
    },
    {
      "cell_type": "code",
      "execution_count": 5,
      "id": "69be5224",
      "metadata": {
        "colab": {
          "base_uri": "https://localhost:8080/",
          "height": 206
        },
        "id": "69be5224",
        "outputId": "7bb53e84-2749-45cf-88e0-3ae9c8c05ebe"
      },
      "outputs": [
        {
          "output_type": "execute_result",
          "data": {
            "text/plain": [
              "   id keyword location                                               text  \\\n",
              "0   1     NaN      NaN  Our Deeds are the Reason of this #earthquake M...   \n",
              "1   4     NaN      NaN             Forest fire near La Ronge Sask. Canada   \n",
              "2   5     NaN      NaN  All residents asked to 'shelter in place' are ...   \n",
              "3   6     NaN      NaN  13,000 people receive #wildfires evacuation or...   \n",
              "4   7     NaN      NaN  Just got sent this photo from Ruby #Alaska as ...   \n",
              "\n",
              "   target  \n",
              "0       1  \n",
              "1       1  \n",
              "2       1  \n",
              "3       1  \n",
              "4       1  "
            ],
            "text/html": [
              "\n",
              "  <div id=\"df-b38b1275-2e7d-4a89-a37a-a9572d939fd8\">\n",
              "    <div class=\"colab-df-container\">\n",
              "      <div>\n",
              "<style scoped>\n",
              "    .dataframe tbody tr th:only-of-type {\n",
              "        vertical-align: middle;\n",
              "    }\n",
              "\n",
              "    .dataframe tbody tr th {\n",
              "        vertical-align: top;\n",
              "    }\n",
              "\n",
              "    .dataframe thead th {\n",
              "        text-align: right;\n",
              "    }\n",
              "</style>\n",
              "<table border=\"1\" class=\"dataframe\">\n",
              "  <thead>\n",
              "    <tr style=\"text-align: right;\">\n",
              "      <th></th>\n",
              "      <th>id</th>\n",
              "      <th>keyword</th>\n",
              "      <th>location</th>\n",
              "      <th>text</th>\n",
              "      <th>target</th>\n",
              "    </tr>\n",
              "  </thead>\n",
              "  <tbody>\n",
              "    <tr>\n",
              "      <th>0</th>\n",
              "      <td>1</td>\n",
              "      <td>NaN</td>\n",
              "      <td>NaN</td>\n",
              "      <td>Our Deeds are the Reason of this #earthquake M...</td>\n",
              "      <td>1</td>\n",
              "    </tr>\n",
              "    <tr>\n",
              "      <th>1</th>\n",
              "      <td>4</td>\n",
              "      <td>NaN</td>\n",
              "      <td>NaN</td>\n",
              "      <td>Forest fire near La Ronge Sask. Canada</td>\n",
              "      <td>1</td>\n",
              "    </tr>\n",
              "    <tr>\n",
              "      <th>2</th>\n",
              "      <td>5</td>\n",
              "      <td>NaN</td>\n",
              "      <td>NaN</td>\n",
              "      <td>All residents asked to 'shelter in place' are ...</td>\n",
              "      <td>1</td>\n",
              "    </tr>\n",
              "    <tr>\n",
              "      <th>3</th>\n",
              "      <td>6</td>\n",
              "      <td>NaN</td>\n",
              "      <td>NaN</td>\n",
              "      <td>13,000 people receive #wildfires evacuation or...</td>\n",
              "      <td>1</td>\n",
              "    </tr>\n",
              "    <tr>\n",
              "      <th>4</th>\n",
              "      <td>7</td>\n",
              "      <td>NaN</td>\n",
              "      <td>NaN</td>\n",
              "      <td>Just got sent this photo from Ruby #Alaska as ...</td>\n",
              "      <td>1</td>\n",
              "    </tr>\n",
              "  </tbody>\n",
              "</table>\n",
              "</div>\n",
              "      <button class=\"colab-df-convert\" onclick=\"convertToInteractive('df-b38b1275-2e7d-4a89-a37a-a9572d939fd8')\"\n",
              "              title=\"Convert this dataframe to an interactive table.\"\n",
              "              style=\"display:none;\">\n",
              "        \n",
              "  <svg xmlns=\"http://www.w3.org/2000/svg\" height=\"24px\"viewBox=\"0 0 24 24\"\n",
              "       width=\"24px\">\n",
              "    <path d=\"M0 0h24v24H0V0z\" fill=\"none\"/>\n",
              "    <path d=\"M18.56 5.44l.94 2.06.94-2.06 2.06-.94-2.06-.94-.94-2.06-.94 2.06-2.06.94zm-11 1L8.5 8.5l.94-2.06 2.06-.94-2.06-.94L8.5 2.5l-.94 2.06-2.06.94zm10 10l.94 2.06.94-2.06 2.06-.94-2.06-.94-.94-2.06-.94 2.06-2.06.94z\"/><path d=\"M17.41 7.96l-1.37-1.37c-.4-.4-.92-.59-1.43-.59-.52 0-1.04.2-1.43.59L10.3 9.45l-7.72 7.72c-.78.78-.78 2.05 0 2.83L4 21.41c.39.39.9.59 1.41.59.51 0 1.02-.2 1.41-.59l7.78-7.78 2.81-2.81c.8-.78.8-2.07 0-2.86zM5.41 20L4 18.59l7.72-7.72 1.47 1.35L5.41 20z\"/>\n",
              "  </svg>\n",
              "      </button>\n",
              "      \n",
              "  <style>\n",
              "    .colab-df-container {\n",
              "      display:flex;\n",
              "      flex-wrap:wrap;\n",
              "      gap: 12px;\n",
              "    }\n",
              "\n",
              "    .colab-df-convert {\n",
              "      background-color: #E8F0FE;\n",
              "      border: none;\n",
              "      border-radius: 50%;\n",
              "      cursor: pointer;\n",
              "      display: none;\n",
              "      fill: #1967D2;\n",
              "      height: 32px;\n",
              "      padding: 0 0 0 0;\n",
              "      width: 32px;\n",
              "    }\n",
              "\n",
              "    .colab-df-convert:hover {\n",
              "      background-color: #E2EBFA;\n",
              "      box-shadow: 0px 1px 2px rgba(60, 64, 67, 0.3), 0px 1px 3px 1px rgba(60, 64, 67, 0.15);\n",
              "      fill: #174EA6;\n",
              "    }\n",
              "\n",
              "    [theme=dark] .colab-df-convert {\n",
              "      background-color: #3B4455;\n",
              "      fill: #D2E3FC;\n",
              "    }\n",
              "\n",
              "    [theme=dark] .colab-df-convert:hover {\n",
              "      background-color: #434B5C;\n",
              "      box-shadow: 0px 1px 3px 1px rgba(0, 0, 0, 0.15);\n",
              "      filter: drop-shadow(0px 1px 2px rgba(0, 0, 0, 0.3));\n",
              "      fill: #FFFFFF;\n",
              "    }\n",
              "  </style>\n",
              "\n",
              "      <script>\n",
              "        const buttonEl =\n",
              "          document.querySelector('#df-b38b1275-2e7d-4a89-a37a-a9572d939fd8 button.colab-df-convert');\n",
              "        buttonEl.style.display =\n",
              "          google.colab.kernel.accessAllowed ? 'block' : 'none';\n",
              "\n",
              "        async function convertToInteractive(key) {\n",
              "          const element = document.querySelector('#df-b38b1275-2e7d-4a89-a37a-a9572d939fd8');\n",
              "          const dataTable =\n",
              "            await google.colab.kernel.invokeFunction('convertToInteractive',\n",
              "                                                     [key], {});\n",
              "          if (!dataTable) return;\n",
              "\n",
              "          const docLinkHtml = 'Like what you see? Visit the ' +\n",
              "            '<a target=\"_blank\" href=https://colab.research.google.com/notebooks/data_table.ipynb>data table notebook</a>'\n",
              "            + ' to learn more about interactive tables.';\n",
              "          element.innerHTML = '';\n",
              "          dataTable['output_type'] = 'display_data';\n",
              "          await google.colab.output.renderOutput(dataTable, element);\n",
              "          const docLink = document.createElement('div');\n",
              "          docLink.innerHTML = docLinkHtml;\n",
              "          element.appendChild(docLink);\n",
              "        }\n",
              "      </script>\n",
              "    </div>\n",
              "  </div>\n",
              "  "
            ]
          },
          "metadata": {},
          "execution_count": 5
        }
      ],
      "source": [
        "train.head()"
      ]
    },
    {
      "cell_type": "code",
      "source": [
        "#Deal with NA\n",
        "train.keyword.fillna('Unknown', inplace=True)\n",
        "train.location.fillna('Unknown', inplace=True)\n",
        "test.keyword.fillna('Unknown', inplace=True)\n",
        "test.location.fillna('Unknown', inplace=True)"
      ],
      "metadata": {
        "id": "StSC7ZBWDTOS"
      },
      "id": "StSC7ZBWDTOS",
      "execution_count": 6,
      "outputs": []
    },
    {
      "cell_type": "code",
      "source": [
        "#Observe 'Keywords' column\n",
        "train.keyword.value_counts().head(20)\n",
        "#Some unknown value \n",
        "#Lemmatize seems to be a good method to deal with it. (weapon and weapons)"
      ],
      "metadata": {
        "colab": {
          "base_uri": "https://localhost:8080/"
        },
        "id": "Qbh2b5-hmHcJ",
        "outputId": "f3f0f6fd-5aaf-420b-f0cb-81f037b151ec"
      },
      "id": "Qbh2b5-hmHcJ",
      "execution_count": 7,
      "outputs": [
        {
          "output_type": "execute_result",
          "data": {
            "text/plain": [
              "Unknown        61\n",
              "fatalities     45\n",
              "deluge         42\n",
              "armageddon     42\n",
              "sinking        41\n",
              "damage         41\n",
              "harm           41\n",
              "body%20bags    41\n",
              "evacuate       40\n",
              "fear           40\n",
              "outbreak       40\n",
              "siren          40\n",
              "twister        40\n",
              "windstorm      40\n",
              "collided       40\n",
              "sinkhole       39\n",
              "sunk           39\n",
              "hellfire       39\n",
              "weapon         39\n",
              "weapons        39\n",
              "Name: keyword, dtype: int64"
            ]
          },
          "metadata": {},
          "execution_count": 7
        }
      ]
    },
    {
      "cell_type": "code",
      "source": [
        "#Observe 'location' column\n",
        "train.location.value_counts().head(20)\n",
        "#Too many unknown value, we should drop this column when running a ML or DL model, otherwise it may create noise that impact our predict."
      ],
      "metadata": {
        "colab": {
          "base_uri": "https://localhost:8080/"
        },
        "id": "x8l9DMIRCHg_",
        "outputId": "cbf0714a-dd14-4258-d94f-328a35eaea65"
      },
      "id": "x8l9DMIRCHg_",
      "execution_count": 8,
      "outputs": [
        {
          "output_type": "execute_result",
          "data": {
            "text/plain": [
              "Unknown            2535\n",
              "USA                 104\n",
              "New York             71\n",
              "United States        50\n",
              "London               45\n",
              "Canada               29\n",
              "Nigeria              28\n",
              "UK                   27\n",
              "Los Angeles, CA      26\n",
              "India                24\n",
              "Mumbai               22\n",
              "Washington, DC       21\n",
              "Kenya                20\n",
              "Worldwide            19\n",
              "Chicago, IL          18\n",
              "Australia            18\n",
              "California           17\n",
              "Everywhere           15\n",
              "California, USA      15\n",
              "New York, NY         15\n",
              "Name: location, dtype: int64"
            ]
          },
          "metadata": {},
          "execution_count": 8
        }
      ]
    },
    {
      "cell_type": "code",
      "execution_count": 9,
      "id": "d1c1fe25",
      "metadata": {
        "colab": {
          "base_uri": "https://localhost:8080/",
          "height": 420
        },
        "id": "d1c1fe25",
        "outputId": "c0938a49-d2b0-4489-b2a6-a179fb303879"
      },
      "outputs": [
        {
          "output_type": "execute_result",
          "data": {
            "text/plain": [
              "Text(0.5, 1.0, 'Distribution of words in each text')"
            ]
          },
          "metadata": {},
          "execution_count": 9
        },
        {
          "output_type": "display_data",
          "data": {
            "text/plain": [
              "<Figure size 576x360 with 0 Axes>"
            ]
          },
          "metadata": {}
        },
        {
          "output_type": "display_data",
          "data": {
            "text/plain": [
              "<Figure size 360x360 with 1 Axes>"
            ],
            "image/png": "[encoded data removed]"
          },
          "metadata": {
            "needs_background": "light"
          }
        }
      ],
      "source": [
        "#Observe 'text' column \n",
        "train['word_count'] = train['text'].apply(lambda x : len(x.split()))\n",
        "plt.figure(figsize = (8,5))\n",
        "sns.displot(data=train, x='word_count')\n",
        "plt.title(\"Distribution of words in each text\")\n",
        "#Most tweets contain less than 30 words, and the distribution looks good."
      ]
    },
    {
      "cell_type": "code",
      "execution_count": 10,
      "id": "b5896273",
      "metadata": {
        "colab": {
          "base_uri": "https://localhost:8080/",
          "height": 367
        },
        "id": "b5896273",
        "outputId": "1ba916b1-dc6b-4afe-b72e-da4ca7789200"
      },
      "outputs": [
        {
          "output_type": "execute_result",
          "data": {
            "text/plain": [
              "Text(0.5, 1.0, 'Distribution of the Target Label')"
            ]
          },
          "metadata": {},
          "execution_count": 10
        },
        {
          "output_type": "display_data",
          "data": {
            "text/plain": [
              "<Figure size 576x360 with 1 Axes>"
            ],
            "image/png": "[encoded data removed]"
          },
          "metadata": {
            "needs_background": "light"
          }
        }
      ],
      "source": [
        "#Oberseve 'target' column\n",
        "plt.figure(figsize = (8,5))\n",
        "sns.countplot(data = train, x = 'target')\n",
        "plt.title('Distribution of the Target Label')\n",
        "#0 is slightly more than 1 -> if unbalance, we should deal with it."
      ]
    },
    {
      "cell_type": "code",
      "execution_count": 11,
      "id": "238c30b4",
      "metadata": {
        "id": "238c30b4"
      },
      "outputs": [],
      "source": [
        "#Text cleaning and lemmatize\n",
        "def clean_text(text):\n",
        "    text = text.lower()\n",
        "    space = re.compile('[/(){}\\[\\]\\|@,;#]')\n",
        "    text = re.sub(space,' ', text) \n",
        "    ignore = re.compile('[^0-9a-z #+_]')\n",
        "    text = re.sub(ignore,'', text)\n",
        "    return text\n",
        "\n",
        "def remove_stopwords(text):\n",
        "    StopWords = nltk.corpus.stopwords.words('english')\n",
        "    text = ' '.join(word for word in text.split() if word not in StopWords) # remove stopwors from text\n",
        "    return text\n",
        "\n",
        "def remove_html(text):\n",
        "    html = re.compile(r'<.*?>|&([a-z0-9]+|#[0-9]{1,6}|#x[0-9a-f]{1,6});')\n",
        "    return re.sub(html, '', text)\n",
        "\n",
        "def remove_url(text):\n",
        "    url = re.compile(r'https?://\\S+|www\\.\\S+')\n",
        "    return url.sub(r'', text)\n",
        "\n",
        "def remove_emoji(text):\n",
        "    emoji_pattern = re.compile(\n",
        "        '['\n",
        "        u'\\U0001F600-\\U0001F64F'\n",
        "        u'\\U0001F300-\\U0001F5FF'  \n",
        "        u'\\U0001F680-\\U0001F6FF'  \n",
        "        u'\\U0001F1E0-\\U0001F1FF'  \n",
        "        u'\\U00002702-\\U000027B0'\n",
        "        u'\\U000024C2-\\U0001F251'\n",
        "        ']+',\n",
        "        flags=re.UNICODE)\n",
        "    return emoji_pattern.sub(r'', text)\n",
        "\n",
        "def lemmatizer(text):\n",
        "    text = text.split(\" \")\n",
        "    word_lem = WordNetLemmatizer()\n",
        "    l_text = \"\"\n",
        "    for t in text:\n",
        "        l = word_lem.lemmatize(t)\n",
        "        l_text += l\n",
        "        l_text += \" \"\n",
        "    \n",
        "    return l_text\n",
        "\n",
        "train['text'] = train['text'].apply(remove_html)\n",
        "train['text'] = train['text'].apply(remove_url)\n",
        "train['text'] = train['text'].apply(remove_emoji)\n",
        "train['text'] = train['text'].apply(clean_text)\n",
        "train['text'] = train['text'].apply(remove_stopwords)\n",
        "train['text'] = train['text'].apply(lemmatizer)\n",
        "train['keyword'] = train['keyword'].apply(lemmatizer)\n",
        "\n",
        "test['text'] = test['text'].apply(remove_html)\n",
        "test['text'] = test['text'].apply(remove_url)\n",
        "test['text'] = test['text'].apply(remove_emoji)\n",
        "test['text'] = test['text'].apply(clean_text)\n",
        "test['text'] = test['text'].apply(remove_stopwords)\n",
        "test['text'] = test['text'].apply(lemmatizer)\n",
        "test['keyword'] = test['keyword'].apply(lemmatizer)"
      ]
    },
    {
      "cell_type": "markdown",
      "source": [
        "First we build a BiLSTM model using only the text data"
      ],
      "metadata": {
        "id": "Sw-t-rrGLBEL"
      },
      "id": "Sw-t-rrGLBEL"
    },
    {
      "cell_type": "code",
      "execution_count": 12,
      "id": "f1517603",
      "metadata": {
        "id": "f1517603"
      },
      "outputs": [],
      "source": [
        "X = train.text\n",
        "y = train.target"
      ]
    },
    {
      "cell_type": "code",
      "execution_count": 13,
      "id": "fd2b29a1",
      "metadata": {
        "id": "fd2b29a1"
      },
      "outputs": [],
      "source": [
        "#define the LSTM model\n",
        "def LSTM_model():\n",
        "    model = tf.keras.Sequential([\n",
        "        Input(name='inputs',shape=[50]),\n",
        "        Embedding(len(tok.word_index), 128),\n",
        "        Bidirectional(tf.keras.layers.LSTM(128,  return_sequences=True, dropout=0.2)),\n",
        "        Bidirectional(tf.keras.layers.LSTM(64)),\n",
        "        Dense(64, activation='relu'),\n",
        "        Dense(1, activation='sigmoid')\n",
        "    ])\n",
        "\n",
        "    \n",
        "    model.compile(loss=tf.keras.losses.BinaryCrossentropy(),\n",
        "                  optimizer=tf.keras.optimizers.Adam(1e-4),\n",
        "                  metrics=['accuracy'])\n",
        "    \n",
        "    return model"
      ]
    },
    {
      "cell_type": "code",
      "execution_count": 14,
      "id": "a818cc4b",
      "metadata": {
        "id": "a818cc4b"
      },
      "outputs": [],
      "source": [
        "#Split the train, validation, and test data\n",
        "X_train, X_test, y_train, y_test = train_test_split(X, y, stratify = y, test_size = 0.2, random_state = 42)\n",
        "X_train, X_val, y_train, y_val = train_test_split(X_train, y_train, stratify = y_train, test_size = 0.1, random_state = 42)"
      ]
    },
    {
      "cell_type": "code",
      "execution_count": 15,
      "id": "bd767d58",
      "metadata": {
        "colab": {
          "base_uri": "https://localhost:8080/"
        },
        "id": "bd767d58",
        "outputId": "0507af97-bcff-48f3-848a-d00735ee8315"
      },
      "outputs": [
        {
          "output_type": "stream",
          "name": "stdout",
          "text": [
            "Epoch 1/15\n",
            "172/172 [==============================] - 19s 40ms/step - loss: 0.6770 - accuracy: 0.5692 - val_loss: 0.6608 - val_accuracy: 0.6059\n",
            "Epoch 2/15\n",
            "172/172 [==============================] - 4s 25ms/step - loss: 0.5349 - accuracy: 0.7389 - val_loss: 0.4770 - val_accuracy: 0.7734\n",
            "Epoch 3/15\n",
            "172/172 [==============================] - 5s 27ms/step - loss: 0.3251 - accuracy: 0.8706 - val_loss: 0.4840 - val_accuracy: 0.7882\n",
            "Epoch 4/15\n",
            "172/172 [==============================] - 6s 33ms/step - loss: 0.2342 - accuracy: 0.9142 - val_loss: 0.5403 - val_accuracy: 0.7652\n",
            "Epoch 5/15\n",
            "172/172 [==============================] - 6s 35ms/step - loss: 0.1750 - accuracy: 0.9391 - val_loss: 0.6322 - val_accuracy: 0.7800\n",
            "Epoch 6/15\n",
            "172/172 [==============================] - 6s 34ms/step - loss: 0.1372 - accuracy: 0.9498 - val_loss: 0.6370 - val_accuracy: 0.7685\n"
          ]
        }
      ],
      "source": [
        "#Tokenizer\n",
        "tok = Tokenizer()\n",
        "tok.fit_on_texts(X_train)\n",
        "\n",
        "#text to sequences\n",
        "train_sequences = tok.texts_to_sequences(X_train)\n",
        "val_sequences = tok.texts_to_sequences(X_val)\n",
        "test_sequences = tok.texts_to_sequences(X_test)\n",
        "\n",
        "#pad sequences\n",
        "X_train_seq = pad_sequences(train_sequences,maxlen=50)\n",
        "X_val_seq = pad_sequences(val_sequences,maxlen=50)\n",
        "X_test_seq = pad_sequences(test_sequences,maxlen=50)\n",
        "\n",
        "\n",
        "lstm_model = LSTM_model()\n",
        "#train the model\n",
        "history = lstm_model.fit(X_train_seq, y_train, epochs=15,\n",
        "                    validation_data =(X_val_seq, y_val), batch_size = 32, \n",
        "                    callbacks=[EarlyStopping(monitor='val_accuracy',mode='max', patience=3, verbose=False, restore_best_weights=True)])"
      ]
    },
    {
      "cell_type": "code",
      "execution_count": 16,
      "id": "057a373e",
      "metadata": {
        "id": "057a373e"
      },
      "outputs": [],
      "source": [
        "yhat = np.where(lstm_model.predict(X_test_seq) >=0.5,1,0)"
      ]
    },
    {
      "cell_type": "code",
      "execution_count": 17,
      "id": "b399c7fd",
      "metadata": {
        "colab": {
          "base_uri": "https://localhost:8080/"
        },
        "id": "b399c7fd",
        "outputId": "87f4f333-761e-4d4d-f418-1c80dad11168"
      },
      "outputs": [
        {
          "output_type": "stream",
          "name": "stdout",
          "text": [
            "              precision    recall  f1-score   support\n",
            "\n",
            "           0       0.79      0.90      0.84       869\n",
            "           1       0.84      0.68      0.75       654\n",
            "\n",
            "    accuracy                           0.81      1523\n",
            "   macro avg       0.81      0.79      0.80      1523\n",
            "weighted avg       0.81      0.81      0.80      1523\n",
            "\n"
          ]
        }
      ],
      "source": [
        "print(classification_report(y_test, yhat))"
      ]
    },
    {
      "cell_type": "code",
      "execution_count": 18,
      "id": "65a7b0f7",
      "metadata": {
        "colab": {
          "base_uri": "https://localhost:8080/",
          "height": 423
        },
        "id": "65a7b0f7",
        "outputId": "e5675999-a092-45b5-d367-cb7cfc0a9b6d"
      },
      "outputs": [
        {
          "output_type": "stream",
          "name": "stdout",
          "text": [
            "Accuracy Score:  0.8063033486539725\n"
          ]
        },
        {
          "output_type": "execute_result",
          "data": {
            "text/plain": [
              "Text(51.0, 0.5, 'Real')"
            ]
          },
          "metadata": {},
          "execution_count": 18
        },
        {
          "output_type": "display_data",
          "data": {
            "text/plain": [
              "<Figure size 576x432 with 2 Axes>"
            ],
            "image/png": "[encoded data removed]"
          },
          "metadata": {
            "needs_background": "light"
          }
        }
      ],
      "source": [
        "print('Accuracy Score: ', accuracy_score(y_test, yhat))\n",
        "plt.figure(figsize = (8,6))\n",
        "\n",
        "sns.heatmap(confusion_matrix(y_test, yhat), annot=True, fmt='', cmap='Blues')\n",
        "\n",
        "plt.xlabel('Predicted')\n",
        "plt.ylabel('Real')"
      ]
    },
    {
      "cell_type": "code",
      "execution_count": 19,
      "id": "1509f9f2",
      "metadata": {
        "colab": {
          "base_uri": "https://localhost:8080/"
        },
        "id": "1509f9f2",
        "outputId": "9c054843-cb51-4efc-ddda-35425c327523"
      },
      "outputs": [
        {
          "output_type": "stream",
          "name": "stdout",
          "text": [
            "Fold: 1, Epoch 1/15\n",
            "191/191 [==============================] - 11s 29ms/step - loss: 0.6757 - accuracy: 0.5749 - val_loss: 0.6393 - val_accuracy: 0.6205\n",
            "Epoch 2/15\n",
            "191/191 [==============================] - 4s 20ms/step - loss: 0.4738 - accuracy: 0.7905 - val_loss: 0.4506 - val_accuracy: 0.7997\n",
            "Epoch 3/15\n",
            "191/191 [==============================] - 4s 20ms/step - loss: 0.3042 - accuracy: 0.8773 - val_loss: 0.4741 - val_accuracy: 0.8017\n",
            "Epoch 4/15\n",
            "191/191 [==============================] - 4s 20ms/step - loss: 0.2113 - accuracy: 0.9217 - val_loss: 0.5309 - val_accuracy: 0.7997\n",
            "Epoch 5/15\n",
            "191/191 [==============================] - 4s 20ms/step - loss: 0.1563 - accuracy: 0.9424 - val_loss: 0.5956 - val_accuracy: 0.7905\n",
            "Epoch 6/15\n",
            "191/191 [==============================] - 5s 24ms/step - loss: 0.1214 - accuracy: 0.9603 - val_loss: 0.6051 - val_accuracy: 0.7899\n",
            "F1 Score:  0.7625786163522013\n",
            "Accuracy Score:  0.8017071569271176\n",
            "              precision    recall  f1-score   support\n",
            "\n",
            "           0       0.81      0.85      0.83       868\n",
            "           1       0.79      0.74      0.76       655\n",
            "\n",
            "    accuracy                           0.80      1523\n",
            "   macro avg       0.80      0.79      0.80      1523\n",
            "weighted avg       0.80      0.80      0.80      1523\n",
            "\n",
            "Fold: 2, Epoch 1/15\n",
            "191/191 [==============================] - 12s 28ms/step - loss: 0.6769 - accuracy: 0.5695 - val_loss: 0.6520 - val_accuracy: 0.5857\n",
            "Epoch 2/15\n",
            "191/191 [==============================] - 4s 20ms/step - loss: 0.4926 - accuracy: 0.7721 - val_loss: 0.4616 - val_accuracy: 0.7971\n",
            "Epoch 3/15\n",
            "191/191 [==============================] - 4s 20ms/step - loss: 0.3100 - accuracy: 0.8778 - val_loss: 0.4859 - val_accuracy: 0.7991\n",
            "Epoch 4/15\n",
            "191/191 [==============================] - 4s 20ms/step - loss: 0.2255 - accuracy: 0.9164 - val_loss: 0.5340 - val_accuracy: 0.7754\n",
            "Epoch 5/15\n",
            "191/191 [==============================] - 4s 20ms/step - loss: 0.1736 - accuracy: 0.9397 - val_loss: 0.5387 - val_accuracy: 0.7787\n",
            "Epoch 6/15\n",
            "191/191 [==============================] - 4s 20ms/step - loss: 0.1322 - accuracy: 0.9580 - val_loss: 0.5898 - val_accuracy: 0.7892\n",
            "F1 Score:  0.7339130434782609\n",
            "Accuracy Score:  0.799080761654629\n",
            "              precision    recall  f1-score   support\n",
            "\n",
            "           0       0.77      0.91      0.84       869\n",
            "           1       0.85      0.65      0.73       654\n",
            "\n",
            "    accuracy                           0.80      1523\n",
            "   macro avg       0.81      0.78      0.79      1523\n",
            "weighted avg       0.81      0.80      0.79      1523\n",
            "\n",
            "Fold: 3, Epoch 1/15\n",
            "191/191 [==============================] - 11s 28ms/step - loss: 0.6756 - accuracy: 0.5711 - val_loss: 0.6484 - val_accuracy: 0.6106\n",
            "Epoch 2/15\n",
            "191/191 [==============================] - 4s 20ms/step - loss: 0.4864 - accuracy: 0.7823 - val_loss: 0.4899 - val_accuracy: 0.7807\n",
            "Epoch 3/15\n",
            "191/191 [==============================] - 4s 20ms/step - loss: 0.3112 - accuracy: 0.8780 - val_loss: 0.5079 - val_accuracy: 0.7768\n",
            "Epoch 4/15\n",
            "191/191 [==============================] - 4s 20ms/step - loss: 0.2253 - accuracy: 0.9212 - val_loss: 0.5560 - val_accuracy: 0.7722\n",
            "Epoch 5/15\n",
            "191/191 [==============================] - 4s 20ms/step - loss: 0.1729 - accuracy: 0.9435 - val_loss: 0.6222 - val_accuracy: 0.7754\n",
            "F1 Score:  0.6996402877697842\n",
            "Accuracy Score:  0.7806959947472094\n",
            "              precision    recall  f1-score   support\n",
            "\n",
            "           0       0.75      0.92      0.83       869\n",
            "           1       0.85      0.59      0.70       654\n",
            "\n",
            "    accuracy                           0.78      1523\n",
            "   macro avg       0.80      0.76      0.76      1523\n",
            "weighted avg       0.79      0.78      0.77      1523\n",
            "\n",
            "Fold: 4, Epoch 1/15\n",
            "191/191 [==============================] - 11s 28ms/step - loss: 0.6737 - accuracy: 0.5754 - val_loss: 0.6542 - val_accuracy: 0.6124\n",
            "Epoch 2/15\n",
            "191/191 [==============================] - 4s 20ms/step - loss: 0.4862 - accuracy: 0.7856 - val_loss: 0.4663 - val_accuracy: 0.8009\n",
            "Epoch 3/15\n",
            "191/191 [==============================] - 4s 20ms/step - loss: 0.3020 - accuracy: 0.8813 - val_loss: 0.4874 - val_accuracy: 0.8003\n",
            "Epoch 4/15\n",
            "191/191 [==============================] - 4s 20ms/step - loss: 0.2174 - accuracy: 0.9243 - val_loss: 0.5258 - val_accuracy: 0.8055\n",
            "Epoch 5/15\n",
            "191/191 [==============================] - 4s 20ms/step - loss: 0.1665 - accuracy: 0.9445 - val_loss: 0.5607 - val_accuracy: 0.7950\n",
            "Epoch 6/15\n",
            "191/191 [==============================] - 4s 20ms/step - loss: 0.1160 - accuracy: 0.9614 - val_loss: 0.6563 - val_accuracy: 0.7799\n",
            "Epoch 7/15\n",
            "191/191 [==============================] - 4s 20ms/step - loss: 0.0972 - accuracy: 0.9703 - val_loss: 0.7096 - val_accuracy: 0.7746\n",
            "F1 Score:  0.7508417508417509\n",
            "Accuracy Score:  0.8055190538764783\n",
            "              precision    recall  f1-score   support\n",
            "\n",
            "           0       0.79      0.90      0.84       868\n",
            "           1       0.84      0.68      0.75       654\n",
            "\n",
            "    accuracy                           0.81      1522\n",
            "   macro avg       0.81      0.79      0.80      1522\n",
            "weighted avg       0.81      0.81      0.80      1522\n",
            "\n",
            "Fold: 5, Epoch 1/15\n",
            "191/191 [==============================] - 12s 28ms/step - loss: 0.6797 - accuracy: 0.5662 - val_loss: 0.6603 - val_accuracy: 0.6018\n",
            "Epoch 2/15\n",
            "191/191 [==============================] - 4s 20ms/step - loss: 0.5244 - accuracy: 0.7429 - val_loss: 0.4384 - val_accuracy: 0.8121\n",
            "Epoch 3/15\n",
            "191/191 [==============================] - 4s 20ms/step - loss: 0.3169 - accuracy: 0.8747 - val_loss: 0.4575 - val_accuracy: 0.8062\n",
            "Epoch 4/15\n",
            "191/191 [==============================] - 4s 20ms/step - loss: 0.2247 - accuracy: 0.9177 - val_loss: 0.4812 - val_accuracy: 0.7904\n",
            "Epoch 5/15\n",
            "191/191 [==============================] - 4s 20ms/step - loss: 0.1629 - accuracy: 0.9407 - val_loss: 0.5616 - val_accuracy: 0.7950\n",
            "F1 Score:  0.7624584717607973\n",
            "Accuracy Score:  0.812089356110381\n",
            "              precision    recall  f1-score   support\n",
            "\n",
            "           0       0.80      0.90      0.84       868\n",
            "           1       0.83      0.70      0.76       654\n",
            "\n",
            "    accuracy                           0.81      1522\n",
            "   macro avg       0.82      0.80      0.80      1522\n",
            "weighted avg       0.81      0.81      0.81      1522\n",
            "\n",
            "Done...\n"
          ]
        }
      ],
      "source": [
        "#StratifiedKFold\n",
        "skf = StratifiedKFold(n_splits=5, random_state=42, shuffle=True)\n",
        "\n",
        "X_train_all = train['text']\n",
        "X_test = test['text']\n",
        "\n",
        "y_train_list = []\n",
        "y_test_list = []\n",
        "\n",
        "for fold, (train_idx, test_idx) in enumerate(skf.split(X, y)):\n",
        "    print(f\"Fold: {fold+1},\", end=' ')\n",
        "    X_train, X_val = X[train_idx], X[test_idx]\n",
        "    y_train, y_val = y[train_idx], y[test_idx]\n",
        "    \n",
        "    \n",
        "    #Tokenizer\n",
        "    tok = Tokenizer()\n",
        "    tok.fit_on_texts(X_train)\n",
        "\n",
        "    #Text to sequences\n",
        "    train_sequences = tok.texts_to_sequences(X_train)\n",
        "    val_sequences = tok.texts_to_sequences(X_val)\n",
        "    test_sequences = tok.texts_to_sequences(X_test)\n",
        "    train_sequences_all = tok.texts_to_sequences(X_train_all)\n",
        "\n",
        "    #Padded sequences\n",
        "    X_train_seq = pad_sequences(train_sequences, maxlen=50)\n",
        "    X_val_seq = pad_sequences(val_sequences, maxlen=50)\n",
        "    X_test_seq = pad_sequences(test_sequences, maxlen=50)\n",
        "    X_train_seq_all = pad_sequences(train_sequences_all, maxlen=50)\n",
        "\n",
        "    #Modeling\n",
        "    lstm_model = LSTM_model()\n",
        "    \n",
        "    history = lstm_model.fit(X_train_seq, y_train, epochs=15,\n",
        "                    validation_data =(X_val_seq, y_val), batch_size = 32, \n",
        "                    callbacks=[EarlyStopping(monitor='val_accuracy',mode='max', \n",
        "                    patience=3, verbose=False, restore_best_weights=True)])\n",
        "\n",
        "\n",
        "    yhat_val =  np.where(lstm_model.predict(X_val_seq) >=0.5,1,0)\n",
        "    \n",
        "    f_score = f1_score(y_val, yhat_val)\n",
        "    a_score = accuracy_score(y_val, yhat_val)\n",
        "    print('F1 Score: ', f_score)\n",
        "    print('Accuracy Score: ', a_score)\n",
        "    print(classification_report(y_val, yhat_val))\n",
        "    \n",
        "    y_train_list.append(lstm_model.predict(X_train_seq_all))\n",
        "    y_test_list.append(lstm_model.predict(X_test_seq))\n",
        "\n",
        "print('Done...')"
      ]
    },
    {
      "cell_type": "code",
      "execution_count": 20,
      "id": "6d98ac46",
      "metadata": {
        "colab": {
          "base_uri": "https://localhost:8080/",
          "height": 17
        },
        "id": "6d98ac46",
        "outputId": "fcc63142-eadf-4228-e48c-78a18c86fd21"
      },
      "outputs": [
        {
          "output_type": "display_data",
          "data": {
            "text/plain": [
              "<IPython.core.display.Javascript object>"
            ],
            "application/javascript": [
              "\n",
              "    async function download(id, filename, size) {\n",
              "      if (!google.colab.kernel.accessAllowed) {\n",
              "        return;\n",
              "      }\n",
              "      const div = document.createElement('div');\n",
              "      const label = document.createElement('label');\n",
              "      label.textContent = `Downloading \"${filename}\": `;\n",
              "      div.appendChild(label);\n",
              "      const progress = document.createElement('progress');\n",
              "      progress.max = size;\n",
              "      div.appendChild(progress);\n",
              "      document.body.appendChild(div);\n",
              "\n",
              "      const buffers = [];\n",
              "      let downloaded = 0;\n",
              "\n",
              "      const channel = await google.colab.kernel.comms.open(id);\n",
              "      // Send a message to notify the kernel that we're ready.\n",
              "      channel.send({})\n",
              "\n",
              "      for await (const message of channel.messages) {\n",
              "        // Send a message to notify the kernel that we're ready.\n",
              "        channel.send({})\n",
              "        if (message.buffers) {\n",
              "          for (const buffer of message.buffers) {\n",
              "            buffers.push(buffer);\n",
              "            downloaded += buffer.byteLength;\n",
              "            progress.value = downloaded;\n",
              "          }\n",
              "        }\n",
              "      }\n",
              "      const blob = new Blob(buffers, {type: 'application/binary'});\n",
              "      const a = document.createElement('a');\n",
              "      a.href = window.URL.createObjectURL(blob);\n",
              "      a.download = filename;\n",
              "      div.appendChild(a);\n",
              "      a.click();\n",
              "      div.remove();\n",
              "    }\n",
              "  "
            ]
          },
          "metadata": {}
        },
        {
          "output_type": "display_data",
          "data": {
            "text/plain": [
              "<IPython.core.display.Javascript object>"
            ],
            "application/javascript": [
              "download(\"download_25975282-7bfe-4a75-a502-b5584a4a4abe\", \"submission_lstm.csv\", 22746)"
            ]
          },
          "metadata": {}
        }
      ],
      "source": [
        "#Store prediction to the submission file\n",
        "test['target'] = np.where(np.mean(y_test_list, axis = 0) >=0.5, 1,0)\n",
        "sub_lstm = test[['id','target']].copy()\n",
        "sub_lstm.to_csv('submission_lstm.csv', index = False)\n",
        "files.download('submission_lstm.csv')\n",
        "#Result: 0.79865"
      ]
    },
    {
      "cell_type": "code",
      "source": [
        "#Prepare for the random forest model -> we need to probability of the prediction (both train and test)\n",
        "train['lstm_pred'] = np.mean(y_train_list, axis = 0) \n",
        "test['lstm_pred'] = np.mean(y_test_list, axis = 0)"
      ],
      "metadata": {
        "id": "-quVDp8r3S14"
      },
      "id": "-quVDp8r3S14",
      "execution_count": 21,
      "outputs": []
    },
    {
      "cell_type": "code",
      "source": [
        "train.head()"
      ],
      "metadata": {
        "colab": {
          "base_uri": "https://localhost:8080/",
          "height": 206
        },
        "id": "A3Tznr7VzqSH",
        "outputId": "e11ccea5-6c7a-45c2-b172-c6f25019727b"
      },
      "id": "A3Tznr7VzqSH",
      "execution_count": 22,
      "outputs": [
        {
          "output_type": "execute_result",
          "data": {
            "text/plain": [
              "   id   keyword location                                               text  \\\n",
              "0   1  Unknown   Unknown        deed reason earthquake may allah forgive u    \n",
              "1   4  Unknown   Unknown             forest fire near la ronge sask canada    \n",
              "2   5  Unknown   Unknown  resident asked shelter place notified officer ...   \n",
              "3   6  Unknown   Unknown  13 000 people receive wildfire evacuation orde...   \n",
              "4   7  Unknown   Unknown  got sent photo ruby alaska smoke wildfire pour...   \n",
              "\n",
              "   target  word_count  lstm_pred  \n",
              "0       1          13   0.777934  \n",
              "1       1           7   0.964422  \n",
              "2       1          22   0.960636  \n",
              "3       1           8   0.974284  \n",
              "4       1          16   0.811371  "
            ],
            "text/html": [
              "\n",
              "  <div id=\"df-112a423f-51b6-4a88-a4bb-20bc99710bca\">\n",
              "    <div class=\"colab-df-container\">\n",
              "      <div>\n",
              "<style scoped>\n",
              "    .dataframe tbody tr th:only-of-type {\n",
              "        vertical-align: middle;\n",
              "    }\n",
              "\n",
              "    .dataframe tbody tr th {\n",
              "        vertical-align: top;\n",
              "    }\n",
              "\n",
              "    .dataframe thead th {\n",
              "        text-align: right;\n",
              "    }\n",
              "</style>\n",
              "<table border=\"1\" class=\"dataframe\">\n",
              "  <thead>\n",
              "    <tr style=\"text-align: right;\">\n",
              "      <th></th>\n",
              "      <th>id</th>\n",
              "      <th>keyword</th>\n",
              "      <th>location</th>\n",
              "      <th>text</th>\n",
              "      <th>target</th>\n",
              "      <th>word_count</th>\n",
              "      <th>lstm_pred</th>\n",
              "    </tr>\n",
              "  </thead>\n",
              "  <tbody>\n",
              "    <tr>\n",
              "      <th>0</th>\n",
              "      <td>1</td>\n",
              "      <td>Unknown</td>\n",
              "      <td>Unknown</td>\n",
              "      <td>deed reason earthquake may allah forgive u</td>\n",
              "      <td>1</td>\n",
              "      <td>13</td>\n",
              "      <td>0.777934</td>\n",
              "    </tr>\n",
              "    <tr>\n",
              "      <th>1</th>\n",
              "      <td>4</td>\n",
              "      <td>Unknown</td>\n",
              "      <td>Unknown</td>\n",
              "      <td>forest fire near la ronge sask canada</td>\n",
              "      <td>1</td>\n",
              "      <td>7</td>\n",
              "      <td>0.964422</td>\n",
              "    </tr>\n",
              "    <tr>\n",
              "      <th>2</th>\n",
              "      <td>5</td>\n",
              "      <td>Unknown</td>\n",
              "      <td>Unknown</td>\n",
              "      <td>resident asked shelter place notified officer ...</td>\n",
              "      <td>1</td>\n",
              "      <td>22</td>\n",
              "      <td>0.960636</td>\n",
              "    </tr>\n",
              "    <tr>\n",
              "      <th>3</th>\n",
              "      <td>6</td>\n",
              "      <td>Unknown</td>\n",
              "      <td>Unknown</td>\n",
              "      <td>13 000 people receive wildfire evacuation orde...</td>\n",
              "      <td>1</td>\n",
              "      <td>8</td>\n",
              "      <td>0.974284</td>\n",
              "    </tr>\n",
              "    <tr>\n",
              "      <th>4</th>\n",
              "      <td>7</td>\n",
              "      <td>Unknown</td>\n",
              "      <td>Unknown</td>\n",
              "      <td>got sent photo ruby alaska smoke wildfire pour...</td>\n",
              "      <td>1</td>\n",
              "      <td>16</td>\n",
              "      <td>0.811371</td>\n",
              "    </tr>\n",
              "  </tbody>\n",
              "</table>\n",
              "</div>\n",
              "      <button class=\"colab-df-convert\" onclick=\"convertToInteractive('df-112a423f-51b6-4a88-a4bb-20bc99710bca')\"\n",
              "              title=\"Convert this dataframe to an interactive table.\"\n",
              "              style=\"display:none;\">\n",
              "        \n",
              "  <svg xmlns=\"http://www.w3.org/2000/svg\" height=\"24px\"viewBox=\"0 0 24 24\"\n",
              "       width=\"24px\">\n",
              "    <path d=\"M0 0h24v24H0V0z\" fill=\"none\"/>\n",
              "    <path d=\"M18.56 5.44l.94 2.06.94-2.06 2.06-.94-2.06-.94-.94-2.06-.94 2.06-2.06.94zm-11 1L8.5 8.5l.94-2.06 2.06-.94-2.06-.94L8.5 2.5l-.94 2.06-2.06.94zm10 10l.94 2.06.94-2.06 2.06-.94-2.06-.94-.94-2.06-.94 2.06-2.06.94z\"/><path d=\"M17.41 7.96l-1.37-1.37c-.4-.4-.92-.59-1.43-.59-.52 0-1.04.2-1.43.59L10.3 9.45l-7.72 7.72c-.78.78-.78 2.05 0 2.83L4 21.41c.39.39.9.59 1.41.59.51 0 1.02-.2 1.41-.59l7.78-7.78 2.81-2.81c.8-.78.8-2.07 0-2.86zM5.41 20L4 18.59l7.72-7.72 1.47 1.35L5.41 20z\"/>\n",
              "  </svg>\n",
              "      </button>\n",
              "      \n",
              "  <style>\n",
              "    .colab-df-container {\n",
              "      display:flex;\n",
              "      flex-wrap:wrap;\n",
              "      gap: 12px;\n",
              "    }\n",
              "\n",
              "    .colab-df-convert {\n",
              "      background-color: #E8F0FE;\n",
              "      border: none;\n",
              "      border-radius: 50%;\n",
              "      cursor: pointer;\n",
              "      display: none;\n",
              "      fill: #1967D2;\n",
              "      height: 32px;\n",
              "      padding: 0 0 0 0;\n",
              "      width: 32px;\n",
              "    }\n",
              "\n",
              "    .colab-df-convert:hover {\n",
              "      background-color: #E2EBFA;\n",
              "      box-shadow: 0px 1px 2px rgba(60, 64, 67, 0.3), 0px 1px 3px 1px rgba(60, 64, 67, 0.15);\n",
              "      fill: #174EA6;\n",
              "    }\n",
              "\n",
              "    [theme=dark] .colab-df-convert {\n",
              "      background-color: #3B4455;\n",
              "      fill: #D2E3FC;\n",
              "    }\n",
              "\n",
              "    [theme=dark] .colab-df-convert:hover {\n",
              "      background-color: #434B5C;\n",
              "      box-shadow: 0px 1px 3px 1px rgba(0, 0, 0, 0.15);\n",
              "      filter: drop-shadow(0px 1px 2px rgba(0, 0, 0, 0.3));\n",
              "      fill: #FFFFFF;\n",
              "    }\n",
              "  </style>\n",
              "\n",
              "      <script>\n",
              "        const buttonEl =\n",
              "          document.querySelector('#df-112a423f-51b6-4a88-a4bb-20bc99710bca button.colab-df-convert');\n",
              "        buttonEl.style.display =\n",
              "          google.colab.kernel.accessAllowed ? 'block' : 'none';\n",
              "\n",
              "        async function convertToInteractive(key) {\n",
              "          const element = document.querySelector('#df-112a423f-51b6-4a88-a4bb-20bc99710bca');\n",
              "          const dataTable =\n",
              "            await google.colab.kernel.invokeFunction('convertToInteractive',\n",
              "                                                     [key], {});\n",
              "          if (!dataTable) return;\n",
              "\n",
              "          const docLinkHtml = 'Like what you see? Visit the ' +\n",
              "            '<a target=\"_blank\" href=https://colab.research.google.com/notebooks/data_table.ipynb>data table notebook</a>'\n",
              "            + ' to learn more about interactive tables.';\n",
              "          element.innerHTML = '';\n",
              "          dataTable['output_type'] = 'display_data';\n",
              "          await google.colab.output.renderOutput(dataTable, element);\n",
              "          const docLink = document.createElement('div');\n",
              "          docLink.innerHTML = docLinkHtml;\n",
              "          element.appendChild(docLink);\n",
              "        }\n",
              "      </script>\n",
              "    </div>\n",
              "  </div>\n",
              "  "
            ]
          },
          "metadata": {},
          "execution_count": 22
        }
      ]
    },
    {
      "cell_type": "markdown",
      "id": "d0626184",
      "metadata": {
        "id": "d0626184"
      },
      "source": [
        "BERT"
      ]
    },
    {
      "cell_type": "code",
      "execution_count": 23,
      "id": "83a56fdd",
      "metadata": {
        "colab": {
          "base_uri": "https://localhost:8080/"
        },
        "id": "83a56fdd",
        "outputId": "6019be2a-88d6-498e-f758-4b2356e826b5"
      },
      "outputs": [
        {
          "output_type": "stream",
          "name": "stdout",
          "text": [
            "Looking in indexes: https://pypi.org/simple, https://us-python.pkg.dev/colab-wheels/public/simple/\n",
            "Collecting transformers\n",
            "  Downloading transformers-4.22.1-py3-none-any.whl (4.9 MB)\n",
            "\u001b[K     |████████████████████████████████| 4.9 MB 8.3 MB/s \n",
            "\u001b[?25hRequirement already satisfied: importlib-metadata in /usr/local/lib/python3.7/dist-packages (from transformers) (4.12.0)\n",
            "Requirement already satisfied: filelock in /usr/local/lib/python3.7/dist-packages (from transformers) (3.8.0)\n",
            "Requirement already satisfied: pyyaml>=5.1 in /usr/local/lib/python3.7/dist-packages (from transformers) (6.0)\n",
            "Collecting huggingface-hub<1.0,>=0.9.0\n",
            "  Downloading huggingface_hub-0.9.1-py3-none-any.whl (120 kB)\n",
            "\u001b[K     |████████████████████████████████| 120 kB 61.8 MB/s \n",
            "\u001b[?25hRequirement already satisfied: requests in /usr/local/lib/python3.7/dist-packages (from transformers) (2.23.0)\n",
            "Requirement already satisfied: packaging>=20.0 in /usr/local/lib/python3.7/dist-packages (from transformers) (21.3)\n",
            "Requirement already satisfied: tqdm>=4.27 in /usr/local/lib/python3.7/dist-packages (from transformers) (4.64.1)\n",
            "Collecting tokenizers!=0.11.3,<0.13,>=0.11.1\n",
            "  Downloading tokenizers-0.12.1-cp37-cp37m-manylinux_2_12_x86_64.manylinux2010_x86_64.whl (6.6 MB)\n",
            "\u001b[K     |████████████████████████████████| 6.6 MB 53.0 MB/s \n",
            "\u001b[?25hRequirement already satisfied: numpy>=1.17 in /usr/local/lib/python3.7/dist-packages (from transformers) (1.21.6)\n",
            "Requirement already satisfied: regex!=2019.12.17 in /usr/local/lib/python3.7/dist-packages (from transformers) (2022.6.2)\n",
            "Requirement already satisfied: typing-extensions>=3.7.4.3 in /usr/local/lib/python3.7/dist-packages (from huggingface-hub<1.0,>=0.9.0->transformers) (4.1.1)\n",
            "Requirement already satisfied: pyparsing!=3.0.5,>=2.0.2 in /usr/local/lib/python3.7/dist-packages (from packaging>=20.0->transformers) (3.0.9)\n",
            "Requirement already satisfied: zipp>=0.5 in /usr/local/lib/python3.7/dist-packages (from importlib-metadata->transformers) (3.8.1)\n",
            "Requirement already satisfied: idna<3,>=2.5 in /usr/local/lib/python3.7/dist-packages (from requests->transformers) (2.10)\n",
            "Requirement already satisfied: certifi>=2017.4.17 in /usr/local/lib/python3.7/dist-packages (from requests->transformers) (2022.6.15)\n",
            "Requirement already satisfied: chardet<4,>=3.0.2 in /usr/local/lib/python3.7/dist-packages (from requests->transformers) (3.0.4)\n",
            "Requirement already satisfied: urllib3!=1.25.0,!=1.25.1,<1.26,>=1.21.1 in /usr/local/lib/python3.7/dist-packages (from requests->transformers) (1.24.3)\n",
            "Installing collected packages: tokenizers, huggingface-hub, transformers\n",
            "Successfully installed huggingface-hub-0.9.1 tokenizers-0.12.1 transformers-4.22.1\n"
          ]
        }
      ],
      "source": [
        "!pip install transformers"
      ]
    },
    {
      "cell_type": "code",
      "execution_count": 24,
      "id": "f2019bf2",
      "metadata": {
        "colab": {
          "base_uri": "https://localhost:8080/",
          "height": 301,
          "referenced_widgets": [
            "484646931571425d8f566df7defefdbd",
            "cf85cc4b9b1243b6b415a06b631d00de",
            "e851ab514f1f4b23b1b85850c94ae67d",
            "5c0aff53c0dc4fdeb037087f90a7876f",
            "c201543aa1d74165a0dcbc574e7a2ecd",
            "bcaf30bb62b94b7b8714b84293d2b69a",
            "c0eb94865ffc40959595f002bbd4d294",
            "803aac1f15e74f18b4b92da228ba6e46",
            "230f7852d634460a8fe97138376f9370",
            "6c00c331381e4fd0b8ee33f76f940d5a",
            "87ea56c0973b4d03af00328a726b60d4",
            "a4db0c2277564ababe603cd3b5ce4acb",
            "981f1b654f74458b83be6b37be954172",
            "8b407cb038004145aa9b7850c359a023",
            "fbd536df71c943d88c7e29f6cdeda455",
            "8381bb9af9ef4a84ad52bfadcdf02e56",
            "f1eab299e381470788046e2a2920dbad",
            "4134dafab54d40739cae402425013ef0",
            "cd1e4b42341a462da5220f19f2a56b76",
            "3105d00ba6f7409c975aaab64bc33629",
            "cc424796acb34146af4360a3cf18ff17",
            "9ed5f1c30887479294a067f92ecebbe3",
            "8f1d8f6d9f8145edafc08a6e6ba306f1",
            "1d601c6266324d9a9b604182dc2ced70",
            "ded0dc7a1ba54927bf5534abfd14efe7",
            "4aff72149a35451dab61ec066966f982",
            "1af6c69aa97c44149dc4991dcf963f4a",
            "1755a7cd7f9e49ffbbc704c704406aff",
            "1ddece2d3383428687e0c9959a0e62ed",
            "af21d9a846e44183b65e77b473459975",
            "4999a9d1d2954cb3b45974b8237de807",
            "7cbd7dccf5a24772a3eb8013c76f0ffa",
            "63249696ea3b46879f5979a28256350a",
            "8b578dc74a57489688fbe96fd8f79981",
            "5149712a72474ff39ee4d7bf67708b53",
            "392ef15546cc466b8c46b5b7617500d3",
            "8165d0de943c4361b5a18303d0fcee6b",
            "9fb31d1c7cc74280bbb8afc08d1d57bd",
            "e1341384c0b7427ba6057ad32851cb00",
            "762a5eea6ba44ea0b7159fa7aa6cfc78",
            "78be741ff3194cc1b79af691cda289ef",
            "af4856befcd54b42af6e1c3d8c2ea018",
            "d90a022fdbf04bb28b1cc1207aa13771",
            "44e658a3fc644012916185d7ec19be0a",
            "90cdd366faa84f7ab25e993cc91e4212",
            "891fb2c0dc44400ab38a0828cbb12cae",
            "379a771bbd484fbaab424430facbd541",
            "0643efbc72c34bda9ee299e36b546c00",
            "e653e1495272467ebb03117eff91e942",
            "adc24486d6aa4783b8b3211a98f663c7",
            "33db930e9a374cb1858299bd34683fa5",
            "156457419af54f3fb2903e936808fe74",
            "e46531b2064d478c826453860cf8cf16",
            "330bd431b258479bbfa52827771b7df1",
            "21673a85e77442da927f6aa4c3f7c83a"
          ]
        },
        "id": "f2019bf2",
        "outputId": "e7228195-cf41-41e8-8f4b-5534ba1c007e"
      },
      "outputs": [
        {
          "output_type": "stream",
          "name": "stderr",
          "text": [
            "The cache for model files in Transformers v4.22.0 has been updated. Migrating your old cache. This is a one-time only operation. You can interrupt this and resume the migration later on by calling `transformers.utils.move_cache()`.\n"
          ]
        },
        {
          "output_type": "stream",
          "name": "stdout",
          "text": [
            "Moving 0 files to the new cache system\n"
          ]
        },
        {
          "output_type": "display_data",
          "data": {
            "text/plain": [
              "0it [00:00, ?it/s]"
            ],
            "application/vnd.jupyter.widget-view+json": {
              "version_major": 2,
              "version_minor": 0,
              "model_id": "484646931571425d8f566df7defefdbd"
            }
          },
          "metadata": {}
        },
        {
          "output_type": "display_data",
          "data": {
            "text/plain": [
              "Downloading:   0%|          | 0.00/232k [00:00<?, ?B/s]"
            ],
            "application/vnd.jupyter.widget-view+json": {
              "version_major": 2,
              "version_minor": 0,
              "model_id": "a4db0c2277564ababe603cd3b5ce4acb"
            }
          },
          "metadata": {}
        },
        {
          "output_type": "display_data",
          "data": {
            "text/plain": [
              "Downloading:   0%|          | 0.00/28.0 [00:00<?, ?B/s]"
            ],
            "application/vnd.jupyter.widget-view+json": {
              "version_major": 2,
              "version_minor": 0,
              "model_id": "8f1d8f6d9f8145edafc08a6e6ba306f1"
            }
          },
          "metadata": {}
        },
        {
          "output_type": "display_data",
          "data": {
            "text/plain": [
              "Downloading:   0%|          | 0.00/570 [00:00<?, ?B/s]"
            ],
            "application/vnd.jupyter.widget-view+json": {
              "version_major": 2,
              "version_minor": 0,
              "model_id": "8b578dc74a57489688fbe96fd8f79981"
            }
          },
          "metadata": {}
        },
        {
          "output_type": "display_data",
          "data": {
            "text/plain": [
              "Downloading:   0%|          | 0.00/536M [00:00<?, ?B/s]"
            ],
            "application/vnd.jupyter.widget-view+json": {
              "version_major": 2,
              "version_minor": 0,
              "model_id": "90cdd366faa84f7ab25e993cc91e4212"
            }
          },
          "metadata": {}
        },
        {
          "output_type": "stream",
          "name": "stderr",
          "text": [
            "All model checkpoint layers were used when initializing TFBertForSequenceClassification.\n",
            "\n",
            "Some layers of TFBertForSequenceClassification were not initialized from the model checkpoint at bert-base-uncased and are newly initialized: ['classifier']\n",
            "You should probably TRAIN this model on a down-stream task to be able to use it for predictions and inference.\n"
          ]
        }
      ],
      "source": [
        "#Load BERT model\n",
        "from transformers import BertTokenizer, TFBertModel, BertConfig, TFBertForSequenceClassification\n",
        "bert_tokenizer = BertTokenizer.from_pretrained(\"bert-base-uncased\")\n",
        "bert_model = TFBertForSequenceClassification.from_pretrained(\n",
        "    'bert-base-uncased', \n",
        "    hidden_dropout_prob = 0.15,\n",
        "    attention_probs_dropout_prob = 0.15,\n",
        "    hidden_act = \"relu\",\n",
        "    num_labels = 2\n",
        ")"
      ]
    },
    {
      "cell_type": "code",
      "execution_count": 25,
      "id": "609dd48c",
      "metadata": {
        "id": "609dd48c"
      },
      "outputs": [],
      "source": [
        "#BERT tolenizer\n",
        "input_ids=[]\n",
        "attention_masks=[]\n",
        "\n",
        "sentences=train['text']\n",
        "labels=train['target']\n",
        "for sent in sentences:\n",
        "    bert_inp=bert_tokenizer.encode_plus(sent, add_special_tokens = True, max_length =64, padding='max_length', return_attention_mask = True)\n",
        "    input_ids.append(bert_inp['input_ids'])\n",
        "    attention_masks.append(bert_inp['attention_mask'])\n",
        "\n",
        "input_ids=np.asarray(input_ids)\n",
        "attention_masks=np.array(attention_masks)\n",
        "labels=np.array(labels)"
      ]
    },
    {
      "cell_type": "code",
      "execution_count": 26,
      "id": "cfc25665",
      "metadata": {
        "id": "cfc25665"
      },
      "outputs": [],
      "source": [
        "#Split the train and test data\n",
        "train_inp,val_inp,train_label,val_label,train_mask,val_mask=train_test_split(input_ids, labels, attention_masks, test_size=0.2)"
      ]
    },
    {
      "cell_type": "code",
      "execution_count": 27,
      "id": "ef6ef89e",
      "metadata": {
        "colab": {
          "base_uri": "https://localhost:8080/"
        },
        "id": "ef6ef89e",
        "outputId": "6ab72eb2-2911-46df-a83d-c6542df66acc"
      },
      "outputs": [
        {
          "output_type": "stream",
          "name": "stdout",
          "text": [
            "Model: \"tf_bert_for_sequence_classification\"\n",
            "_________________________________________________________________\n",
            " Layer (type)                Output Shape              Param #   \n",
            "=================================================================\n",
            " bert (TFBertMainLayer)      multiple                  109482240 \n",
            "                                                                 \n",
            " dropout_37 (Dropout)        multiple                  0         \n",
            "                                                                 \n",
            " classifier (Dense)          multiple                  1538      \n",
            "                                                                 \n",
            "=================================================================\n",
            "Total params: 109,483,778\n",
            "Trainable params: 109,483,778\n",
            "Non-trainable params: 0\n",
            "_________________________________________________________________\n"
          ]
        }
      ],
      "source": [
        "#BERT model\n",
        "model_save_path='bert_model.h5'\n",
        "\n",
        "callbacks = [tf.keras.callbacks.ModelCheckpoint(filepath=model_save_path, save_weights_only=True, monitor='val_sparse_categorical_accuracy', mode='max', patience=3, save_best_only=True)]\n",
        "\n",
        "optimizer = tf.keras.optimizers.Adam(\n",
        "    learning_rate = 1e-5, \n",
        "    epsilon = 1e-07,\n",
        "    clipvalue = 10\n",
        ")\n",
        "loss = tf.losses.SparseCategoricalCrossentropy(from_logits=True)\n",
        "\n",
        "bert_model.compile(loss=loss,optimizer=optimizer,metrics=tf.keras.metrics.SparseCategoricalAccuracy())\n",
        "bert_model.trainable = True\n",
        "bert_model.summary()"
      ]
    },
    {
      "cell_type": "code",
      "execution_count": 28,
      "id": "3112251e",
      "metadata": {
        "colab": {
          "base_uri": "https://localhost:8080/"
        },
        "id": "3112251e",
        "outputId": "1c5f09f5-aac6-42fd-c3c4-db45e621bbf0"
      },
      "outputs": [
        {
          "output_type": "stream",
          "name": "stdout",
          "text": [
            "Epoch 1/7\n",
            "191/191 [==============================] - 116s 442ms/step - loss: 0.5402 - sparse_categorical_accuracy: 0.7296 - val_loss: 0.4510 - val_sparse_categorical_accuracy: 0.7899\n",
            "Epoch 2/7\n",
            "191/191 [==============================] - 79s 415ms/step - loss: 0.4189 - sparse_categorical_accuracy: 0.8186 - val_loss: 0.4656 - val_sparse_categorical_accuracy: 0.7971\n",
            "Epoch 3/7\n",
            "191/191 [==============================] - 78s 406ms/step - loss: 0.3782 - sparse_categorical_accuracy: 0.8389 - val_loss: 0.4590 - val_sparse_categorical_accuracy: 0.7958\n",
            "Epoch 4/7\n",
            "191/191 [==============================] - 79s 415ms/step - loss: 0.3415 - sparse_categorical_accuracy: 0.8627 - val_loss: 0.4569 - val_sparse_categorical_accuracy: 0.8056\n",
            "Epoch 5/7\n",
            "191/191 [==============================] - 79s 415ms/step - loss: 0.3085 - sparse_categorical_accuracy: 0.8775 - val_loss: 0.4547 - val_sparse_categorical_accuracy: 0.8260\n",
            "Epoch 6/7\n",
            "191/191 [==============================] - 78s 407ms/step - loss: 0.2732 - sparse_categorical_accuracy: 0.8954 - val_loss: 0.5113 - val_sparse_categorical_accuracy: 0.8109\n",
            "Epoch 7/7\n",
            "191/191 [==============================] - 78s 407ms/step - loss: 0.2452 - sparse_categorical_accuracy: 0.9054 - val_loss: 0.5187 - val_sparse_categorical_accuracy: 0.8181\n"
          ]
        }
      ],
      "source": [
        "history=bert_model.fit([train_inp,train_mask],train_label,batch_size=32,epochs=7,validation_data=([val_inp,val_mask],val_label), callbacks=callbacks)"
      ]
    },
    {
      "cell_type": "code",
      "execution_count": 29,
      "id": "6041799b",
      "metadata": {
        "colab": {
          "base_uri": "https://localhost:8080/"
        },
        "id": "6041799b",
        "outputId": "6b954552-6d15-4aef-bdba-f8bf8e42c294"
      },
      "outputs": [
        {
          "output_type": "stream",
          "name": "stdout",
          "text": [
            "F1 Score:  0.7720164609053497\n",
            "Accuracy Score:  0.8181221273801708\n",
            "Classification Report:\n",
            "              precision    recall  f1-score   support\n",
            "\n",
            "           0       0.81      0.89      0.85       874\n",
            "           1       0.83      0.72      0.77       649\n",
            "\n",
            "    accuracy                           0.82      1523\n",
            "   macro avg       0.82      0.81      0.81      1523\n",
            "weighted avg       0.82      0.82      0.82      1523\n",
            "\n",
            "Training and saving built model.....\n"
          ]
        }
      ],
      "source": [
        "#Validation prediction\n",
        "preds = bert_model.predict([val_inp,val_mask],batch_size=32)\n",
        "pred_labels = np.argmax(preds.logits, axis=1)\n",
        "f_score = f1_score(val_label,pred_labels)\n",
        "a_score = accuracy_score(val_label,pred_labels)\n",
        "print('F1 Score: ', f_score)\n",
        "print('Accuracy Score: ', a_score)\n",
        "print('Classification Report:')\n",
        "print(classification_report(val_label,pred_labels))\n",
        "\n",
        "print('Training and saving built model.....')   "
      ]
    },
    {
      "cell_type": "code",
      "execution_count": 30,
      "id": "63eefa28",
      "metadata": {
        "id": "63eefa28"
      },
      "outputs": [],
      "source": [
        "#Tokenize test data\n",
        "input_ids_test=[]\n",
        "attention_masks_test=[]\n",
        "\n",
        "sentences=test['text']\n",
        "for sent in sentences:\n",
        "    bert_inp_test=bert_tokenizer.encode_plus(sent, add_special_tokens = True,max_length =64, padding='max_length', return_attention_mask = True)\n",
        "    input_ids_test.append(bert_inp_test['input_ids'])\n",
        "    attention_masks_test.append(bert_inp_test['attention_mask'])\n",
        "\n",
        "input_ids_test=np.asarray(input_ids_test)\n",
        "attention_masks_test=np.array(attention_masks_test)"
      ]
    },
    {
      "cell_type": "code",
      "source": [
        "preds_test = bert_model.predict([input_ids_test,attention_masks_test],batch_size=32)\n",
        "test['target']  = np.argmax(preds_test.logits, axis=1)\n",
        "sub_bert = test[['id','target']].copy()\n",
        "sub_bert.to_csv('submission_bert.csv', index = False)\n",
        "files.download('submission_bert.csv')\n",
        "#Result: 0.82899"
      ],
      "metadata": {
        "colab": {
          "base_uri": "https://localhost:8080/",
          "height": 17
        },
        "id": "B6H9Cp40Xeis",
        "outputId": "19812a41-5595-4cc8-abb2-28156b1981c1"
      },
      "id": "B6H9Cp40Xeis",
      "execution_count": 31,
      "outputs": [
        {
          "output_type": "display_data",
          "data": {
            "text/plain": [
              "<IPython.core.display.Javascript object>"
            ],
            "application/javascript": [
              "\n",
              "    async function download(id, filename, size) {\n",
              "      if (!google.colab.kernel.accessAllowed) {\n",
              "        return;\n",
              "      }\n",
              "      const div = document.createElement('div');\n",
              "      const label = document.createElement('label');\n",
              "      label.textContent = `Downloading \"${filename}\": `;\n",
              "      div.appendChild(label);\n",
              "      const progress = document.createElement('progress');\n",
              "      progress.max = size;\n",
              "      div.appendChild(progress);\n",
              "      document.body.appendChild(div);\n",
              "\n",
              "      const buffers = [];\n",
              "      let downloaded = 0;\n",
              "\n",
              "      const channel = await google.colab.kernel.comms.open(id);\n",
              "      // Send a message to notify the kernel that we're ready.\n",
              "      channel.send({})\n",
              "\n",
              "      for await (const message of channel.messages) {\n",
              "        // Send a message to notify the kernel that we're ready.\n",
              "        channel.send({})\n",
              "        if (message.buffers) {\n",
              "          for (const buffer of message.buffers) {\n",
              "            buffers.push(buffer);\n",
              "            downloaded += buffer.byteLength;\n",
              "            progress.value = downloaded;\n",
              "          }\n",
              "        }\n",
              "      }\n",
              "      const blob = new Blob(buffers, {type: 'application/binary'});\n",
              "      const a = document.createElement('a');\n",
              "      a.href = window.URL.createObjectURL(blob);\n",
              "      a.download = filename;\n",
              "      div.appendChild(a);\n",
              "      a.click();\n",
              "      div.remove();\n",
              "    }\n",
              "  "
            ]
          },
          "metadata": {}
        },
        {
          "output_type": "display_data",
          "data": {
            "text/plain": [
              "<IPython.core.display.Javascript object>"
            ],
            "application/javascript": [
              "download(\"download_91e40ef7-c709-4df1-ad96-d6c5afca9717\", \"submission_bert.csv\", 22746)"
            ]
          },
          "metadata": {}
        }
      ]
    },
    {
      "cell_type": "code",
      "source": [
        "#Prepare for the random forest model -> we need to probability of the prediction (using softmax function)\n",
        "preds_train = bert_model.predict([input_ids, attention_masks],batch_size=32)\n",
        "train['bert_pred'] = tf.nn.softmax(preds_train.logits, axis=1)[:,1]\n",
        "test['bert_pred'] = tf.nn.softmax(preds_test.logits, axis=1)[:,1]"
      ],
      "metadata": {
        "id": "rtUrev4LBZWu"
      },
      "id": "rtUrev4LBZWu",
      "execution_count": 32,
      "outputs": []
    },
    {
      "cell_type": "markdown",
      "source": [
        "Random Forest"
      ],
      "metadata": {
        "id": "vMt15IW0Vr51"
      },
      "id": "vMt15IW0Vr51"
    },
    {
      "cell_type": "code",
      "source": [
        "X_rf = train[['keyword', 'lstm_pred', 'bert_pred']]\n",
        "y_rf = train['target']\n",
        "test_rf = test[['keyword', 'lstm_pred', 'bert_pred']]"
      ],
      "metadata": {
        "id": "UuPJtt8k1J7d"
      },
      "execution_count": 33,
      "outputs": [],
      "id": "UuPJtt8k1J7d"
    },
    {
      "cell_type": "code",
      "source": [
        "#LabelEncoder for keywords\n",
        "le = LabelEncoder()\n",
        "X_rf['keyword'] = le.fit_transform(X_rf['keyword'])\n",
        "test_rf['keyword'] = le.transform(test_rf['keyword'])"
      ],
      "metadata": {
        "colab": {
          "base_uri": "https://localhost:8080/"
        },
        "id": "_NQFbkjd1J_q",
        "outputId": "7d771ca4-fcfe-46b1-d7f5-47ada61e7a52"
      },
      "execution_count": 34,
      "outputs": [
        {
          "output_type": "stream",
          "name": "stderr",
          "text": [
            "/usr/local/lib/python3.7/dist-packages/ipykernel_launcher.py:3: SettingWithCopyWarning: \n",
            "A value is trying to be set on a copy of a slice from a DataFrame.\n",
            "Try using .loc[row_indexer,col_indexer] = value instead\n",
            "\n",
            "See the caveats in the documentation: https://pandas.pydata.org/pandas-docs/stable/user_guide/indexing.html#returning-a-view-versus-a-copy\n",
            "  This is separate from the ipykernel package so we can avoid doing imports until\n",
            "/usr/local/lib/python3.7/dist-packages/ipykernel_launcher.py:4: SettingWithCopyWarning: \n",
            "A value is trying to be set on a copy of a slice from a DataFrame.\n",
            "Try using .loc[row_indexer,col_indexer] = value instead\n",
            "\n",
            "See the caveats in the documentation: https://pandas.pydata.org/pandas-docs/stable/user_guide/indexing.html#returning-a-view-versus-a-copy\n",
            "  after removing the cwd from sys.path.\n"
          ]
        }
      ],
      "id": "_NQFbkjd1J_q"
    },
    {
      "cell_type": "code",
      "source": [
        "#Split to train and validation data\n",
        "X_train_rf, X_val_rf, y_train_rf, y_val_rf = train_test_split(X_rf, y_rf, test_size=0.2, random_state = 42)"
      ],
      "metadata": {
        "id": "nVDZ06hb2kXI"
      },
      "execution_count": 35,
      "outputs": [],
      "id": "nVDZ06hb2kXI"
    },
    {
      "cell_type": "code",
      "source": [
        "#Random Forest model\n",
        "rf = RandomForestClassifier(random_state=42)\n",
        "\n",
        "rf.fit(X_train_rf, y_train_rf)\n",
        "\n",
        "y_pred_rf = rf.predict(X_val_rf)\n",
        "\n",
        "print(\"Accuracy Score: \", accuracy_score(y_val_rf, y_pred_rf))\n",
        "plt.figure(figsize = (8,6))\n",
        "\n",
        "sns.heatmap(confusion_matrix(y_val_rf, y_pred_rf), annot=True, fmt='', cmap='Blues')\n",
        "\n",
        "plt.xlabel('Predicted')\n",
        "plt.ylabel('Real')"
      ],
      "metadata": {
        "colab": {
          "base_uri": "https://localhost:8080/",
          "height": 423
        },
        "id": "Okb7zasT2N64",
        "outputId": "398518b0-f757-40eb-db85-59b2ffa49e66"
      },
      "execution_count": 36,
      "outputs": [
        {
          "output_type": "stream",
          "name": "stdout",
          "text": [
            "Accuracy Score:  0.9212081418253447\n"
          ]
        },
        {
          "output_type": "execute_result",
          "data": {
            "text/plain": [
              "Text(51.0, 0.5, 'Real')"
            ]
          },
          "metadata": {},
          "execution_count": 36
        },
        {
          "output_type": "display_data",
          "data": {
            "text/plain": [
              "<Figure size 576x432 with 2 Axes>"
            ],
            "image/png": "[encoded data removed]"
          },
          "metadata": {
            "needs_background": "light"
          }
        }
      ],
      "id": "Okb7zasT2N64"
    },
    {
      "cell_type": "code",
      "source": [
        "#Store result and submission\n",
        "target = rf.predict(test_rf)\n",
        "test['target'] = target\n",
        "sub_rf = test[['id','target']].copy()\n",
        "sub_rf.to_csv('submission_rf.csv', index = False)\n",
        "files.download('submission_rf.csv')\n",
        "#Result: 0.81244"
      ],
      "metadata": {
        "colab": {
          "base_uri": "https://localhost:8080/",
          "height": 17
        },
        "id": "EQfZKfwV5Qao",
        "outputId": "4f6471b8-5e60-4247-d201-34b154f0500f"
      },
      "execution_count": 37,
      "outputs": [
        {
          "output_type": "display_data",
          "data": {
            "text/plain": [
              "<IPython.core.display.Javascript object>"
            ],
            "application/javascript": [
              "\n",
              "    async function download(id, filename, size) {\n",
              "      if (!google.colab.kernel.accessAllowed) {\n",
              "        return;\n",
              "      }\n",
              "      const div = document.createElement('div');\n",
              "      const label = document.createElement('label');\n",
              "      label.textContent = `Downloading \"${filename}\": `;\n",
              "      div.appendChild(label);\n",
              "      const progress = document.createElement('progress');\n",
              "      progress.max = size;\n",
              "      div.appendChild(progress);\n",
              "      document.body.appendChild(div);\n",
              "\n",
              "      const buffers = [];\n",
              "      let downloaded = 0;\n",
              "\n",
              "      const channel = await google.colab.kernel.comms.open(id);\n",
              "      // Send a message to notify the kernel that we're ready.\n",
              "      channel.send({})\n",
              "\n",
              "      for await (const message of channel.messages) {\n",
              "        // Send a message to notify the kernel that we're ready.\n",
              "        channel.send({})\n",
              "        if (message.buffers) {\n",
              "          for (const buffer of message.buffers) {\n",
              "            buffers.push(buffer);\n",
              "            downloaded += buffer.byteLength;\n",
              "            progress.value = downloaded;\n",
              "          }\n",
              "        }\n",
              "      }\n",
              "      const blob = new Blob(buffers, {type: 'application/binary'});\n",
              "      const a = document.createElement('a');\n",
              "      a.href = window.URL.createObjectURL(blob);\n",
              "      a.download = filename;\n",
              "      div.appendChild(a);\n",
              "      a.click();\n",
              "      div.remove();\n",
              "    }\n",
              "  "
            ]
          },
          "metadata": {}
        },
        {
          "output_type": "display_data",
          "data": {
            "text/plain": [
              "<IPython.core.display.Javascript object>"
            ],
            "application/javascript": [
              "download(\"download_6972464f-9fc9-47a0-b3cc-cf74b78d478a\", \"submission_rf.csv\", 22746)"
            ]
          },
          "metadata": {}
        }
      ],
      "id": "EQfZKfwV5Qao"
    },
    {
      "cell_type": "markdown",
      "source": [
        "When we combine BERT with Random Forest, it does not improve. \n",
        "\n",
        "Conbining keyword with the lstm and bert result seems not a good move.\n",
        "\n",
        "Try to use Naive Bayes to replace the keyword, since naive bayes is kind of similar (or even upgrade) of using the keyword column.\n"
      ],
      "metadata": {
        "id": "s8U77EdD6OQq"
      },
      "id": "s8U77EdD6OQq"
    },
    {
      "cell_type": "code",
      "source": [
        "new_test = test[['id','text','lstm_pred','bert_pred']]\n",
        "new_test['lstm_target'] = new_test['lstm_pred'].apply(lambda x: 1 if x>=0.5 else 0)\n",
        "new_test['bert_target'] = new_test['bert_pred'].apply(lambda x: 1 if x>=0.5 else 0)"
      ],
      "metadata": {
        "id": "MV43FJQEGy8S",
        "colab": {
          "base_uri": "https://localhost:8080/"
        },
        "outputId": "5519057c-07c1-45a7-bc68-a992b5952101"
      },
      "id": "MV43FJQEGy8S",
      "execution_count": 84,
      "outputs": [
        {
          "output_type": "stream",
          "name": "stderr",
          "text": [
            "/usr/local/lib/python3.7/dist-packages/ipykernel_launcher.py:2: SettingWithCopyWarning: \n",
            "A value is trying to be set on a copy of a slice from a DataFrame.\n",
            "Try using .loc[row_indexer,col_indexer] = value instead\n",
            "\n",
            "See the caveats in the documentation: https://pandas.pydata.org/pandas-docs/stable/user_guide/indexing.html#returning-a-view-versus-a-copy\n",
            "  \n",
            "/usr/local/lib/python3.7/dist-packages/ipykernel_launcher.py:3: SettingWithCopyWarning: \n",
            "A value is trying to be set on a copy of a slice from a DataFrame.\n",
            "Try using .loc[row_indexer,col_indexer] = value instead\n",
            "\n",
            "See the caveats in the documentation: https://pandas.pydata.org/pandas-docs/stable/user_guide/indexing.html#returning-a-view-versus-a-copy\n",
            "  This is separate from the ipykernel package so we can avoid doing imports until\n"
          ]
        }
      ]
    },
    {
      "cell_type": "code",
      "source": [
        "new_test.head()"
      ],
      "metadata": {
        "id": "AtP_5csaHl-W",
        "outputId": "81f4e956-5bee-4162-ebc9-a42b3f5273ef",
        "colab": {
          "base_uri": "https://localhost:8080/",
          "height": 206
        }
      },
      "id": "AtP_5csaHl-W",
      "execution_count": 85,
      "outputs": [
        {
          "output_type": "execute_result",
          "data": {
            "text/plain": [
              "   id                                               text  lstm_pred  \\\n",
              "0   0                       happened terrible car crash    0.748958   \n",
              "1   2  heard earthquake different city stay safe ever...   0.562884   \n",
              "2   3  forest fire spot pond goose fleeing across str...   0.915640   \n",
              "3   9              apocalypse lighting spokane wildfire    0.796574   \n",
              "4  11             typhoon soudelor kill 28 china taiwan    0.956360   \n",
              "\n",
              "   bert_pred  lstm_target  bert_target  \n",
              "0   0.979075            1            1  \n",
              "1   0.983847            1            1  \n",
              "2   0.985144            1            1  \n",
              "3   0.997879            1            1  \n",
              "4   0.997724            1            1  "
            ],
            "text/html": [
              "\n",
              "  <div id=\"df-838c9baf-13d1-4a3c-a6d3-2189deee5373\">\n",
              "    <div class=\"colab-df-container\">\n",
              "      <div>\n",
              "<style scoped>\n",
              "    .dataframe tbody tr th:only-of-type {\n",
              "        vertical-align: middle;\n",
              "    }\n",
              "\n",
              "    .dataframe tbody tr th {\n",
              "        vertical-align: top;\n",
              "    }\n",
              "\n",
              "    .dataframe thead th {\n",
              "        text-align: right;\n",
              "    }\n",
              "</style>\n",
              "<table border=\"1\" class=\"dataframe\">\n",
              "  <thead>\n",
              "    <tr style=\"text-align: right;\">\n",
              "      <th></th>\n",
              "      <th>id</th>\n",
              "      <th>text</th>\n",
              "      <th>lstm_pred</th>\n",
              "      <th>bert_pred</th>\n",
              "      <th>lstm_target</th>\n",
              "      <th>bert_target</th>\n",
              "    </tr>\n",
              "  </thead>\n",
              "  <tbody>\n",
              "    <tr>\n",
              "      <th>0</th>\n",
              "      <td>0</td>\n",
              "      <td>happened terrible car crash</td>\n",
              "      <td>0.748958</td>\n",
              "      <td>0.979075</td>\n",
              "      <td>1</td>\n",
              "      <td>1</td>\n",
              "    </tr>\n",
              "    <tr>\n",
              "      <th>1</th>\n",
              "      <td>2</td>\n",
              "      <td>heard earthquake different city stay safe ever...</td>\n",
              "      <td>0.562884</td>\n",
              "      <td>0.983847</td>\n",
              "      <td>1</td>\n",
              "      <td>1</td>\n",
              "    </tr>\n",
              "    <tr>\n",
              "      <th>2</th>\n",
              "      <td>3</td>\n",
              "      <td>forest fire spot pond goose fleeing across str...</td>\n",
              "      <td>0.915640</td>\n",
              "      <td>0.985144</td>\n",
              "      <td>1</td>\n",
              "      <td>1</td>\n",
              "    </tr>\n",
              "    <tr>\n",
              "      <th>3</th>\n",
              "      <td>9</td>\n",
              "      <td>apocalypse lighting spokane wildfire</td>\n",
              "      <td>0.796574</td>\n",
              "      <td>0.997879</td>\n",
              "      <td>1</td>\n",
              "      <td>1</td>\n",
              "    </tr>\n",
              "    <tr>\n",
              "      <th>4</th>\n",
              "      <td>11</td>\n",
              "      <td>typhoon soudelor kill 28 china taiwan</td>\n",
              "      <td>0.956360</td>\n",
              "      <td>0.997724</td>\n",
              "      <td>1</td>\n",
              "      <td>1</td>\n",
              "    </tr>\n",
              "  </tbody>\n",
              "</table>\n",
              "</div>\n",
              "      <button class=\"colab-df-convert\" onclick=\"convertToInteractive('df-838c9baf-13d1-4a3c-a6d3-2189deee5373')\"\n",
              "              title=\"Convert this dataframe to an interactive table.\"\n",
              "              style=\"display:none;\">\n",
              "        \n",
              "  <svg xmlns=\"http://www.w3.org/2000/svg\" height=\"24px\"viewBox=\"0 0 24 24\"\n",
              "       width=\"24px\">\n",
              "    <path d=\"M0 0h24v24H0V0z\" fill=\"none\"/>\n",
              "    <path d=\"M18.56 5.44l.94 2.06.94-2.06 2.06-.94-2.06-.94-.94-2.06-.94 2.06-2.06.94zm-11 1L8.5 8.5l.94-2.06 2.06-.94-2.06-.94L8.5 2.5l-.94 2.06-2.06.94zm10 10l.94 2.06.94-2.06 2.06-.94-2.06-.94-.94-2.06-.94 2.06-2.06.94z\"/><path d=\"M17.41 7.96l-1.37-1.37c-.4-.4-.92-.59-1.43-.59-.52 0-1.04.2-1.43.59L10.3 9.45l-7.72 7.72c-.78.78-.78 2.05 0 2.83L4 21.41c.39.39.9.59 1.41.59.51 0 1.02-.2 1.41-.59l7.78-7.78 2.81-2.81c.8-.78.8-2.07 0-2.86zM5.41 20L4 18.59l7.72-7.72 1.47 1.35L5.41 20z\"/>\n",
              "  </svg>\n",
              "      </button>\n",
              "      \n",
              "  <style>\n",
              "    .colab-df-container {\n",
              "      display:flex;\n",
              "      flex-wrap:wrap;\n",
              "      gap: 12px;\n",
              "    }\n",
              "\n",
              "    .colab-df-convert {\n",
              "      background-color: #E8F0FE;\n",
              "      border: none;\n",
              "      border-radius: 50%;\n",
              "      cursor: pointer;\n",
              "      display: none;\n",
              "      fill: #1967D2;\n",
              "      height: 32px;\n",
              "      padding: 0 0 0 0;\n",
              "      width: 32px;\n",
              "    }\n",
              "\n",
              "    .colab-df-convert:hover {\n",
              "      background-color: #E2EBFA;\n",
              "      box-shadow: 0px 1px 2px rgba(60, 64, 67, 0.3), 0px 1px 3px 1px rgba(60, 64, 67, 0.15);\n",
              "      fill: #174EA6;\n",
              "    }\n",
              "\n",
              "    [theme=dark] .colab-df-convert {\n",
              "      background-color: #3B4455;\n",
              "      fill: #D2E3FC;\n",
              "    }\n",
              "\n",
              "    [theme=dark] .colab-df-convert:hover {\n",
              "      background-color: #434B5C;\n",
              "      box-shadow: 0px 1px 3px 1px rgba(0, 0, 0, 0.15);\n",
              "      filter: drop-shadow(0px 1px 2px rgba(0, 0, 0, 0.3));\n",
              "      fill: #FFFFFF;\n",
              "    }\n",
              "  </style>\n",
              "\n",
              "      <script>\n",
              "        const buttonEl =\n",
              "          document.querySelector('#df-838c9baf-13d1-4a3c-a6d3-2189deee5373 button.colab-df-convert');\n",
              "        buttonEl.style.display =\n",
              "          google.colab.kernel.accessAllowed ? 'block' : 'none';\n",
              "\n",
              "        async function convertToInteractive(key) {\n",
              "          const element = document.querySelector('#df-838c9baf-13d1-4a3c-a6d3-2189deee5373');\n",
              "          const dataTable =\n",
              "            await google.colab.kernel.invokeFunction('convertToInteractive',\n",
              "                                                     [key], {});\n",
              "          if (!dataTable) return;\n",
              "\n",
              "          const docLinkHtml = 'Like what you see? Visit the ' +\n",
              "            '<a target=\"_blank\" href=https://colab.research.google.com/notebooks/data_table.ipynb>data table notebook</a>'\n",
              "            + ' to learn more about interactive tables.';\n",
              "          element.innerHTML = '';\n",
              "          dataTable['output_type'] = 'display_data';\n",
              "          await google.colab.output.renderOutput(dataTable, element);\n",
              "          const docLink = document.createElement('div');\n",
              "          docLink.innerHTML = docLinkHtml;\n",
              "          element.appendChild(docLink);\n",
              "        }\n",
              "      </script>\n",
              "    </div>\n",
              "  </div>\n",
              "  "
            ]
          },
          "metadata": {},
          "execution_count": 85
        }
      ]
    },
    {
      "cell_type": "code",
      "source": [
        "from sklearn import metrics\n",
        "from sklearn.naive_bayes import MultinomialNB, GaussianNB\n",
        "from sklearn.feature_extraction.text import CountVectorizer"
      ],
      "metadata": {
        "id": "tEHamHW6cts7"
      },
      "id": "tEHamHW6cts7",
      "execution_count": 43,
      "outputs": []
    },
    {
      "cell_type": "code",
      "source": [
        "#Vectorizer for NB\n",
        "vectorizer = CountVectorizer(stop_words='english')\n",
        "X = vectorizer.fit_transform(train['text'])\n",
        "y = train['target']\n",
        "test_X = vectorizer.transform(test['text'])"
      ],
      "metadata": {
        "id": "aFZnnCd9ct0k"
      },
      "id": "aFZnnCd9ct0k",
      "execution_count": 88,
      "outputs": []
    },
    {
      "cell_type": "code",
      "source": [
        "X_train, X_test, y_train, y_test = train_test_split(X, y, test_size=0.3, random_state=0)"
      ],
      "metadata": {
        "id": "MfGk3CA1ct4E"
      },
      "id": "MfGk3CA1ct4E",
      "execution_count": 108,
      "outputs": []
    },
    {
      "cell_type": "code",
      "source": [
        "#train and evaluate models with different alpha values\n",
        "alpha_values = np.arange(0.01, 10, 0.01)\n",
        "accuracy_scores = []\n",
        "\n",
        "for alpha in alpha_values:\n",
        "    NB = MultinomialNB(alpha=alpha)\n",
        "    NB.fit(X_train, y_train)\n",
        "    accuracy_scores.append(metrics.accuracy_score(y_test, NB.predict(X_test)))\n",
        "\n",
        "performance_NB = pd.DataFrame(columns=['alpha', 'accuracy'])\n",
        "performance_NB['alpha'] = alpha_values\n",
        "performance_NB['accuracy'] = accuracy_scores\n",
        "performance_NB.head()"
      ],
      "metadata": {
        "colab": {
          "base_uri": "https://localhost:8080/",
          "height": 206
        },
        "id": "AGxh6K43dq43",
        "outputId": "0cf99b1c-5329-4f35-d3e3-5801fbbf53cc"
      },
      "id": "AGxh6K43dq43",
      "execution_count": 109,
      "outputs": [
        {
          "output_type": "execute_result",
          "data": {
            "text/plain": [
              "   alpha  accuracy\n",
              "0   0.01  0.760070\n",
              "1   0.02  0.763135\n",
              "2   0.03  0.765324\n",
              "3   0.04  0.767075\n",
              "4   0.05  0.769264"
            ],
            "text/html": [
              "\n",
              "  <div id=\"df-67cb67c2-7f1e-47ef-9f28-c2fcf05e6b96\">\n",
              "    <div class=\"colab-df-container\">\n",
              "      <div>\n",
              "<style scoped>\n",
              "    .dataframe tbody tr th:only-of-type {\n",
              "        vertical-align: middle;\n",
              "    }\n",
              "\n",
              "    .dataframe tbody tr th {\n",
              "        vertical-align: top;\n",
              "    }\n",
              "\n",
              "    .dataframe thead th {\n",
              "        text-align: right;\n",
              "    }\n",
              "</style>\n",
              "<table border=\"1\" class=\"dataframe\">\n",
              "  <thead>\n",
              "    <tr style=\"text-align: right;\">\n",
              "      <th></th>\n",
              "      <th>alpha</th>\n",
              "      <th>accuracy</th>\n",
              "    </tr>\n",
              "  </thead>\n",
              "  <tbody>\n",
              "    <tr>\n",
              "      <th>0</th>\n",
              "      <td>0.01</td>\n",
              "      <td>0.760070</td>\n",
              "    </tr>\n",
              "    <tr>\n",
              "      <th>1</th>\n",
              "      <td>0.02</td>\n",
              "      <td>0.763135</td>\n",
              "    </tr>\n",
              "    <tr>\n",
              "      <th>2</th>\n",
              "      <td>0.03</td>\n",
              "      <td>0.765324</td>\n",
              "    </tr>\n",
              "    <tr>\n",
              "      <th>3</th>\n",
              "      <td>0.04</td>\n",
              "      <td>0.767075</td>\n",
              "    </tr>\n",
              "    <tr>\n",
              "      <th>4</th>\n",
              "      <td>0.05</td>\n",
              "      <td>0.769264</td>\n",
              "    </tr>\n",
              "  </tbody>\n",
              "</table>\n",
              "</div>\n",
              "      <button class=\"colab-df-convert\" onclick=\"convertToInteractive('df-67cb67c2-7f1e-47ef-9f28-c2fcf05e6b96')\"\n",
              "              title=\"Convert this dataframe to an interactive table.\"\n",
              "              style=\"display:none;\">\n",
              "        \n",
              "  <svg xmlns=\"http://www.w3.org/2000/svg\" height=\"24px\"viewBox=\"0 0 24 24\"\n",
              "       width=\"24px\">\n",
              "    <path d=\"M0 0h24v24H0V0z\" fill=\"none\"/>\n",
              "    <path d=\"M18.56 5.44l.94 2.06.94-2.06 2.06-.94-2.06-.94-.94-2.06-.94 2.06-2.06.94zm-11 1L8.5 8.5l.94-2.06 2.06-.94-2.06-.94L8.5 2.5l-.94 2.06-2.06.94zm10 10l.94 2.06.94-2.06 2.06-.94-2.06-.94-.94-2.06-.94 2.06-2.06.94z\"/><path d=\"M17.41 7.96l-1.37-1.37c-.4-.4-.92-.59-1.43-.59-.52 0-1.04.2-1.43.59L10.3 9.45l-7.72 7.72c-.78.78-.78 2.05 0 2.83L4 21.41c.39.39.9.59 1.41.59.51 0 1.02-.2 1.41-.59l7.78-7.78 2.81-2.81c.8-.78.8-2.07 0-2.86zM5.41 20L4 18.59l7.72-7.72 1.47 1.35L5.41 20z\"/>\n",
              "  </svg>\n",
              "      </button>\n",
              "      \n",
              "  <style>\n",
              "    .colab-df-container {\n",
              "      display:flex;\n",
              "      flex-wrap:wrap;\n",
              "      gap: 12px;\n",
              "    }\n",
              "\n",
              "    .colab-df-convert {\n",
              "      background-color: #E8F0FE;\n",
              "      border: none;\n",
              "      border-radius: 50%;\n",
              "      cursor: pointer;\n",
              "      display: none;\n",
              "      fill: #1967D2;\n",
              "      height: 32px;\n",
              "      padding: 0 0 0 0;\n",
              "      width: 32px;\n",
              "    }\n",
              "\n",
              "    .colab-df-convert:hover {\n",
              "      background-color: #E2EBFA;\n",
              "      box-shadow: 0px 1px 2px rgba(60, 64, 67, 0.3), 0px 1px 3px 1px rgba(60, 64, 67, 0.15);\n",
              "      fill: #174EA6;\n",
              "    }\n",
              "\n",
              "    [theme=dark] .colab-df-convert {\n",
              "      background-color: #3B4455;\n",
              "      fill: #D2E3FC;\n",
              "    }\n",
              "\n",
              "    [theme=dark] .colab-df-convert:hover {\n",
              "      background-color: #434B5C;\n",
              "      box-shadow: 0px 1px 3px 1px rgba(0, 0, 0, 0.15);\n",
              "      filter: drop-shadow(0px 1px 2px rgba(0, 0, 0, 0.3));\n",
              "      fill: #FFFFFF;\n",
              "    }\n",
              "  </style>\n",
              "\n",
              "      <script>\n",
              "        const buttonEl =\n",
              "          document.querySelector('#df-67cb67c2-7f1e-47ef-9f28-c2fcf05e6b96 button.colab-df-convert');\n",
              "        buttonEl.style.display =\n",
              "          google.colab.kernel.accessAllowed ? 'block' : 'none';\n",
              "\n",
              "        async function convertToInteractive(key) {\n",
              "          const element = document.querySelector('#df-67cb67c2-7f1e-47ef-9f28-c2fcf05e6b96');\n",
              "          const dataTable =\n",
              "            await google.colab.kernel.invokeFunction('convertToInteractive',\n",
              "                                                     [key], {});\n",
              "          if (!dataTable) return;\n",
              "\n",
              "          const docLinkHtml = 'Like what you see? Visit the ' +\n",
              "            '<a target=\"_blank\" href=https://colab.research.google.com/notebooks/data_table.ipynb>data table notebook</a>'\n",
              "            + ' to learn more about interactive tables.';\n",
              "          element.innerHTML = '';\n",
              "          dataTable['output_type'] = 'display_data';\n",
              "          await google.colab.output.renderOutput(dataTable, element);\n",
              "          const docLink = document.createElement('div');\n",
              "          docLink.innerHTML = docLinkHtml;\n",
              "          element.appendChild(docLink);\n",
              "        }\n",
              "      </script>\n",
              "    </div>\n",
              "  </div>\n",
              "  "
            ]
          },
          "metadata": {},
          "execution_count": 109
        }
      ]
    },
    {
      "cell_type": "code",
      "source": [
        "#finds the best alpha value\n",
        "best_index = performance_NB['accuracy'].idxmax()\n",
        "performance_NB.iloc[best_index, :]"
      ],
      "metadata": {
        "colab": {
          "base_uri": "https://localhost:8080/"
        },
        "id": "4udqhPevdxV1",
        "outputId": "1c286841-b0e0-4080-fd24-cb3cb19e03de"
      },
      "id": "4udqhPevdxV1",
      "execution_count": 110,
      "outputs": [
        {
          "output_type": "execute_result",
          "data": {
            "text/plain": [
              "alpha       3.670000\n",
              "accuracy    0.801664\n",
              "Name: 366, dtype: float64"
            ]
          },
          "metadata": {},
          "execution_count": 110
        }
      ]
    },
    {
      "cell_type": "code",
      "source": [
        "#Apply the best alpha\n",
        "NB = MultinomialNB(alpha=3.67)\n",
        "NB.fit(X_train, y_train)"
      ],
      "metadata": {
        "colab": {
          "base_uri": "https://localhost:8080/"
        },
        "id": "vsWxeagEewn8",
        "outputId": "8fec2b4e-613d-47a3-e184-ef5f4d4ba057"
      },
      "id": "vsWxeagEewn8",
      "execution_count": 99,
      "outputs": [
        {
          "output_type": "execute_result",
          "data": {
            "text/plain": [
              "MultinomialNB(alpha=3.67)"
            ]
          },
          "metadata": {},
          "execution_count": 99
        }
      ]
    },
    {
      "cell_type": "code",
      "source": [
        "new_test['NB_target'] = NB.predict(test_X)"
      ],
      "metadata": {
        "id": "axI8blXxfHZx"
      },
      "id": "axI8blXxfHZx",
      "execution_count": 100,
      "outputs": []
    },
    {
      "cell_type": "code",
      "source": [
        "new_test.head()"
      ],
      "metadata": {
        "colab": {
          "base_uri": "https://localhost:8080/",
          "height": 206
        },
        "id": "U_GBrWfrlqhC",
        "outputId": "b01fef16-a4d6-4d26-b8dd-8242ab9caf2e"
      },
      "id": "U_GBrWfrlqhC",
      "execution_count": 104,
      "outputs": [
        {
          "output_type": "execute_result",
          "data": {
            "text/plain": [
              "   id                                               text  lstm_pred  \\\n",
              "0   0                       happened terrible car crash    0.748958   \n",
              "1   2  heard earthquake different city stay safe ever...   0.562884   \n",
              "2   3  forest fire spot pond goose fleeing across str...   0.915640   \n",
              "3   9              apocalypse lighting spokane wildfire    0.796574   \n",
              "4  11             typhoon soudelor kill 28 china taiwan    0.956360   \n",
              "\n",
              "   bert_pred  lstm_target  bert_target  NB_target  vote  target  \n",
              "0   0.979075            1            1          1     3       1  \n",
              "1   0.983847            1            1          1     3       1  \n",
              "2   0.985144            1            1          1     3       1  \n",
              "3   0.997879            1            1          1     3       1  \n",
              "4   0.997724            1            1          1     3       1  "
            ],
            "text/html": [
              "\n",
              "  <div id=\"df-b9c9be85-8b5e-447e-9c92-402856f56f83\">\n",
              "    <div class=\"colab-df-container\">\n",
              "      <div>\n",
              "<style scoped>\n",
              "    .dataframe tbody tr th:only-of-type {\n",
              "        vertical-align: middle;\n",
              "    }\n",
              "\n",
              "    .dataframe tbody tr th {\n",
              "        vertical-align: top;\n",
              "    }\n",
              "\n",
              "    .dataframe thead th {\n",
              "        text-align: right;\n",
              "    }\n",
              "</style>\n",
              "<table border=\"1\" class=\"dataframe\">\n",
              "  <thead>\n",
              "    <tr style=\"text-align: right;\">\n",
              "      <th></th>\n",
              "      <th>id</th>\n",
              "      <th>text</th>\n",
              "      <th>lstm_pred</th>\n",
              "      <th>bert_pred</th>\n",
              "      <th>lstm_target</th>\n",
              "      <th>bert_target</th>\n",
              "      <th>NB_target</th>\n",
              "      <th>vote</th>\n",
              "      <th>target</th>\n",
              "    </tr>\n",
              "  </thead>\n",
              "  <tbody>\n",
              "    <tr>\n",
              "      <th>0</th>\n",
              "      <td>0</td>\n",
              "      <td>happened terrible car crash</td>\n",
              "      <td>0.748958</td>\n",
              "      <td>0.979075</td>\n",
              "      <td>1</td>\n",
              "      <td>1</td>\n",
              "      <td>1</td>\n",
              "      <td>3</td>\n",
              "      <td>1</td>\n",
              "    </tr>\n",
              "    <tr>\n",
              "      <th>1</th>\n",
              "      <td>2</td>\n",
              "      <td>heard earthquake different city stay safe ever...</td>\n",
              "      <td>0.562884</td>\n",
              "      <td>0.983847</td>\n",
              "      <td>1</td>\n",
              "      <td>1</td>\n",
              "      <td>1</td>\n",
              "      <td>3</td>\n",
              "      <td>1</td>\n",
              "    </tr>\n",
              "    <tr>\n",
              "      <th>2</th>\n",
              "      <td>3</td>\n",
              "      <td>forest fire spot pond goose fleeing across str...</td>\n",
              "      <td>0.915640</td>\n",
              "      <td>0.985144</td>\n",
              "      <td>1</td>\n",
              "      <td>1</td>\n",
              "      <td>1</td>\n",
              "      <td>3</td>\n",
              "      <td>1</td>\n",
              "    </tr>\n",
              "    <tr>\n",
              "      <th>3</th>\n",
              "      <td>9</td>\n",
              "      <td>apocalypse lighting spokane wildfire</td>\n",
              "      <td>0.796574</td>\n",
              "      <td>0.997879</td>\n",
              "      <td>1</td>\n",
              "      <td>1</td>\n",
              "      <td>1</td>\n",
              "      <td>3</td>\n",
              "      <td>1</td>\n",
              "    </tr>\n",
              "    <tr>\n",
              "      <th>4</th>\n",
              "      <td>11</td>\n",
              "      <td>typhoon soudelor kill 28 china taiwan</td>\n",
              "      <td>0.956360</td>\n",
              "      <td>0.997724</td>\n",
              "      <td>1</td>\n",
              "      <td>1</td>\n",
              "      <td>1</td>\n",
              "      <td>3</td>\n",
              "      <td>1</td>\n",
              "    </tr>\n",
              "  </tbody>\n",
              "</table>\n",
              "</div>\n",
              "      <button class=\"colab-df-convert\" onclick=\"convertToInteractive('df-b9c9be85-8b5e-447e-9c92-402856f56f83')\"\n",
              "              title=\"Convert this dataframe to an interactive table.\"\n",
              "              style=\"display:none;\">\n",
              "        \n",
              "  <svg xmlns=\"http://www.w3.org/2000/svg\" height=\"24px\"viewBox=\"0 0 24 24\"\n",
              "       width=\"24px\">\n",
              "    <path d=\"M0 0h24v24H0V0z\" fill=\"none\"/>\n",
              "    <path d=\"M18.56 5.44l.94 2.06.94-2.06 2.06-.94-2.06-.94-.94-2.06-.94 2.06-2.06.94zm-11 1L8.5 8.5l.94-2.06 2.06-.94-2.06-.94L8.5 2.5l-.94 2.06-2.06.94zm10 10l.94 2.06.94-2.06 2.06-.94-2.06-.94-.94-2.06-.94 2.06-2.06.94z\"/><path d=\"M17.41 7.96l-1.37-1.37c-.4-.4-.92-.59-1.43-.59-.52 0-1.04.2-1.43.59L10.3 9.45l-7.72 7.72c-.78.78-.78 2.05 0 2.83L4 21.41c.39.39.9.59 1.41.59.51 0 1.02-.2 1.41-.59l7.78-7.78 2.81-2.81c.8-.78.8-2.07 0-2.86zM5.41 20L4 18.59l7.72-7.72 1.47 1.35L5.41 20z\"/>\n",
              "  </svg>\n",
              "      </button>\n",
              "      \n",
              "  <style>\n",
              "    .colab-df-container {\n",
              "      display:flex;\n",
              "      flex-wrap:wrap;\n",
              "      gap: 12px;\n",
              "    }\n",
              "\n",
              "    .colab-df-convert {\n",
              "      background-color: #E8F0FE;\n",
              "      border: none;\n",
              "      border-radius: 50%;\n",
              "      cursor: pointer;\n",
              "      display: none;\n",
              "      fill: #1967D2;\n",
              "      height: 32px;\n",
              "      padding: 0 0 0 0;\n",
              "      width: 32px;\n",
              "    }\n",
              "\n",
              "    .colab-df-convert:hover {\n",
              "      background-color: #E2EBFA;\n",
              "      box-shadow: 0px 1px 2px rgba(60, 64, 67, 0.3), 0px 1px 3px 1px rgba(60, 64, 67, 0.15);\n",
              "      fill: #174EA6;\n",
              "    }\n",
              "\n",
              "    [theme=dark] .colab-df-convert {\n",
              "      background-color: #3B4455;\n",
              "      fill: #D2E3FC;\n",
              "    }\n",
              "\n",
              "    [theme=dark] .colab-df-convert:hover {\n",
              "      background-color: #434B5C;\n",
              "      box-shadow: 0px 1px 3px 1px rgba(0, 0, 0, 0.15);\n",
              "      filter: drop-shadow(0px 1px 2px rgba(0, 0, 0, 0.3));\n",
              "      fill: #FFFFFF;\n",
              "    }\n",
              "  </style>\n",
              "\n",
              "      <script>\n",
              "        const buttonEl =\n",
              "          document.querySelector('#df-b9c9be85-8b5e-447e-9c92-402856f56f83 button.colab-df-convert');\n",
              "        buttonEl.style.display =\n",
              "          google.colab.kernel.accessAllowed ? 'block' : 'none';\n",
              "\n",
              "        async function convertToInteractive(key) {\n",
              "          const element = document.querySelector('#df-b9c9be85-8b5e-447e-9c92-402856f56f83');\n",
              "          const dataTable =\n",
              "            await google.colab.kernel.invokeFunction('convertToInteractive',\n",
              "                                                     [key], {});\n",
              "          if (!dataTable) return;\n",
              "\n",
              "          const docLinkHtml = 'Like what you see? Visit the ' +\n",
              "            '<a target=\"_blank\" href=https://colab.research.google.com/notebooks/data_table.ipynb>data table notebook</a>'\n",
              "            + ' to learn more about interactive tables.';\n",
              "          element.innerHTML = '';\n",
              "          dataTable['output_type'] = 'display_data';\n",
              "          await google.colab.output.renderOutput(dataTable, element);\n",
              "          const docLink = document.createElement('div');\n",
              "          docLink.innerHTML = docLinkHtml;\n",
              "          element.appendChild(docLink);\n",
              "        }\n",
              "      </script>\n",
              "    </div>\n",
              "  </div>\n",
              "  "
            ]
          },
          "metadata": {},
          "execution_count": 104
        }
      ]
    },
    {
      "cell_type": "code",
      "source": [
        "#Vote for majority\n",
        "new_test['vote'] = new_test['lstm_target']+new_test['bert_target']+new_test['NB_target']\n",
        "new_test['target'] = new_test['vote'].apply(lambda x: 1 if x>1 else 0)"
      ],
      "metadata": {
        "id": "gCWuorK5sBxw"
      },
      "id": "gCWuorK5sBxw",
      "execution_count": 102,
      "outputs": []
    },
    {
      "cell_type": "code",
      "source": [
        "sub_final = new_test[['id','target']].copy()\n",
        "sub_final.to_csv('submission_final.csv', index = False)\n",
        "files.download('submission_final.csv')\n",
        "#Result:0.81642"
      ],
      "metadata": {
        "colab": {
          "base_uri": "https://localhost:8080/",
          "height": 17
        },
        "id": "zRFIVCbKuZQk",
        "outputId": "4142698e-a0cf-44f9-9655-668087731c83"
      },
      "id": "zRFIVCbKuZQk",
      "execution_count": 80,
      "outputs": [
        {
          "output_type": "display_data",
          "data": {
            "text/plain": [
              "<IPython.core.display.Javascript object>"
            ],
            "application/javascript": [
              "\n",
              "    async function download(id, filename, size) {\n",
              "      if (!google.colab.kernel.accessAllowed) {\n",
              "        return;\n",
              "      }\n",
              "      const div = document.createElement('div');\n",
              "      const label = document.createElement('label');\n",
              "      label.textContent = `Downloading \"${filename}\": `;\n",
              "      div.appendChild(label);\n",
              "      const progress = document.createElement('progress');\n",
              "      progress.max = size;\n",
              "      div.appendChild(progress);\n",
              "      document.body.appendChild(div);\n",
              "\n",
              "      const buffers = [];\n",
              "      let downloaded = 0;\n",
              "\n",
              "      const channel = await google.colab.kernel.comms.open(id);\n",
              "      // Send a message to notify the kernel that we're ready.\n",
              "      channel.send({})\n",
              "\n",
              "      for await (const message of channel.messages) {\n",
              "        // Send a message to notify the kernel that we're ready.\n",
              "        channel.send({})\n",
              "        if (message.buffers) {\n",
              "          for (const buffer of message.buffers) {\n",
              "            buffers.push(buffer);\n",
              "            downloaded += buffer.byteLength;\n",
              "            progress.value = downloaded;\n",
              "          }\n",
              "        }\n",
              "      }\n",
              "      const blob = new Blob(buffers, {type: 'application/binary'});\n",
              "      const a = document.createElement('a');\n",
              "      a.href = window.URL.createObjectURL(blob);\n",
              "      a.download = filename;\n",
              "      div.appendChild(a);\n",
              "      a.click();\n",
              "      div.remove();\n",
              "    }\n",
              "  "
            ]
          },
          "metadata": {}
        },
        {
          "output_type": "display_data",
          "data": {
            "text/plain": [
              "<IPython.core.display.Javascript object>"
            ],
            "application/javascript": [
              "download(\"download_345bb841-d5f1-42f8-8c3c-dcbc37697ac6\", \"submission_final.csv\", 22746)"
            ]
          },
          "metadata": {}
        }
      ]
    },
    {
      "cell_type": "markdown",
      "source": [
        "The moethod of apply Naive Bayes and vote for majority does not improve.\n",
        "\n",
        "The reason may be the keywords are already contained in the text, which BERT already deal with it.\n",
        "\n",
        "Also BERT is too good to deal with text. By observeing the testing result, we can find out that when BERT's prediction is different from the other two model's, BERT usually predict correctly.\n",
        "\n",
        "In conclusion, BERT is awesome!\n",
        "\n",
        "Future Improvement:\n",
        "\n",
        "1. Apply the Large BERT Model\n",
        "2. Better data cleanning process\n",
        "3. Fine tuning \n",
        "4. Other model (Glove, RoBERTa...)"
      ],
      "metadata": {
        "id": "Oq6YvVtn2Uhj"
      },
      "id": "Oq6YvVtn2Uhj"
    }
  ],
  "metadata": {
    "kernelspec": {
      "display_name": "Python 3.9 (tensorflow)",
      "language": "python",
      "name": "tensorflow"
    },
    "language_info": {
      "codemirror_mode": {
        "name": "ipython",
        "version": 3
      },
      "file_extension": ".py",
      "mimetype": "text/x-python",
      "name": "python",
      "nbconvert_exporter": "python",
      "pygments_lexer": "ipython3",
      "version": "3.9.13"
    },
    "colab": {
      "provenance": [],
      "collapsed_sections": [],
      "include_colab_link": true
    },
    "gpuClass": "standard",
    "accelerator": "GPU",
    "widgets": {
      "application/vnd.jupyter.widget-state+json": {
        "484646931571425d8f566df7defefdbd": {
          "model_module": "@jupyter-widgets/controls",
          "model_name": "HBoxModel",
          "model_module_version": "1.5.0",
          "state": {
            "_dom_classes": [],
            "_model_module": "@jupyter-widgets/controls",
            "_model_module_version": "1.5.0",
            "_model_name": "HBoxModel",
            "_view_count": null,
            "_view_module": "@jupyter-widgets/controls",
            "_view_module_version": "1.5.0",
            "_view_name": "HBoxView",
            "box_style": "",
            "children": [
              "IPY_MODEL_cf85cc4b9b1243b6b415a06b631d00de",
              "IPY_MODEL_e851ab514f1f4b23b1b85850c94ae67d",
              "IPY_MODEL_5c0aff53c0dc4fdeb037087f90a7876f"
            ],
            "layout": "IPY_MODEL_c201543aa1d74165a0dcbc574e7a2ecd"
          }
        },
        "cf85cc4b9b1243b6b415a06b631d00de": {
          "model_module": "@jupyter-widgets/controls",
          "model_name": "HTMLModel",
          "model_module_version": "1.5.0",
          "state": {
            "_dom_classes": [],
            "_model_module": "@jupyter-widgets/controls",
            "_model_module_version": "1.5.0",
            "_model_name": "HTMLModel",
            "_view_count": null,
            "_view_module": "@jupyter-widgets/controls",
            "_view_module_version": "1.5.0",
            "_view_name": "HTMLView",
            "description": "",
            "description_tooltip": null,
            "layout": "IPY_MODEL_bcaf30bb62b94b7b8714b84293d2b69a",
            "placeholder": "​",
            "style": "IPY_MODEL_c0eb94865ffc40959595f002bbd4d294",
            "value": ""
          }
        },
        "e851ab514f1f4b23b1b85850c94ae67d": {
          "model_module": "@jupyter-widgets/controls",
          "model_name": "FloatProgressModel",
          "model_module_version": "1.5.0",
          "state": {
            "_dom_classes": [],
            "_model_module": "@jupyter-widgets/controls",
            "_model_module_version": "1.5.0",
            "_model_name": "FloatProgressModel",
            "_view_count": null,
            "_view_module": "@jupyter-widgets/controls",
            "_view_module_version": "1.5.0",
            "_view_name": "ProgressView",
            "bar_style": "success",
            "description": "",
            "description_tooltip": null,
            "layout": "IPY_MODEL_803aac1f15e74f18b4b92da228ba6e46",
            "max": 1,
            "min": 0,
            "orientation": "horizontal",
            "style": "IPY_MODEL_230f7852d634460a8fe97138376f9370",
            "value": 0
          }
        },
        "5c0aff53c0dc4fdeb037087f90a7876f": {
          "model_module": "@jupyter-widgets/controls",
          "model_name": "HTMLModel",
          "model_module_version": "1.5.0",
          "state": {
            "_dom_classes": [],
            "_model_module": "@jupyter-widgets/controls",
            "_model_module_version": "1.5.0",
            "_model_name": "HTMLModel",
            "_view_count": null,
            "_view_module": "@jupyter-widgets/controls",
            "_view_module_version": "1.5.0",
            "_view_name": "HTMLView",
            "description": "",
            "description_tooltip": null,
            "layout": "IPY_MODEL_6c00c331381e4fd0b8ee33f76f940d5a",
            "placeholder": "​",
            "style": "IPY_MODEL_87ea56c0973b4d03af00328a726b60d4",
            "value": " 0/0 [00:00&lt;?, ?it/s]"
          }
        },
        "c201543aa1d74165a0dcbc574e7a2ecd": {
          "model_module": "@jupyter-widgets/base",
          "model_name": "LayoutModel",
          "model_module_version": "1.2.0",
          "state": {
            "_model_module": "@jupyter-widgets/base",
            "_model_module_version": "1.2.0",
            "_model_name": "LayoutModel",
            "_view_count": null,
            "_view_module": "@jupyter-widgets/base",
            "_view_module_version": "1.2.0",
            "_view_name": "LayoutView",
            "align_content": null,
            "align_items": null,
            "align_self": null,
            "border": null,
            "bottom": null,
            "display": null,
            "flex": null,
            "flex_flow": null,
            "grid_area": null,
            "grid_auto_columns": null,
            "grid_auto_flow": null,
            "grid_auto_rows": null,
            "grid_column": null,
            "grid_gap": null,
            "grid_row": null,
            "grid_template_areas": null,
            "grid_template_columns": null,
            "grid_template_rows": null,
            "height": null,
            "justify_content": null,
            "justify_items": null,
            "left": null,
            "margin": null,
            "max_height": null,
            "max_width": null,
            "min_height": null,
            "min_width": null,
            "object_fit": null,
            "object_position": null,
            "order": null,
            "overflow": null,
            "overflow_x": null,
            "overflow_y": null,
            "padding": null,
            "right": null,
            "top": null,
            "visibility": null,
            "width": null
          }
        },
        "bcaf30bb62b94b7b8714b84293d2b69a": {
          "model_module": "@jupyter-widgets/base",
          "model_name": "LayoutModel",
          "model_module_version": "1.2.0",
          "state": {
            "_model_module": "@jupyter-widgets/base",
            "_model_module_version": "1.2.0",
            "_model_name": "LayoutModel",
            "_view_count": null,
            "_view_module": "@jupyter-widgets/base",
            "_view_module_version": "1.2.0",
            "_view_name": "LayoutView",
            "align_content": null,
            "align_items": null,
            "align_self": null,
            "border": null,
            "bottom": null,
            "display": null,
            "flex": null,
            "flex_flow": null,
            "grid_area": null,
            "grid_auto_columns": null,
            "grid_auto_flow": null,
            "grid_auto_rows": null,
            "grid_column": null,
            "grid_gap": null,
            "grid_row": null,
            "grid_template_areas": null,
            "grid_template_columns": null,
            "grid_template_rows": null,
            "height": null,
            "justify_content": null,
            "justify_items": null,
            "left": null,
            "margin": null,
            "max_height": null,
            "max_width": null,
            "min_height": null,
            "min_width": null,
            "object_fit": null,
            "object_position": null,
            "order": null,
            "overflow": null,
            "overflow_x": null,
            "overflow_y": null,
            "padding": null,
            "right": null,
            "top": null,
            "visibility": null,
            "width": null
          }
        },
        "c0eb94865ffc40959595f002bbd4d294": {
          "model_module": "@jupyter-widgets/controls",
          "model_name": "DescriptionStyleModel",
          "model_module_version": "1.5.0",
          "state": {
            "_model_module": "@jupyter-widgets/controls",
            "_model_module_version": "1.5.0",
            "_model_name": "DescriptionStyleModel",
            "_view_count": null,
            "_view_module": "@jupyter-widgets/base",
            "_view_module_version": "1.2.0",
            "_view_name": "StyleView",
            "description_width": ""
          }
        },
        "803aac1f15e74f18b4b92da228ba6e46": {
          "model_module": "@jupyter-widgets/base",
          "model_name": "LayoutModel",
          "model_module_version": "1.2.0",
          "state": {
            "_model_module": "@jupyter-widgets/base",
            "_model_module_version": "1.2.0",
            "_model_name": "LayoutModel",
            "_view_count": null,
            "_view_module": "@jupyter-widgets/base",
            "_view_module_version": "1.2.0",
            "_view_name": "LayoutView",
            "align_content": null,
            "align_items": null,
            "align_self": null,
            "border": null,
            "bottom": null,
            "display": null,
            "flex": null,
            "flex_flow": null,
            "grid_area": null,
            "grid_auto_columns": null,
            "grid_auto_flow": null,
            "grid_auto_rows": null,
            "grid_column": null,
            "grid_gap": null,
            "grid_row": null,
            "grid_template_areas": null,
            "grid_template_columns": null,
            "grid_template_rows": null,
            "height": null,
            "justify_content": null,
            "justify_items": null,
            "left": null,
            "margin": null,
            "max_height": null,
            "max_width": null,
            "min_height": null,
            "min_width": null,
            "object_fit": null,
            "object_position": null,
            "order": null,
            "overflow": null,
            "overflow_x": null,
            "overflow_y": null,
            "padding": null,
            "right": null,
            "top": null,
            "visibility": null,
            "width": "20px"
          }
        },
        "230f7852d634460a8fe97138376f9370": {
          "model_module": "@jupyter-widgets/controls",
          "model_name": "ProgressStyleModel",
          "model_module_version": "1.5.0",
          "state": {
            "_model_module": "@jupyter-widgets/controls",
            "_model_module_version": "1.5.0",
            "_model_name": "ProgressStyleModel",
            "_view_count": null,
            "_view_module": "@jupyter-widgets/base",
            "_view_module_version": "1.2.0",
            "_view_name": "StyleView",
            "bar_color": null,
            "description_width": ""
          }
        },
        "6c00c331381e4fd0b8ee33f76f940d5a": {
          "model_module": "@jupyter-widgets/base",
          "model_name": "LayoutModel",
          "model_module_version": "1.2.0",
          "state": {
            "_model_module": "@jupyter-widgets/base",
            "_model_module_version": "1.2.0",
            "_model_name": "LayoutModel",
            "_view_count": null,
            "_view_module": "@jupyter-widgets/base",
            "_view_module_version": "1.2.0",
            "_view_name": "LayoutView",
            "align_content": null,
            "align_items": null,
            "align_self": null,
            "border": null,
            "bottom": null,
            "display": null,
            "flex": null,
            "flex_flow": null,
            "grid_area": null,
            "grid_auto_columns": null,
            "grid_auto_flow": null,
            "grid_auto_rows": null,
            "grid_column": null,
            "grid_gap": null,
            "grid_row": null,
            "grid_template_areas": null,
            "grid_template_columns": null,
            "grid_template_rows": null,
            "height": null,
            "justify_content": null,
            "justify_items": null,
            "left": null,
            "margin": null,
            "max_height": null,
            "max_width": null,
            "min_height": null,
            "min_width": null,
            "object_fit": null,
            "object_position": null,
            "order": null,
            "overflow": null,
            "overflow_x": null,
            "overflow_y": null,
            "padding": null,
            "right": null,
            "top": null,
            "visibility": null,
            "width": null
          }
        },
        "87ea56c0973b4d03af00328a726b60d4": {
          "model_module": "@jupyter-widgets/controls",
          "model_name": "DescriptionStyleModel",
          "model_module_version": "1.5.0",
          "state": {
            "_model_module": "@jupyter-widgets/controls",
            "_model_module_version": "1.5.0",
            "_model_name": "DescriptionStyleModel",
            "_view_count": null,
            "_view_module": "@jupyter-widgets/base",
            "_view_module_version": "1.2.0",
            "_view_name": "StyleView",
            "description_width": ""
          }
        },
        "a4db0c2277564ababe603cd3b5ce4acb": {
          "model_module": "@jupyter-widgets/controls",
          "model_name": "HBoxModel",
          "model_module_version": "1.5.0",
          "state": {
            "_dom_classes": [],
            "_model_module": "@jupyter-widgets/controls",
            "_model_module_version": "1.5.0",
            "_model_name": "HBoxModel",
            "_view_count": null,
            "_view_module": "@jupyter-widgets/controls",
            "_view_module_version": "1.5.0",
            "_view_name": "HBoxView",
            "box_style": "",
            "children": [
              "IPY_MODEL_981f1b654f74458b83be6b37be954172",
              "IPY_MODEL_8b407cb038004145aa9b7850c359a023",
              "IPY_MODEL_fbd536df71c943d88c7e29f6cdeda455"
            ],
            "layout": "IPY_MODEL_8381bb9af9ef4a84ad52bfadcdf02e56"
          }
        },
        "981f1b654f74458b83be6b37be954172": {
          "model_module": "@jupyter-widgets/controls",
          "model_name": "HTMLModel",
          "model_module_version": "1.5.0",
          "state": {
            "_dom_classes": [],
            "_model_module": "@jupyter-widgets/controls",
            "_model_module_version": "1.5.0",
            "_model_name": "HTMLModel",
            "_view_count": null,
            "_view_module": "@jupyter-widgets/controls",
            "_view_module_version": "1.5.0",
            "_view_name": "HTMLView",
            "description": "",
            "description_tooltip": null,
            "layout": "IPY_MODEL_f1eab299e381470788046e2a2920dbad",
            "placeholder": "​",
            "style": "IPY_MODEL_4134dafab54d40739cae402425013ef0",
            "value": "Downloading: 100%"
          }
        },
        "8b407cb038004145aa9b7850c359a023": {
          "model_module": "@jupyter-widgets/controls",
          "model_name": "FloatProgressModel",
          "model_module_version": "1.5.0",
          "state": {
            "_dom_classes": [],
            "_model_module": "@jupyter-widgets/controls",
            "_model_module_version": "1.5.0",
            "_model_name": "FloatProgressModel",
            "_view_count": null,
            "_view_module": "@jupyter-widgets/controls",
            "_view_module_version": "1.5.0",
            "_view_name": "ProgressView",
            "bar_style": "success",
            "description": "",
            "description_tooltip": null,
            "layout": "IPY_MODEL_cd1e4b42341a462da5220f19f2a56b76",
            "max": 231508,
            "min": 0,
            "orientation": "horizontal",
            "style": "IPY_MODEL_3105d00ba6f7409c975aaab64bc33629",
            "value": 231508
          }
        },
        "fbd536df71c943d88c7e29f6cdeda455": {
          "model_module": "@jupyter-widgets/controls",
          "model_name": "HTMLModel",
          "model_module_version": "1.5.0",
          "state": {
            "_dom_classes": [],
            "_model_module": "@jupyter-widgets/controls",
            "_model_module_version": "1.5.0",
            "_model_name": "HTMLModel",
            "_view_count": null,
            "_view_module": "@jupyter-widgets/controls",
            "_view_module_version": "1.5.0",
            "_view_name": "HTMLView",
            "description": "",
            "description_tooltip": null,
            "layout": "IPY_MODEL_cc424796acb34146af4360a3cf18ff17",
            "placeholder": "​",
            "style": "IPY_MODEL_9ed5f1c30887479294a067f92ecebbe3",
            "value": " 232k/232k [00:00&lt;00:00, 504kB/s]"
          }
        },
        "8381bb9af9ef4a84ad52bfadcdf02e56": {
          "model_module": "@jupyter-widgets/base",
          "model_name": "LayoutModel",
          "model_module_version": "1.2.0",
          "state": {
            "_model_module": "@jupyter-widgets/base",
            "_model_module_version": "1.2.0",
            "_model_name": "LayoutModel",
            "_view_count": null,
            "_view_module": "@jupyter-widgets/base",
            "_view_module_version": "1.2.0",
            "_view_name": "LayoutView",
            "align_content": null,
            "align_items": null,
            "align_self": null,
            "border": null,
            "bottom": null,
            "display": null,
            "flex": null,
            "flex_flow": null,
            "grid_area": null,
            "grid_auto_columns": null,
            "grid_auto_flow": null,
            "grid_auto_rows": null,
            "grid_column": null,
            "grid_gap": null,
            "grid_row": null,
            "grid_template_areas": null,
            "grid_template_columns": null,
            "grid_template_rows": null,
            "height": null,
            "justify_content": null,
            "justify_items": null,
            "left": null,
            "margin": null,
            "max_height": null,
            "max_width": null,
            "min_height": null,
            "min_width": null,
            "object_fit": null,
            "object_position": null,
            "order": null,
            "overflow": null,
            "overflow_x": null,
            "overflow_y": null,
            "padding": null,
            "right": null,
            "top": null,
            "visibility": null,
            "width": null
          }
        },
        "f1eab299e381470788046e2a2920dbad": {
          "model_module": "@jupyter-widgets/base",
          "model_name": "LayoutModel",
          "model_module_version": "1.2.0",
          "state": {
            "_model_module": "@jupyter-widgets/base",
            "_model_module_version": "1.2.0",
            "_model_name": "LayoutModel",
            "_view_count": null,
            "_view_module": "@jupyter-widgets/base",
            "_view_module_version": "1.2.0",
            "_view_name": "LayoutView",
            "align_content": null,
            "align_items": null,
            "align_self": null,
            "border": null,
            "bottom": null,
            "display": null,
            "flex": null,
            "flex_flow": null,
            "grid_area": null,
            "grid_auto_columns": null,
            "grid_auto_flow": null,
            "grid_auto_rows": null,
            "grid_column": null,
            "grid_gap": null,
            "grid_row": null,
            "grid_template_areas": null,
            "grid_template_columns": null,
            "grid_template_rows": null,
            "height": null,
            "justify_content": null,
            "justify_items": null,
            "left": null,
            "margin": null,
            "max_height": null,
            "max_width": null,
            "min_height": null,
            "min_width": null,
            "object_fit": null,
            "object_position": null,
            "order": null,
            "overflow": null,
            "overflow_x": null,
            "overflow_y": null,
            "padding": null,
            "right": null,
            "top": null,
            "visibility": null,
            "width": null
          }
        },
        "4134dafab54d40739cae402425013ef0": {
          "model_module": "@jupyter-widgets/controls",
          "model_name": "DescriptionStyleModel",
          "model_module_version": "1.5.0",
          "state": {
            "_model_module": "@jupyter-widgets/controls",
            "_model_module_version": "1.5.0",
            "_model_name": "DescriptionStyleModel",
            "_view_count": null,
            "_view_module": "@jupyter-widgets/base",
            "_view_module_version": "1.2.0",
            "_view_name": "StyleView",
            "description_width": ""
          }
        },
        "cd1e4b42341a462da5220f19f2a56b76": {
          "model_module": "@jupyter-widgets/base",
          "model_name": "LayoutModel",
          "model_module_version": "1.2.0",
          "state": {
            "_model_module": "@jupyter-widgets/base",
            "_model_module_version": "1.2.0",
            "_model_name": "LayoutModel",
            "_view_count": null,
            "_view_module": "@jupyter-widgets/base",
            "_view_module_version": "1.2.0",
            "_view_name": "LayoutView",
            "align_content": null,
            "align_items": null,
            "align_self": null,
            "border": null,
            "bottom": null,
            "display": null,
            "flex": null,
            "flex_flow": null,
            "grid_area": null,
            "grid_auto_columns": null,
            "grid_auto_flow": null,
            "grid_auto_rows": null,
            "grid_column": null,
            "grid_gap": null,
            "grid_row": null,
            "grid_template_areas": null,
            "grid_template_columns": null,
            "grid_template_rows": null,
            "height": null,
            "justify_content": null,
            "justify_items": null,
            "left": null,
            "margin": null,
            "max_height": null,
            "max_width": null,
            "min_height": null,
            "min_width": null,
            "object_fit": null,
            "object_position": null,
            "order": null,
            "overflow": null,
            "overflow_x": null,
            "overflow_y": null,
            "padding": null,
            "right": null,
            "top": null,
            "visibility": null,
            "width": null
          }
        },
        "3105d00ba6f7409c975aaab64bc33629": {
          "model_module": "@jupyter-widgets/controls",
          "model_name": "ProgressStyleModel",
          "model_module_version": "1.5.0",
          "state": {
            "_model_module": "@jupyter-widgets/controls",
            "_model_module_version": "1.5.0",
            "_model_name": "ProgressStyleModel",
            "_view_count": null,
            "_view_module": "@jupyter-widgets/base",
            "_view_module_version": "1.2.0",
            "_view_name": "StyleView",
            "bar_color": null,
            "description_width": ""
          }
        },
        "cc424796acb34146af4360a3cf18ff17": {
          "model_module": "@jupyter-widgets/base",
          "model_name": "LayoutModel",
          "model_module_version": "1.2.0",
          "state": {
            "_model_module": "@jupyter-widgets/base",
            "_model_module_version": "1.2.0",
            "_model_name": "LayoutModel",
            "_view_count": null,
            "_view_module": "@jupyter-widgets/base",
            "_view_module_version": "1.2.0",
            "_view_name": "LayoutView",
            "align_content": null,
            "align_items": null,
            "align_self": null,
            "border": null,
            "bottom": null,
            "display": null,
            "flex": null,
            "flex_flow": null,
            "grid_area": null,
            "grid_auto_columns": null,
            "grid_auto_flow": null,
            "grid_auto_rows": null,
            "grid_column": null,
            "grid_gap": null,
            "grid_row": null,
            "grid_template_areas": null,
            "grid_template_columns": null,
            "grid_template_rows": null,
            "height": null,
            "justify_content": null,
            "justify_items": null,
            "left": null,
            "margin": null,
            "max_height": null,
            "max_width": null,
            "min_height": null,
            "min_width": null,
            "object_fit": null,
            "object_position": null,
            "order": null,
            "overflow": null,
            "overflow_x": null,
            "overflow_y": null,
            "padding": null,
            "right": null,
            "top": null,
            "visibility": null,
            "width": null
          }
        },
        "9ed5f1c30887479294a067f92ecebbe3": {
          "model_module": "@jupyter-widgets/controls",
          "model_name": "DescriptionStyleModel",
          "model_module_version": "1.5.0",
          "state": {
            "_model_module": "@jupyter-widgets/controls",
            "_model_module_version": "1.5.0",
            "_model_name": "DescriptionStyleModel",
            "_view_count": null,
            "_view_module": "@jupyter-widgets/base",
            "_view_module_version": "1.2.0",
            "_view_name": "StyleView",
            "description_width": ""
          }
        },
        "8f1d8f6d9f8145edafc08a6e6ba306f1": {
          "model_module": "@jupyter-widgets/controls",
          "model_name": "HBoxModel",
          "model_module_version": "1.5.0",
          "state": {
            "_dom_classes": [],
            "_model_module": "@jupyter-widgets/controls",
            "_model_module_version": "1.5.0",
            "_model_name": "HBoxModel",
            "_view_count": null,
            "_view_module": "@jupyter-widgets/controls",
            "_view_module_version": "1.5.0",
            "_view_name": "HBoxView",
            "box_style": "",
            "children": [
              "IPY_MODEL_1d601c6266324d9a9b604182dc2ced70",
              "IPY_MODEL_ded0dc7a1ba54927bf5534abfd14efe7",
              "IPY_MODEL_4aff72149a35451dab61ec066966f982"
            ],
            "layout": "IPY_MODEL_1af6c69aa97c44149dc4991dcf963f4a"
          }
        },
        "1d601c6266324d9a9b604182dc2ced70": {
          "model_module": "@jupyter-widgets/controls",
          "model_name": "HTMLModel",
          "model_module_version": "1.5.0",
          "state": {
            "_dom_classes": [],
            "_model_module": "@jupyter-widgets/controls",
            "_model_module_version": "1.5.0",
            "_model_name": "HTMLModel",
            "_view_count": null,
            "_view_module": "@jupyter-widgets/controls",
            "_view_module_version": "1.5.0",
            "_view_name": "HTMLView",
            "description": "",
            "description_tooltip": null,
            "layout": "IPY_MODEL_1755a7cd7f9e49ffbbc704c704406aff",
            "placeholder": "​",
            "style": "IPY_MODEL_1ddece2d3383428687e0c9959a0e62ed",
            "value": "Downloading: 100%"
          }
        },
        "ded0dc7a1ba54927bf5534abfd14efe7": {
          "model_module": "@jupyter-widgets/controls",
          "model_name": "FloatProgressModel",
          "model_module_version": "1.5.0",
          "state": {
            "_dom_classes": [],
            "_model_module": "@jupyter-widgets/controls",
            "_model_module_version": "1.5.0",
            "_model_name": "FloatProgressModel",
            "_view_count": null,
            "_view_module": "@jupyter-widgets/controls",
            "_view_module_version": "1.5.0",
            "_view_name": "ProgressView",
            "bar_style": "success",
            "description": "",
            "description_tooltip": null,
            "layout": "IPY_MODEL_af21d9a846e44183b65e77b473459975",
            "max": 28,
            "min": 0,
            "orientation": "horizontal",
            "style": "IPY_MODEL_4999a9d1d2954cb3b45974b8237de807",
            "value": 28
          }
        },
        "4aff72149a35451dab61ec066966f982": {
          "model_module": "@jupyter-widgets/controls",
          "model_name": "HTMLModel",
          "model_module_version": "1.5.0",
          "state": {
            "_dom_classes": [],
            "_model_module": "@jupyter-widgets/controls",
            "_model_module_version": "1.5.0",
            "_model_name": "HTMLModel",
            "_view_count": null,
            "_view_module": "@jupyter-widgets/controls",
            "_view_module_version": "1.5.0",
            "_view_name": "HTMLView",
            "description": "",
            "description_tooltip": null,
            "layout": "IPY_MODEL_7cbd7dccf5a24772a3eb8013c76f0ffa",
            "placeholder": "​",
            "style": "IPY_MODEL_63249696ea3b46879f5979a28256350a",
            "value": " 28.0/28.0 [00:00&lt;00:00, 467B/s]"
          }
        },
        "1af6c69aa97c44149dc4991dcf963f4a": {
          "model_module": "@jupyter-widgets/base",
          "model_name": "LayoutModel",
          "model_module_version": "1.2.0",
          "state": {
            "_model_module": "@jupyter-widgets/base",
            "_model_module_version": "1.2.0",
            "_model_name": "LayoutModel",
            "_view_count": null,
            "_view_module": "@jupyter-widgets/base",
            "_view_module_version": "1.2.0",
            "_view_name": "LayoutView",
            "align_content": null,
            "align_items": null,
            "align_self": null,
            "border": null,
            "bottom": null,
            "display": null,
            "flex": null,
            "flex_flow": null,
            "grid_area": null,
            "grid_auto_columns": null,
            "grid_auto_flow": null,
            "grid_auto_rows": null,
            "grid_column": null,
            "grid_gap": null,
            "grid_row": null,
            "grid_template_areas": null,
            "grid_template_columns": null,
            "grid_template_rows": null,
            "height": null,
            "justify_content": null,
            "justify_items": null,
            "left": null,
            "margin": null,
            "max_height": null,
            "max_width": null,
            "min_height": null,
            "min_width": null,
            "object_fit": null,
            "object_position": null,
            "order": null,
            "overflow": null,
            "overflow_x": null,
            "overflow_y": null,
            "padding": null,
            "right": null,
            "top": null,
            "visibility": null,
            "width": null
          }
        },
        "1755a7cd7f9e49ffbbc704c704406aff": {
          "model_module": "@jupyter-widgets/base",
          "model_name": "LayoutModel",
          "model_module_version": "1.2.0",
          "state": {
            "_model_module": "@jupyter-widgets/base",
            "_model_module_version": "1.2.0",
            "_model_name": "LayoutModel",
            "_view_count": null,
            "_view_module": "@jupyter-widgets/base",
            "_view_module_version": "1.2.0",
            "_view_name": "LayoutView",
            "align_content": null,
            "align_items": null,
            "align_self": null,
            "border": null,
            "bottom": null,
            "display": null,
            "flex": null,
            "flex_flow": null,
            "grid_area": null,
            "grid_auto_columns": null,
            "grid_auto_flow": null,
            "grid_auto_rows": null,
            "grid_column": null,
            "grid_gap": null,
            "grid_row": null,
            "grid_template_areas": null,
            "grid_template_columns": null,
            "grid_template_rows": null,
            "height": null,
            "justify_content": null,
            "justify_items": null,
            "left": null,
            "margin": null,
            "max_height": null,
            "max_width": null,
            "min_height": null,
            "min_width": null,
            "object_fit": null,
            "object_position": null,
            "order": null,
            "overflow": null,
            "overflow_x": null,
            "overflow_y": null,
            "padding": null,
            "right": null,
            "top": null,
            "visibility": null,
            "width": null
          }
        },
        "1ddece2d3383428687e0c9959a0e62ed": {
          "model_module": "@jupyter-widgets/controls",
          "model_name": "DescriptionStyleModel",
          "model_module_version": "1.5.0",
          "state": {
            "_model_module": "@jupyter-widgets/controls",
            "_model_module_version": "1.5.0",
            "_model_name": "DescriptionStyleModel",
            "_view_count": null,
            "_view_module": "@jupyter-widgets/base",
            "_view_module_version": "1.2.0",
            "_view_name": "StyleView",
            "description_width": ""
          }
        },
        "af21d9a846e44183b65e77b473459975": {
          "model_module": "@jupyter-widgets/base",
          "model_name": "LayoutModel",
          "model_module_version": "1.2.0",
          "state": {
            "_model_module": "@jupyter-widgets/base",
            "_model_module_version": "1.2.0",
            "_model_name": "LayoutModel",
            "_view_count": null,
            "_view_module": "@jupyter-widgets/base",
            "_view_module_version": "1.2.0",
            "_view_name": "LayoutView",
            "align_content": null,
            "align_items": null,
            "align_self": null,
            "border": null,
            "bottom": null,
            "display": null,
            "flex": null,
            "flex_flow": null,
            "grid_area": null,
            "grid_auto_columns": null,
            "grid_auto_flow": null,
            "grid_auto_rows": null,
            "grid_column": null,
            "grid_gap": null,
            "grid_row": null,
            "grid_template_areas": null,
            "grid_template_columns": null,
            "grid_template_rows": null,
            "height": null,
            "justify_content": null,
            "justify_items": null,
            "left": null,
            "margin": null,
            "max_height": null,
            "max_width": null,
            "min_height": null,
            "min_width": null,
            "object_fit": null,
            "object_position": null,
            "order": null,
            "overflow": null,
            "overflow_x": null,
            "overflow_y": null,
            "padding": null,
            "right": null,
            "top": null,
            "visibility": null,
            "width": null
          }
        },
        "4999a9d1d2954cb3b45974b8237de807": {
          "model_module": "@jupyter-widgets/controls",
          "model_name": "ProgressStyleModel",
          "model_module_version": "1.5.0",
          "state": {
            "_model_module": "@jupyter-widgets/controls",
            "_model_module_version": "1.5.0",
            "_model_name": "ProgressStyleModel",
            "_view_count": null,
            "_view_module": "@jupyter-widgets/base",
            "_view_module_version": "1.2.0",
            "_view_name": "StyleView",
            "bar_color": null,
            "description_width": ""
          }
        },
        "7cbd7dccf5a24772a3eb8013c76f0ffa": {
          "model_module": "@jupyter-widgets/base",
          "model_name": "LayoutModel",
          "model_module_version": "1.2.0",
          "state": {
            "_model_module": "@jupyter-widgets/base",
            "_model_module_version": "1.2.0",
            "_model_name": "LayoutModel",
            "_view_count": null,
            "_view_module": "@jupyter-widgets/base",
            "_view_module_version": "1.2.0",
            "_view_name": "LayoutView",
            "align_content": null,
            "align_items": null,
            "align_self": null,
            "border": null,
            "bottom": null,
            "display": null,
            "flex": null,
            "flex_flow": null,
            "grid_area": null,
            "grid_auto_columns": null,
            "grid_auto_flow": null,
            "grid_auto_rows": null,
            "grid_column": null,
            "grid_gap": null,
            "grid_row": null,
            "grid_template_areas": null,
            "grid_template_columns": null,
            "grid_template_rows": null,
            "height": null,
            "justify_content": null,
            "justify_items": null,
            "left": null,
            "margin": null,
            "max_height": null,
            "max_width": null,
            "min_height": null,
            "min_width": null,
            "object_fit": null,
            "object_position": null,
            "order": null,
            "overflow": null,
            "overflow_x": null,
            "overflow_y": null,
            "padding": null,
            "right": null,
            "top": null,
            "visibility": null,
            "width": null
          }
        },
        "63249696ea3b46879f5979a28256350a": {
          "model_module": "@jupyter-widgets/controls",
          "model_name": "DescriptionStyleModel",
          "model_module_version": "1.5.0",
          "state": {
            "_model_module": "@jupyter-widgets/controls",
            "_model_module_version": "1.5.0",
            "_model_name": "DescriptionStyleModel",
            "_view_count": null,
            "_view_module": "@jupyter-widgets/base",
            "_view_module_version": "1.2.0",
            "_view_name": "StyleView",
            "description_width": ""
          }
        },
        "8b578dc74a57489688fbe96fd8f79981": {
          "model_module": "@jupyter-widgets/controls",
          "model_name": "HBoxModel",
          "model_module_version": "1.5.0",
          "state": {
            "_dom_classes": [],
            "_model_module": "@jupyter-widgets/controls",
            "_model_module_version": "1.5.0",
            "_model_name": "HBoxModel",
            "_view_count": null,
            "_view_module": "@jupyter-widgets/controls",
            "_view_module_version": "1.5.0",
            "_view_name": "HBoxView",
            "box_style": "",
            "children": [
              "IPY_MODEL_5149712a72474ff39ee4d7bf67708b53",
              "IPY_MODEL_392ef15546cc466b8c46b5b7617500d3",
              "IPY_MODEL_8165d0de943c4361b5a18303d0fcee6b"
            ],
            "layout": "IPY_MODEL_9fb31d1c7cc74280bbb8afc08d1d57bd"
          }
        },
        "5149712a72474ff39ee4d7bf67708b53": {
          "model_module": "@jupyter-widgets/controls",
          "model_name": "HTMLModel",
          "model_module_version": "1.5.0",
          "state": {
            "_dom_classes": [],
            "_model_module": "@jupyter-widgets/controls",
            "_model_module_version": "1.5.0",
            "_model_name": "HTMLModel",
            "_view_count": null,
            "_view_module": "@jupyter-widgets/controls",
            "_view_module_version": "1.5.0",
            "_view_name": "HTMLView",
            "description": "",
            "description_tooltip": null,
            "layout": "IPY_MODEL_e1341384c0b7427ba6057ad32851cb00",
            "placeholder": "​",
            "style": "IPY_MODEL_762a5eea6ba44ea0b7159fa7aa6cfc78",
            "value": "Downloading: 100%"
          }
        },
        "392ef15546cc466b8c46b5b7617500d3": {
          "model_module": "@jupyter-widgets/controls",
          "model_name": "FloatProgressModel",
          "model_module_version": "1.5.0",
          "state": {
            "_dom_classes": [],
            "_model_module": "@jupyter-widgets/controls",
            "_model_module_version": "1.5.0",
            "_model_name": "FloatProgressModel",
            "_view_count": null,
            "_view_module": "@jupyter-widgets/controls",
            "_view_module_version": "1.5.0",
            "_view_name": "ProgressView",
            "bar_style": "success",
            "description": "",
            "description_tooltip": null,
            "layout": "IPY_MODEL_78be741ff3194cc1b79af691cda289ef",
            "max": 570,
            "min": 0,
            "orientation": "horizontal",
            "style": "IPY_MODEL_af4856befcd54b42af6e1c3d8c2ea018",
            "value": 570
          }
        },
        "8165d0de943c4361b5a18303d0fcee6b": {
          "model_module": "@jupyter-widgets/controls",
          "model_name": "HTMLModel",
          "model_module_version": "1.5.0",
          "state": {
            "_dom_classes": [],
            "_model_module": "@jupyter-widgets/controls",
            "_model_module_version": "1.5.0",
            "_model_name": "HTMLModel",
            "_view_count": null,
            "_view_module": "@jupyter-widgets/controls",
            "_view_module_version": "1.5.0",
            "_view_name": "HTMLView",
            "description": "",
            "description_tooltip": null,
            "layout": "IPY_MODEL_d90a022fdbf04bb28b1cc1207aa13771",
            "placeholder": "​",
            "style": "IPY_MODEL_44e658a3fc644012916185d7ec19be0a",
            "value": " 570/570 [00:00&lt;00:00, 4.81kB/s]"
          }
        },
        "9fb31d1c7cc74280bbb8afc08d1d57bd": {
          "model_module": "@jupyter-widgets/base",
          "model_name": "LayoutModel",
          "model_module_version": "1.2.0",
          "state": {
            "_model_module": "@jupyter-widgets/base",
            "_model_module_version": "1.2.0",
            "_model_name": "LayoutModel",
            "_view_count": null,
            "_view_module": "@jupyter-widgets/base",
            "_view_module_version": "1.2.0",
            "_view_name": "LayoutView",
            "align_content": null,
            "align_items": null,
            "align_self": null,
            "border": null,
            "bottom": null,
            "display": null,
            "flex": null,
            "flex_flow": null,
            "grid_area": null,
            "grid_auto_columns": null,
            "grid_auto_flow": null,
            "grid_auto_rows": null,
            "grid_column": null,
            "grid_gap": null,
            "grid_row": null,
            "grid_template_areas": null,
            "grid_template_columns": null,
            "grid_template_rows": null,
            "height": null,
            "justify_content": null,
            "justify_items": null,
            "left": null,
            "margin": null,
            "max_height": null,
            "max_width": null,
            "min_height": null,
            "min_width": null,
            "object_fit": null,
            "object_position": null,
            "order": null,
            "overflow": null,
            "overflow_x": null,
            "overflow_y": null,
            "padding": null,
            "right": null,
            "top": null,
            "visibility": null,
            "width": null
          }
        },
        "e1341384c0b7427ba6057ad32851cb00": {
          "model_module": "@jupyter-widgets/base",
          "model_name": "LayoutModel",
          "model_module_version": "1.2.0",
          "state": {
            "_model_module": "@jupyter-widgets/base",
            "_model_module_version": "1.2.0",
            "_model_name": "LayoutModel",
            "_view_count": null,
            "_view_module": "@jupyter-widgets/base",
            "_view_module_version": "1.2.0",
            "_view_name": "LayoutView",
            "align_content": null,
            "align_items": null,
            "align_self": null,
            "border": null,
            "bottom": null,
            "display": null,
            "flex": null,
            "flex_flow": null,
            "grid_area": null,
            "grid_auto_columns": null,
            "grid_auto_flow": null,
            "grid_auto_rows": null,
            "grid_column": null,
            "grid_gap": null,
            "grid_row": null,
            "grid_template_areas": null,
            "grid_template_columns": null,
            "grid_template_rows": null,
            "height": null,
            "justify_content": null,
            "justify_items": null,
            "left": null,
            "margin": null,
            "max_height": null,
            "max_width": null,
            "min_height": null,
            "min_width": null,
            "object_fit": null,
            "object_position": null,
            "order": null,
            "overflow": null,
            "overflow_x": null,
            "overflow_y": null,
            "padding": null,
            "right": null,
            "top": null,
            "visibility": null,
            "width": null
          }
        },
        "762a5eea6ba44ea0b7159fa7aa6cfc78": {
          "model_module": "@jupyter-widgets/controls",
          "model_name": "DescriptionStyleModel",
          "model_module_version": "1.5.0",
          "state": {
            "_model_module": "@jupyter-widgets/controls",
            "_model_module_version": "1.5.0",
            "_model_name": "DescriptionStyleModel",
            "_view_count": null,
            "_view_module": "@jupyter-widgets/base",
            "_view_module_version": "1.2.0",
            "_view_name": "StyleView",
            "description_width": ""
          }
        },
        "78be741ff3194cc1b79af691cda289ef": {
          "model_module": "@jupyter-widgets/base",
          "model_name": "LayoutModel",
          "model_module_version": "1.2.0",
          "state": {
            "_model_module": "@jupyter-widgets/base",
            "_model_module_version": "1.2.0",
            "_model_name": "LayoutModel",
            "_view_count": null,
            "_view_module": "@jupyter-widgets/base",
            "_view_module_version": "1.2.0",
            "_view_name": "LayoutView",
            "align_content": null,
            "align_items": null,
            "align_self": null,
            "border": null,
            "bottom": null,
            "display": null,
            "flex": null,
            "flex_flow": null,
            "grid_area": null,
            "grid_auto_columns": null,
            "grid_auto_flow": null,
            "grid_auto_rows": null,
            "grid_column": null,
            "grid_gap": null,
            "grid_row": null,
            "grid_template_areas": null,
            "grid_template_columns": null,
            "grid_template_rows": null,
            "height": null,
            "justify_content": null,
            "justify_items": null,
            "left": null,
            "margin": null,
            "max_height": null,
            "max_width": null,
            "min_height": null,
            "min_width": null,
            "object_fit": null,
            "object_position": null,
            "order": null,
            "overflow": null,
            "overflow_x": null,
            "overflow_y": null,
            "padding": null,
            "right": null,
            "top": null,
            "visibility": null,
            "width": null
          }
        },
        "af4856befcd54b42af6e1c3d8c2ea018": {
          "model_module": "@jupyter-widgets/controls",
          "model_name": "ProgressStyleModel",
          "model_module_version": "1.5.0",
          "state": {
            "_model_module": "@jupyter-widgets/controls",
            "_model_module_version": "1.5.0",
            "_model_name": "ProgressStyleModel",
            "_view_count": null,
            "_view_module": "@jupyter-widgets/base",
            "_view_module_version": "1.2.0",
            "_view_name": "StyleView",
            "bar_color": null,
            "description_width": ""
          }
        },
        "d90a022fdbf04bb28b1cc1207aa13771": {
          "model_module": "@jupyter-widgets/base",
          "model_name": "LayoutModel",
          "model_module_version": "1.2.0",
          "state": {
            "_model_module": "@jupyter-widgets/base",
            "_model_module_version": "1.2.0",
            "_model_name": "LayoutModel",
            "_view_count": null,
            "_view_module": "@jupyter-widgets/base",
            "_view_module_version": "1.2.0",
            "_view_name": "LayoutView",
            "align_content": null,
            "align_items": null,
            "align_self": null,
            "border": null,
            "bottom": null,
            "display": null,
            "flex": null,
            "flex_flow": null,
            "grid_area": null,
            "grid_auto_columns": null,
            "grid_auto_flow": null,
            "grid_auto_rows": null,
            "grid_column": null,
            "grid_gap": null,
            "grid_row": null,
            "grid_template_areas": null,
            "grid_template_columns": null,
            "grid_template_rows": null,
            "height": null,
            "justify_content": null,
            "justify_items": null,
            "left": null,
            "margin": null,
            "max_height": null,
            "max_width": null,
            "min_height": null,
            "min_width": null,
            "object_fit": null,
            "object_position": null,
            "order": null,
            "overflow": null,
            "overflow_x": null,
            "overflow_y": null,
            "padding": null,
            "right": null,
            "top": null,
            "visibility": null,
            "width": null
          }
        },
        "44e658a3fc644012916185d7ec19be0a": {
          "model_module": "@jupyter-widgets/controls",
          "model_name": "DescriptionStyleModel",
          "model_module_version": "1.5.0",
          "state": {
            "_model_module": "@jupyter-widgets/controls",
            "_model_module_version": "1.5.0",
            "_model_name": "DescriptionStyleModel",
            "_view_count": null,
            "_view_module": "@jupyter-widgets/base",
            "_view_module_version": "1.2.0",
            "_view_name": "StyleView",
            "description_width": ""
          }
        },
        "90cdd366faa84f7ab25e993cc91e4212": {
          "model_module": "@jupyter-widgets/controls",
          "model_name": "HBoxModel",
          "model_module_version": "1.5.0",
          "state": {
            "_dom_classes": [],
            "_model_module": "@jupyter-widgets/controls",
            "_model_module_version": "1.5.0",
            "_model_name": "HBoxModel",
            "_view_count": null,
            "_view_module": "@jupyter-widgets/controls",
            "_view_module_version": "1.5.0",
            "_view_name": "HBoxView",
            "box_style": "",
            "children": [
              "IPY_MODEL_891fb2c0dc44400ab38a0828cbb12cae",
              "IPY_MODEL_379a771bbd484fbaab424430facbd541",
              "IPY_MODEL_0643efbc72c34bda9ee299e36b546c00"
            ],
            "layout": "IPY_MODEL_e653e1495272467ebb03117eff91e942"
          }
        },
        "891fb2c0dc44400ab38a0828cbb12cae": {
          "model_module": "@jupyter-widgets/controls",
          "model_name": "HTMLModel",
          "model_module_version": "1.5.0",
          "state": {
            "_dom_classes": [],
            "_model_module": "@jupyter-widgets/controls",
            "_model_module_version": "1.5.0",
            "_model_name": "HTMLModel",
            "_view_count": null,
            "_view_module": "@jupyter-widgets/controls",
            "_view_module_version": "1.5.0",
            "_view_name": "HTMLView",
            "description": "",
            "description_tooltip": null,
            "layout": "IPY_MODEL_adc24486d6aa4783b8b3211a98f663c7",
            "placeholder": "​",
            "style": "IPY_MODEL_33db930e9a374cb1858299bd34683fa5",
            "value": "Downloading: 100%"
          }
        },
        "379a771bbd484fbaab424430facbd541": {
          "model_module": "@jupyter-widgets/controls",
          "model_name": "FloatProgressModel",
          "model_module_version": "1.5.0",
          "state": {
            "_dom_classes": [],
            "_model_module": "@jupyter-widgets/controls",
            "_model_module_version": "1.5.0",
            "_model_name": "FloatProgressModel",
            "_view_count": null,
            "_view_module": "@jupyter-widgets/controls",
            "_view_module_version": "1.5.0",
            "_view_name": "ProgressView",
            "bar_style": "success",
            "description": "",
            "description_tooltip": null,
            "layout": "IPY_MODEL_156457419af54f3fb2903e936808fe74",
            "max": 536063208,
            "min": 0,
            "orientation": "horizontal",
            "style": "IPY_MODEL_e46531b2064d478c826453860cf8cf16",
            "value": 536063208
          }
        },
        "0643efbc72c34bda9ee299e36b546c00": {
          "model_module": "@jupyter-widgets/controls",
          "model_name": "HTMLModel",
          "model_module_version": "1.5.0",
          "state": {
            "_dom_classes": [],
            "_model_module": "@jupyter-widgets/controls",
            "_model_module_version": "1.5.0",
            "_model_name": "HTMLModel",
            "_view_count": null,
            "_view_module": "@jupyter-widgets/controls",
            "_view_module_version": "1.5.0",
            "_view_name": "HTMLView",
            "description": "",
            "description_tooltip": null,
            "layout": "IPY_MODEL_330bd431b258479bbfa52827771b7df1",
            "placeholder": "​",
            "style": "IPY_MODEL_21673a85e77442da927f6aa4c3f7c83a",
            "value": " 536M/536M [00:23&lt;00:00, 27.7MB/s]"
          }
        },
        "e653e1495272467ebb03117eff91e942": {
          "model_module": "@jupyter-widgets/base",
          "model_name": "LayoutModel",
          "model_module_version": "1.2.0",
          "state": {
            "_model_module": "@jupyter-widgets/base",
            "_model_module_version": "1.2.0",
            "_model_name": "LayoutModel",
            "_view_count": null,
            "_view_module": "@jupyter-widgets/base",
            "_view_module_version": "1.2.0",
            "_view_name": "LayoutView",
            "align_content": null,
            "align_items": null,
            "align_self": null,
            "border": null,
            "bottom": null,
            "display": null,
            "flex": null,
            "flex_flow": null,
            "grid_area": null,
            "grid_auto_columns": null,
            "grid_auto_flow": null,
            "grid_auto_rows": null,
            "grid_column": null,
            "grid_gap": null,
            "grid_row": null,
            "grid_template_areas": null,
            "grid_template_columns": null,
            "grid_template_rows": null,
            "height": null,
            "justify_content": null,
            "justify_items": null,
            "left": null,
            "margin": null,
            "max_height": null,
            "max_width": null,
            "min_height": null,
            "min_width": null,
            "object_fit": null,
            "object_position": null,
            "order": null,
            "overflow": null,
            "overflow_x": null,
            "overflow_y": null,
            "padding": null,
            "right": null,
            "top": null,
            "visibility": null,
            "width": null
          }
        },
        "adc24486d6aa4783b8b3211a98f663c7": {
          "model_module": "@jupyter-widgets/base",
          "model_name": "LayoutModel",
          "model_module_version": "1.2.0",
          "state": {
            "_model_module": "@jupyter-widgets/base",
            "_model_module_version": "1.2.0",
            "_model_name": "LayoutModel",
            "_view_count": null,
            "_view_module": "@jupyter-widgets/base",
            "_view_module_version": "1.2.0",
            "_view_name": "LayoutView",
            "align_content": null,
            "align_items": null,
            "align_self": null,
            "border": null,
            "bottom": null,
            "display": null,
            "flex": null,
            "flex_flow": null,
            "grid_area": null,
            "grid_auto_columns": null,
            "grid_auto_flow": null,
            "grid_auto_rows": null,
            "grid_column": null,
            "grid_gap": null,
            "grid_row": null,
            "grid_template_areas": null,
            "grid_template_columns": null,
            "grid_template_rows": null,
            "height": null,
            "justify_content": null,
            "justify_items": null,
            "left": null,
            "margin": null,
            "max_height": null,
            "max_width": null,
            "min_height": null,
            "min_width": null,
            "object_fit": null,
            "object_position": null,
            "order": null,
            "overflow": null,
            "overflow_x": null,
            "overflow_y": null,
            "padding": null,
            "right": null,
            "top": null,
            "visibility": null,
            "width": null
          }
        },
        "33db930e9a374cb1858299bd34683fa5": {
          "model_module": "@jupyter-widgets/controls",
          "model_name": "DescriptionStyleModel",
          "model_module_version": "1.5.0",
          "state": {
            "_model_module": "@jupyter-widgets/controls",
            "_model_module_version": "1.5.0",
            "_model_name": "DescriptionStyleModel",
            "_view_count": null,
            "_view_module": "@jupyter-widgets/base",
            "_view_module_version": "1.2.0",
            "_view_name": "StyleView",
            "description_width": ""
          }
        },
        "156457419af54f3fb2903e936808fe74": {
          "model_module": "@jupyter-widgets/base",
          "model_name": "LayoutModel",
          "model_module_version": "1.2.0",
          "state": {
            "_model_module": "@jupyter-widgets/base",
            "_model_module_version": "1.2.0",
            "_model_name": "LayoutModel",
            "_view_count": null,
            "_view_module": "@jupyter-widgets/base",
            "_view_module_version": "1.2.0",
            "_view_name": "LayoutView",
            "align_content": null,
            "align_items": null,
            "align_self": null,
            "border": null,
            "bottom": null,
            "display": null,
            "flex": null,
            "flex_flow": null,
            "grid_area": null,
            "grid_auto_columns": null,
            "grid_auto_flow": null,
            "grid_auto_rows": null,
            "grid_column": null,
            "grid_gap": null,
            "grid_row": null,
            "grid_template_areas": null,
            "grid_template_columns": null,
            "grid_template_rows": null,
            "height": null,
            "justify_content": null,
            "justify_items": null,
            "left": null,
            "margin": null,
            "max_height": null,
            "max_width": null,
            "min_height": null,
            "min_width": null,
            "object_fit": null,
            "object_position": null,
            "order": null,
            "overflow": null,
            "overflow_x": null,
            "overflow_y": null,
            "padding": null,
            "right": null,
            "top": null,
            "visibility": null,
            "width": null
          }
        },
        "e46531b2064d478c826453860cf8cf16": {
          "model_module": "@jupyter-widgets/controls",
          "model_name": "ProgressStyleModel",
          "model_module_version": "1.5.0",
          "state": {
            "_model_module": "@jupyter-widgets/controls",
            "_model_module_version": "1.5.0",
            "_model_name": "ProgressStyleModel",
            "_view_count": null,
            "_view_module": "@jupyter-widgets/base",
            "_view_module_version": "1.2.0",
            "_view_name": "StyleView",
            "bar_color": null,
            "description_width": ""
          }
        },
        "330bd431b258479bbfa52827771b7df1": {
          "model_module": "@jupyter-widgets/base",
          "model_name": "LayoutModel",
          "model_module_version": "1.2.0",
          "state": {
            "_model_module": "@jupyter-widgets/base",
            "_model_module_version": "1.2.0",
            "_model_name": "LayoutModel",
            "_view_count": null,
            "_view_module": "@jupyter-widgets/base",
            "_view_module_version": "1.2.0",
            "_view_name": "LayoutView",
            "align_content": null,
            "align_items": null,
            "align_self": null,
            "border": null,
            "bottom": null,
            "display": null,
            "flex": null,
            "flex_flow": null,
            "grid_area": null,
            "grid_auto_columns": null,
            "grid_auto_flow": null,
            "grid_auto_rows": null,
            "grid_column": null,
            "grid_gap": null,
            "grid_row": null,
            "grid_template_areas": null,
            "grid_template_columns": null,
            "grid_template_rows": null,
            "height": null,
            "justify_content": null,
            "justify_items": null,
            "left": null,
            "margin": null,
            "max_height": null,
            "max_width": null,
            "min_height": null,
            "min_width": null,
            "object_fit": null,
            "object_position": null,
            "order": null,
            "overflow": null,
            "overflow_x": null,
            "overflow_y": null,
            "padding": null,
            "right": null,
            "top": null,
            "visibility": null,
            "width": null
          }
        },
        "21673a85e77442da927f6aa4c3f7c83a": {
          "model_module": "@jupyter-widgets/controls",
          "model_name": "DescriptionStyleModel",
          "model_module_version": "1.5.0",
          "state": {
            "_model_module": "@jupyter-widgets/controls",
            "_model_module_version": "1.5.0",
            "_model_name": "DescriptionStyleModel",
            "_view_count": null,
            "_view_module": "@jupyter-widgets/base",
            "_view_module_version": "1.2.0",
            "_view_name": "StyleView",
            "description_width": ""
          }
        }
      }
    }
  },
  "nbformat": 4,
  "nbformat_minor": 5
}